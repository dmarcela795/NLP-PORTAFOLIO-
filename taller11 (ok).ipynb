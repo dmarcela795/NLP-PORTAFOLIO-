{
 "cells": [
  {
   "cell_type": "markdown",
   "metadata": {},
   "source": [
    "<img src='https://encrypted-tbn0.gstatic.com/images?q=tbn%3AANd9GcQ-VfNtOyJbsaxu43Kztf_cv1mgBG6ZIQZEVw&usqp=CAU'>\n",
    "\n",
    "# Procesamiento de Lenguage Natural\n",
    "\n",
    "## Taller #11: Twitter\n",
    "`Fecha de entrega: Mayo 20, 2021 (Antes del inicio de la próxima clase).`\n",
    "\n",
    "`Modo de entrega: Subir link de GitHub al aula virtual.`"
   ]
  },
  {
   "cell_type": "markdown",
   "metadata": {},
   "source": [
    "###  `[25 pts]` Punto 1: Extraer Tuits\n",
    "Extraer mínimo 100 tuits de Twitter usando la API\n",
    "\n",
    "❌ No escoger un tema de los que hicimos en clase (día de las madres, Giro de Italia, #EraGoldeYepes)"
   ]
  },
  {
   "cell_type": "code",
   "execution_count": 7,
   "metadata": {},
   "outputs": [],
   "source": [
    "import pandas as pd \n",
    "import tweepy"
   ]
  },
  {
   "cell_type": "code",
   "execution_count": 8,
   "metadata": {},
   "outputs": [],
   "source": [
    "keys = pd.read_csv(\"keys.csv\", header=None)"
   ]
  },
  {
   "cell_type": "code",
   "execution_count": 9,
   "metadata": {},
   "outputs": [
    {
     "data": {
      "text/plain": [
       "dict_keys(['api_key', 'api_secret_key', 'access_token', 'access_token_secret', 'bearer_token'])"
      ]
     },
     "execution_count": 9,
     "metadata": {},
     "output_type": "execute_result"
    }
   ],
   "source": [
    "# Leer las llaves\n",
    "keys = dict(zip(keys[0],keys[1]))\n",
    "keys.keys()"
   ]
  },
  {
   "cell_type": "code",
   "execution_count": 15,
   "metadata": {},
   "outputs": [],
   "source": [
    "# Autenticar a través de la API \n",
    "auth = tweepy.OAuthHandler(keys['api_key'], keys['api_secret_key'])\n",
    "auth.set_access_token(keys['access_token'], keys['access_token_secret'])\n",
    "api = tweepy.API(auth, wait_on_rate_limit=True)"
   ]
  },
  {
   "cell_type": "code",
   "execution_count": 16,
   "metadata": {},
   "outputs": [],
   "source": [
    "#TEMA: COVID 19\n",
    "\n",
    "tweets = tweepy.Cursor(api.search,\n",
    "                       q=['covid 19 -RT'],\n",
    "                       lang='es',\n",
    "                       geocode=f'4.7110,-74.0721,100km',\n",
    "                       tweet_mode='extended',\n",
    "                       include_rts=False).items(100)"
   ]
  },
  {
   "cell_type": "code",
   "execution_count": 17,
   "metadata": {},
   "outputs": [],
   "source": [
    "# Objeto generador\n",
    "t = [tweet for tweet in tweets]\n",
    "#t[0]"
   ]
  },
  {
   "cell_type": "code",
   "execution_count": 18,
   "metadata": {},
   "outputs": [],
   "source": [
    "t_processed = []\n",
    "\n",
    "for tweet in t:\n",
    "    temp = []\n",
    "    temp.append(tweet.full_text)\n",
    "    temp.append(tweet.created_at)\n",
    "    temp.append(\"Bogotá\")\n",
    "    temp.append(tweet.user.location)\n",
    "    temp.append(tweet.id)\n",
    "    temp.append(f\"https://twitter.com/i/web/status/{tweet.id}\")\n",
    "    \n",
    "    t_processed.append(temp)"
   ]
  },
  {
   "cell_type": "code",
   "execution_count": 20,
   "metadata": {},
   "outputs": [
    {
     "data": {
      "text/html": [
       "<div>\n",
       "<style scoped>\n",
       "    .dataframe tbody tr th:only-of-type {\n",
       "        vertical-align: middle;\n",
       "    }\n",
       "\n",
       "    .dataframe tbody tr th {\n",
       "        vertical-align: top;\n",
       "    }\n",
       "\n",
       "    .dataframe thead th {\n",
       "        text-align: right;\n",
       "    }\n",
       "</style>\n",
       "<table border=\"1\" class=\"dataframe\">\n",
       "  <thead>\n",
       "    <tr style=\"text-align: right;\">\n",
       "      <th></th>\n",
       "      <th>tweet</th>\n",
       "      <th>date</th>\n",
       "      <th>city</th>\n",
       "      <th>user_location</th>\n",
       "      <th>id</th>\n",
       "      <th>link</th>\n",
       "    </tr>\n",
       "  </thead>\n",
       "  <tbody>\n",
       "    <tr>\n",
       "      <th>0</th>\n",
       "      <td>De acuerdo con @JFernandeznino, otro metanális...</td>\n",
       "      <td>2021-05-14 01:08:23</td>\n",
       "      <td>Bogotá</td>\n",
       "      <td>Bogotá, D.C., Colombia</td>\n",
       "      <td>1393010266829426689</td>\n",
       "      <td>https://twitter.com/i/web/status/1393010266829...</td>\n",
       "    </tr>\n",
       "    <tr>\n",
       "      <th>1</th>\n",
       "      <td>Si en Colombia, personas como usted .@AlvaroUr...</td>\n",
       "      <td>2021-05-14 01:06:00</td>\n",
       "      <td>Bogotá</td>\n",
       "      <td>Bogota, Colombia</td>\n",
       "      <td>1393009667157250048</td>\n",
       "      <td>https://twitter.com/i/web/status/1393009667157...</td>\n",
       "    </tr>\n",
       "    <tr>\n",
       "      <th>2</th>\n",
       "      <td>@sergiobarbosach @claudiablumc Mientras los co...</td>\n",
       "      <td>2021-05-14 01:03:23</td>\n",
       "      <td>Bogotá</td>\n",
       "      <td>Bogotá, D.C., Colombia</td>\n",
       "      <td>1393009010975158272</td>\n",
       "      <td>https://twitter.com/i/web/status/1393009010975...</td>\n",
       "    </tr>\n",
       "    <tr>\n",
       "      <th>3</th>\n",
       "      <td>@CarlosFGalan Mientras los congresistas sesion...</td>\n",
       "      <td>2021-05-14 01:01:48</td>\n",
       "      <td>Bogotá</td>\n",
       "      <td>Bogotá, D.C., Colombia</td>\n",
       "      <td>1393008609945075718</td>\n",
       "      <td>https://twitter.com/i/web/status/1393008609945...</td>\n",
       "    </tr>\n",
       "    <tr>\n",
       "      <th>4</th>\n",
       "      <td>@tavo2366 Mientras los congresistas sesionan v...</td>\n",
       "      <td>2021-05-14 00:59:18</td>\n",
       "      <td>Bogotá</td>\n",
       "      <td>Bogotá, D.C., Colombia</td>\n",
       "      <td>1393007982791860230</td>\n",
       "      <td>https://twitter.com/i/web/status/1393007982791...</td>\n",
       "    </tr>\n",
       "    <tr>\n",
       "      <th>...</th>\n",
       "      <td>...</td>\n",
       "      <td>...</td>\n",
       "      <td>...</td>\n",
       "      <td>...</td>\n",
       "      <td>...</td>\n",
       "      <td>...</td>\n",
       "    </tr>\n",
       "    <tr>\n",
       "      <th>95</th>\n",
       "      <td>Nuevamente se disparan los contagios por covid...</td>\n",
       "      <td>2021-05-13 22:32:19</td>\n",
       "      <td>Bogotá</td>\n",
       "      <td>Ibagué Tolima</td>\n",
       "      <td>1392970991400325126</td>\n",
       "      <td>https://twitter.com/i/web/status/1392970991400...</td>\n",
       "    </tr>\n",
       "    <tr>\n",
       "      <th>96</th>\n",
       "      <td>Reporte Covid 19 para hoy 13 de  Mayo 2021 htt...</td>\n",
       "      <td>2021-05-13 22:31:38</td>\n",
       "      <td>Bogotá</td>\n",
       "      <td>Acacías Meta</td>\n",
       "      <td>1392970821900111875</td>\n",
       "      <td>https://twitter.com/i/web/status/1392970821900...</td>\n",
       "    </tr>\n",
       "    <tr>\n",
       "      <th>97</th>\n",
       "      <td>De acuerdo al más reciente reporte del Ministe...</td>\n",
       "      <td>2021-05-13 22:31:19</td>\n",
       "      <td>Bogotá</td>\n",
       "      <td>Boyacá - Colombia</td>\n",
       "      <td>1392970741642055689</td>\n",
       "      <td>https://twitter.com/i/web/status/1392970741642...</td>\n",
       "    </tr>\n",
       "    <tr>\n",
       "      <th>98</th>\n",
       "      <td>@Brigittelgb @dario_maldonado Están ambiguo lo...</td>\n",
       "      <td>2021-05-13 22:30:51</td>\n",
       "      <td>Bogotá</td>\n",
       "      <td>Bogotá, D.C., Colombia</td>\n",
       "      <td>1392970624176476163</td>\n",
       "      <td>https://twitter.com/i/web/status/1392970624176...</td>\n",
       "    </tr>\n",
       "    <tr>\n",
       "      <th>99</th>\n",
       "      <td>Roban vacunas contra COVID-19 en Tenza, Boyacá...</td>\n",
       "      <td>2021-05-13 22:27:26</td>\n",
       "      <td>Bogotá</td>\n",
       "      <td>Tunja, Colombia</td>\n",
       "      <td>1392969764390195208</td>\n",
       "      <td>https://twitter.com/i/web/status/1392969764390...</td>\n",
       "    </tr>\n",
       "  </tbody>\n",
       "</table>\n",
       "<p>100 rows × 6 columns</p>\n",
       "</div>"
      ],
      "text/plain": [
       "                                                tweet                date  \\\n",
       "0   De acuerdo con @JFernandeznino, otro metanális... 2021-05-14 01:08:23   \n",
       "1   Si en Colombia, personas como usted .@AlvaroUr... 2021-05-14 01:06:00   \n",
       "2   @sergiobarbosach @claudiablumc Mientras los co... 2021-05-14 01:03:23   \n",
       "3   @CarlosFGalan Mientras los congresistas sesion... 2021-05-14 01:01:48   \n",
       "4   @tavo2366 Mientras los congresistas sesionan v... 2021-05-14 00:59:18   \n",
       "..                                                ...                 ...   \n",
       "95  Nuevamente se disparan los contagios por covid... 2021-05-13 22:32:19   \n",
       "96  Reporte Covid 19 para hoy 13 de  Mayo 2021 htt... 2021-05-13 22:31:38   \n",
       "97  De acuerdo al más reciente reporte del Ministe... 2021-05-13 22:31:19   \n",
       "98  @Brigittelgb @dario_maldonado Están ambiguo lo... 2021-05-13 22:30:51   \n",
       "99  Roban vacunas contra COVID-19 en Tenza, Boyacá... 2021-05-13 22:27:26   \n",
       "\n",
       "      city           user_location                   id  \\\n",
       "0   Bogotá  Bogotá, D.C., Colombia  1393010266829426689   \n",
       "1   Bogotá        Bogota, Colombia  1393009667157250048   \n",
       "2   Bogotá  Bogotá, D.C., Colombia  1393009010975158272   \n",
       "3   Bogotá  Bogotá, D.C., Colombia  1393008609945075718   \n",
       "4   Bogotá  Bogotá, D.C., Colombia  1393007982791860230   \n",
       "..     ...                     ...                  ...   \n",
       "95  Bogotá           Ibagué Tolima  1392970991400325126   \n",
       "96  Bogotá            Acacías Meta  1392970821900111875   \n",
       "97  Bogotá       Boyacá - Colombia  1392970741642055689   \n",
       "98  Bogotá  Bogotá, D.C., Colombia  1392970624176476163   \n",
       "99  Bogotá         Tunja, Colombia  1392969764390195208   \n",
       "\n",
       "                                                 link  \n",
       "0   https://twitter.com/i/web/status/1393010266829...  \n",
       "1   https://twitter.com/i/web/status/1393009667157...  \n",
       "2   https://twitter.com/i/web/status/1393009010975...  \n",
       "3   https://twitter.com/i/web/status/1393008609945...  \n",
       "4   https://twitter.com/i/web/status/1393007982791...  \n",
       "..                                                ...  \n",
       "95  https://twitter.com/i/web/status/1392970991400...  \n",
       "96  https://twitter.com/i/web/status/1392970821900...  \n",
       "97  https://twitter.com/i/web/status/1392970741642...  \n",
       "98  https://twitter.com/i/web/status/1392970624176...  \n",
       "99  https://twitter.com/i/web/status/1392969764390...  \n",
       "\n",
       "[100 rows x 6 columns]"
      ]
     },
     "execution_count": 20,
     "metadata": {},
     "output_type": "execute_result"
    }
   ],
   "source": [
    "data = pd.DataFrame(t_processed)\n",
    "data.columns = ['tweet', 'date', 'city', 'user_location', 'id', 'link']\n",
    "data"
   ]
  },
  {
   "cell_type": "code",
   "execution_count": 42,
   "metadata": {},
   "outputs": [],
   "source": [
    "import snscrape.modules.twitter as sntwitter\n",
    "\n",
    "import snscrape.modules.twitter as sntwitter"
   ]
  },
  {
   "cell_type": "code",
   "execution_count": 43,
   "metadata": {},
   "outputs": [],
   "source": [
    "maxTweets = 100\n",
    "for i,tweet in enumerate(sntwitter.TwitterSearchScraper('#Covid 19 ' + 'since:2014-07-15 until:2014-08-15').get_items()) :\n",
    "        if i > maxTweets :\n",
    "            break\n",
    "        print(tweet)\n",
    "        print(tweet.date)\n",
    "        print(tweet.content)\n",
    "        print(\"*\"*100)\n",
    "        print()"
   ]
  },
  {
   "cell_type": "code",
   "execution_count": 44,
   "metadata": {},
   "outputs": [
    {
     "data": {
      "text/html": [
       "<div>\n",
       "<style scoped>\n",
       "    .dataframe tbody tr th:only-of-type {\n",
       "        vertical-align: middle;\n",
       "    }\n",
       "\n",
       "    .dataframe tbody tr th {\n",
       "        vertical-align: top;\n",
       "    }\n",
       "\n",
       "    .dataframe thead th {\n",
       "        text-align: right;\n",
       "    }\n",
       "</style>\n",
       "<table border=\"1\" class=\"dataframe\">\n",
       "  <thead>\n",
       "    <tr style=\"text-align: right;\">\n",
       "      <th></th>\n",
       "      <th>tweet</th>\n",
       "      <th>date</th>\n",
       "    </tr>\n",
       "  </thead>\n",
       "  <tbody>\n",
       "    <tr>\n",
       "      <th>0</th>\n",
       "      <td>De acuerdo con @JFernandeznino, otro metanális...</td>\n",
       "      <td>2021-05-14 01:08:23</td>\n",
       "    </tr>\n",
       "    <tr>\n",
       "      <th>1</th>\n",
       "      <td>Si en Colombia, personas como usted .@AlvaroUr...</td>\n",
       "      <td>2021-05-14 01:06:00</td>\n",
       "    </tr>\n",
       "    <tr>\n",
       "      <th>2</th>\n",
       "      <td>@sergiobarbosach @claudiablumc Mientras los co...</td>\n",
       "      <td>2021-05-14 01:03:23</td>\n",
       "    </tr>\n",
       "    <tr>\n",
       "      <th>3</th>\n",
       "      <td>@CarlosFGalan Mientras los congresistas sesion...</td>\n",
       "      <td>2021-05-14 01:01:48</td>\n",
       "    </tr>\n",
       "    <tr>\n",
       "      <th>4</th>\n",
       "      <td>@tavo2366 Mientras los congresistas sesionan v...</td>\n",
       "      <td>2021-05-14 00:59:18</td>\n",
       "    </tr>\n",
       "  </tbody>\n",
       "</table>\n",
       "</div>"
      ],
      "text/plain": [
       "                                               tweet                date\n",
       "0  De acuerdo con @JFernandeznino, otro metanális... 2021-05-14 01:08:23\n",
       "1  Si en Colombia, personas como usted .@AlvaroUr... 2021-05-14 01:06:00\n",
       "2  @sergiobarbosach @claudiablumc Mientras los co... 2021-05-14 01:03:23\n",
       "3  @CarlosFGalan Mientras los congresistas sesion... 2021-05-14 01:01:48\n",
       "4  @tavo2366 Mientras los congresistas sesionan v... 2021-05-14 00:59:18"
      ]
     },
     "execution_count": 44,
     "metadata": {},
     "output_type": "execute_result"
    }
   ],
   "source": [
    "data = data[['tweet', 'date']]\n",
    "data.head()"
   ]
  },
  {
   "cell_type": "code",
   "execution_count": 45,
   "metadata": {},
   "outputs": [],
   "source": [
    "import re \n",
    "\n",
    "pattern1 = '?P<pic>pic.twitter.com/[^\\s]+'\n",
    "pattern2 = '?P<url>https?://[^\\s]+'\n",
    "\n",
    "def text_clean(row):\n",
    "    text = row['tweet']\n",
    "    \n",
    "    links = [tuple(j for j in i if j)[-1] for i in re.findall(f\"({pattern1})|({pattern2})\",text)]\n",
    "    for link in links:\n",
    "        text = text.replace(link,\"\")\n",
    "    \n",
    "    hashtags = [interaction for interaction in text.split() if interaction.startswith(\"#\")]\n",
    "    for hashtag in hashtags:\n",
    "        text = text.replace(hashtag, \"\")\n",
    "        \n",
    "    mentions = [interaction for interaction in text.split() if interaction.startswith(\"@\")]\n",
    "    for mention in mentions:\n",
    "        text = text.replace(mention, \"\")\n",
    "        \n",
    "    return text, links, hashtags, mentions"
   ]
  },
  {
   "cell_type": "code",
   "execution_count": 46,
   "metadata": {},
   "outputs": [
    {
     "data": {
      "text/html": [
       "<div>\n",
       "<style scoped>\n",
       "    .dataframe tbody tr th:only-of-type {\n",
       "        vertical-align: middle;\n",
       "    }\n",
       "\n",
       "    .dataframe tbody tr th {\n",
       "        vertical-align: top;\n",
       "    }\n",
       "\n",
       "    .dataframe thead th {\n",
       "        text-align: right;\n",
       "    }\n",
       "</style>\n",
       "<table border=\"1\" class=\"dataframe\">\n",
       "  <thead>\n",
       "    <tr style=\"text-align: right;\">\n",
       "      <th></th>\n",
       "      <th>tweet</th>\n",
       "      <th>date</th>\n",
       "      <th>texto_limpio</th>\n",
       "      <th>links</th>\n",
       "      <th>hashtags</th>\n",
       "      <th>mentions</th>\n",
       "    </tr>\n",
       "  </thead>\n",
       "  <tbody>\n",
       "    <tr>\n",
       "      <th>0</th>\n",
       "      <td>De acuerdo con @JFernandeznino, otro metanális...</td>\n",
       "      <td>2021-05-14 01:08:23</td>\n",
       "      <td>De acuerdo con  otro metanálisis indicó que lo...</td>\n",
       "      <td>[https://t.co/kivbuPrrHB]</td>\n",
       "      <td>[]</td>\n",
       "      <td>[@JFernandeznino,]</td>\n",
       "    </tr>\n",
       "    <tr>\n",
       "      <th>1</th>\n",
       "      <td>Si en Colombia, personas como usted .@AlvaroUr...</td>\n",
       "      <td>2021-05-14 01:06:00</td>\n",
       "      <td>Si en Colombia, personas como usted .@AlvaroUr...</td>\n",
       "      <td>[https://t.co/IZWZdrg0hA]</td>\n",
       "      <td>[#Covid_19]</td>\n",
       "      <td>[]</td>\n",
       "    </tr>\n",
       "    <tr>\n",
       "      <th>2</th>\n",
       "      <td>@sergiobarbosach @claudiablumc Mientras los co...</td>\n",
       "      <td>2021-05-14 01:03:23</td>\n",
       "      <td>Mientras los congresistas sesionan virtualme...</td>\n",
       "      <td>[]</td>\n",
       "      <td>[]</td>\n",
       "      <td>[@sergiobarbosach, @claudiablumc]</td>\n",
       "    </tr>\n",
       "    <tr>\n",
       "      <th>3</th>\n",
       "      <td>@CarlosFGalan Mientras los congresistas sesion...</td>\n",
       "      <td>2021-05-14 01:01:48</td>\n",
       "      <td>Mientras los congresistas sesionan virtualmen...</td>\n",
       "      <td>[]</td>\n",
       "      <td>[]</td>\n",
       "      <td>[@CarlosFGalan]</td>\n",
       "    </tr>\n",
       "    <tr>\n",
       "      <th>4</th>\n",
       "      <td>@tavo2366 Mientras los congresistas sesionan v...</td>\n",
       "      <td>2021-05-14 00:59:18</td>\n",
       "      <td>Mientras los congresistas sesionan virtualmen...</td>\n",
       "      <td>[]</td>\n",
       "      <td>[]</td>\n",
       "      <td>[@tavo2366]</td>\n",
       "    </tr>\n",
       "    <tr>\n",
       "      <th>...</th>\n",
       "      <td>...</td>\n",
       "      <td>...</td>\n",
       "      <td>...</td>\n",
       "      <td>...</td>\n",
       "      <td>...</td>\n",
       "      <td>...</td>\n",
       "    </tr>\n",
       "    <tr>\n",
       "      <th>95</th>\n",
       "      <td>Nuevamente se disparan los contagios por covid...</td>\n",
       "      <td>2021-05-13 22:32:19</td>\n",
       "      <td>Nuevamente se disparan los contagios por covid...</td>\n",
       "      <td>[https://t.co/52vYJnSG0o, https://t.co/ra4J2pr...</td>\n",
       "      <td>[]</td>\n",
       "      <td>[]</td>\n",
       "    </tr>\n",
       "    <tr>\n",
       "      <th>96</th>\n",
       "      <td>Reporte Covid 19 para hoy 13 de  Mayo 2021 htt...</td>\n",
       "      <td>2021-05-13 22:31:38</td>\n",
       "      <td>Reporte Covid 19 para hoy 13 de  Mayo 2021  a ...</td>\n",
       "      <td>[https://t.co/gCebDojlyU]</td>\n",
       "      <td>[]</td>\n",
       "      <td>[@elconucoacacias]</td>\n",
       "    </tr>\n",
       "    <tr>\n",
       "      <th>97</th>\n",
       "      <td>De acuerdo al más reciente reporte del Ministe...</td>\n",
       "      <td>2021-05-13 22:31:19</td>\n",
       "      <td>De acuerdo al más reciente reporte del Ministe...</td>\n",
       "      <td>[]</td>\n",
       "      <td>[]</td>\n",
       "      <td>[]</td>\n",
       "    </tr>\n",
       "    <tr>\n",
       "      <th>98</th>\n",
       "      <td>@Brigittelgb @dario_maldonado Están ambiguo lo...</td>\n",
       "      <td>2021-05-13 22:30:51</td>\n",
       "      <td>Están ambiguo lo que dice, porque mi hermana...</td>\n",
       "      <td>[]</td>\n",
       "      <td>[]</td>\n",
       "      <td>[@Brigittelgb, @dario_maldonado]</td>\n",
       "    </tr>\n",
       "    <tr>\n",
       "      <th>99</th>\n",
       "      <td>Roban vacunas contra COVID-19 en Tenza, Boyacá...</td>\n",
       "      <td>2021-05-13 22:27:26</td>\n",
       "      <td>Roban vacunas contra COVID-19 en Tenza, Boyacá...</td>\n",
       "      <td>[https://t.co/4BuDAC0TQ8]</td>\n",
       "      <td>[]</td>\n",
       "      <td>[]</td>\n",
       "    </tr>\n",
       "  </tbody>\n",
       "</table>\n",
       "<p>100 rows × 6 columns</p>\n",
       "</div>"
      ],
      "text/plain": [
       "                                                tweet                date  \\\n",
       "0   De acuerdo con @JFernandeznino, otro metanális... 2021-05-14 01:08:23   \n",
       "1   Si en Colombia, personas como usted .@AlvaroUr... 2021-05-14 01:06:00   \n",
       "2   @sergiobarbosach @claudiablumc Mientras los co... 2021-05-14 01:03:23   \n",
       "3   @CarlosFGalan Mientras los congresistas sesion... 2021-05-14 01:01:48   \n",
       "4   @tavo2366 Mientras los congresistas sesionan v... 2021-05-14 00:59:18   \n",
       "..                                                ...                 ...   \n",
       "95  Nuevamente se disparan los contagios por covid... 2021-05-13 22:32:19   \n",
       "96  Reporte Covid 19 para hoy 13 de  Mayo 2021 htt... 2021-05-13 22:31:38   \n",
       "97  De acuerdo al más reciente reporte del Ministe... 2021-05-13 22:31:19   \n",
       "98  @Brigittelgb @dario_maldonado Están ambiguo lo... 2021-05-13 22:30:51   \n",
       "99  Roban vacunas contra COVID-19 en Tenza, Boyacá... 2021-05-13 22:27:26   \n",
       "\n",
       "                                         texto_limpio  \\\n",
       "0   De acuerdo con  otro metanálisis indicó que lo...   \n",
       "1   Si en Colombia, personas como usted .@AlvaroUr...   \n",
       "2     Mientras los congresistas sesionan virtualme...   \n",
       "3    Mientras los congresistas sesionan virtualmen...   \n",
       "4    Mientras los congresistas sesionan virtualmen...   \n",
       "..                                                ...   \n",
       "95  Nuevamente se disparan los contagios por covid...   \n",
       "96  Reporte Covid 19 para hoy 13 de  Mayo 2021  a ...   \n",
       "97  De acuerdo al más reciente reporte del Ministe...   \n",
       "98    Están ambiguo lo que dice, porque mi hermana...   \n",
       "99  Roban vacunas contra COVID-19 en Tenza, Boyacá...   \n",
       "\n",
       "                                                links     hashtags  \\\n",
       "0                           [https://t.co/kivbuPrrHB]           []   \n",
       "1                           [https://t.co/IZWZdrg0hA]  [#Covid_19]   \n",
       "2                                                  []           []   \n",
       "3                                                  []           []   \n",
       "4                                                  []           []   \n",
       "..                                                ...          ...   \n",
       "95  [https://t.co/52vYJnSG0o, https://t.co/ra4J2pr...           []   \n",
       "96                          [https://t.co/gCebDojlyU]           []   \n",
       "97                                                 []           []   \n",
       "98                                                 []           []   \n",
       "99                          [https://t.co/4BuDAC0TQ8]           []   \n",
       "\n",
       "                             mentions  \n",
       "0                  [@JFernandeznino,]  \n",
       "1                                  []  \n",
       "2   [@sergiobarbosach, @claudiablumc]  \n",
       "3                     [@CarlosFGalan]  \n",
       "4                         [@tavo2366]  \n",
       "..                                ...  \n",
       "95                                 []  \n",
       "96                 [@elconucoacacias]  \n",
       "97                                 []  \n",
       "98   [@Brigittelgb, @dario_maldonado]  \n",
       "99                                 []  \n",
       "\n",
       "[100 rows x 6 columns]"
      ]
     },
     "execution_count": 46,
     "metadata": {},
     "output_type": "execute_result"
    }
   ],
   "source": [
    "data[['texto_limpio','links', 'hashtags', 'mentions']] = data.apply(text_clean, axis=1, result_type='expand')\n",
    "data"
   ]
  },
  {
   "cell_type": "code",
   "execution_count": 47,
   "metadata": {},
   "outputs": [],
   "source": [
    "import regex\n",
    "import emoji\n",
    "\n",
    "def get_emojis(text):\n",
    "    emoji_list = []\n",
    "    data = regex.findall(r'\\X', text)\n",
    "    for word in data:\n",
    "        if any(char in emoji.UNICODE_EMOJI['en'] for char in word):\n",
    "            emoji_list.append(word)\n",
    "\n",
    "    return emoji_list\n",
    "  "
   ]
  },
  {
   "cell_type": "code",
   "execution_count": 48,
   "metadata": {},
   "outputs": [
    {
     "data": {
      "text/html": [
       "<div>\n",
       "<style scoped>\n",
       "    .dataframe tbody tr th:only-of-type {\n",
       "        vertical-align: middle;\n",
       "    }\n",
       "\n",
       "    .dataframe tbody tr th {\n",
       "        vertical-align: top;\n",
       "    }\n",
       "\n",
       "    .dataframe thead th {\n",
       "        text-align: right;\n",
       "    }\n",
       "</style>\n",
       "<table border=\"1\" class=\"dataframe\">\n",
       "  <thead>\n",
       "    <tr style=\"text-align: right;\">\n",
       "      <th></th>\n",
       "      <th>tweet</th>\n",
       "      <th>date</th>\n",
       "      <th>texto_limpio</th>\n",
       "      <th>links</th>\n",
       "      <th>hashtags</th>\n",
       "      <th>mentions</th>\n",
       "      <th>emojis</th>\n",
       "    </tr>\n",
       "  </thead>\n",
       "  <tbody>\n",
       "    <tr>\n",
       "      <th>0</th>\n",
       "      <td>De acuerdo con @JFernandeznino, otro metanális...</td>\n",
       "      <td>2021-05-14 01:08:23</td>\n",
       "      <td>De acuerdo con  otro metanálisis indicó que lo...</td>\n",
       "      <td>[https://t.co/kivbuPrrHB]</td>\n",
       "      <td>[]</td>\n",
       "      <td>[@JFernandeznino,]</td>\n",
       "      <td>[]</td>\n",
       "    </tr>\n",
       "    <tr>\n",
       "      <th>1</th>\n",
       "      <td>Si en Colombia, personas como usted .@AlvaroUr...</td>\n",
       "      <td>2021-05-14 01:06:00</td>\n",
       "      <td>Si en Colombia, personas como usted .@AlvaroUr...</td>\n",
       "      <td>[https://t.co/IZWZdrg0hA]</td>\n",
       "      <td>[#Covid_19]</td>\n",
       "      <td>[]</td>\n",
       "      <td>[]</td>\n",
       "    </tr>\n",
       "    <tr>\n",
       "      <th>2</th>\n",
       "      <td>@sergiobarbosach @claudiablumc Mientras los co...</td>\n",
       "      <td>2021-05-14 01:03:23</td>\n",
       "      <td>Mientras los congresistas sesionan virtualme...</td>\n",
       "      <td>[]</td>\n",
       "      <td>[]</td>\n",
       "      <td>[@sergiobarbosach, @claudiablumc]</td>\n",
       "      <td>[]</td>\n",
       "    </tr>\n",
       "    <tr>\n",
       "      <th>3</th>\n",
       "      <td>@CarlosFGalan Mientras los congresistas sesion...</td>\n",
       "      <td>2021-05-14 01:01:48</td>\n",
       "      <td>Mientras los congresistas sesionan virtualmen...</td>\n",
       "      <td>[]</td>\n",
       "      <td>[]</td>\n",
       "      <td>[@CarlosFGalan]</td>\n",
       "      <td>[]</td>\n",
       "    </tr>\n",
       "    <tr>\n",
       "      <th>4</th>\n",
       "      <td>@tavo2366 Mientras los congresistas sesionan v...</td>\n",
       "      <td>2021-05-14 00:59:18</td>\n",
       "      <td>Mientras los congresistas sesionan virtualmen...</td>\n",
       "      <td>[]</td>\n",
       "      <td>[]</td>\n",
       "      <td>[@tavo2366]</td>\n",
       "      <td>[]</td>\n",
       "    </tr>\n",
       "  </tbody>\n",
       "</table>\n",
       "</div>"
      ],
      "text/plain": [
       "                                               tweet                date  \\\n",
       "0  De acuerdo con @JFernandeznino, otro metanális... 2021-05-14 01:08:23   \n",
       "1  Si en Colombia, personas como usted .@AlvaroUr... 2021-05-14 01:06:00   \n",
       "2  @sergiobarbosach @claudiablumc Mientras los co... 2021-05-14 01:03:23   \n",
       "3  @CarlosFGalan Mientras los congresistas sesion... 2021-05-14 01:01:48   \n",
       "4  @tavo2366 Mientras los congresistas sesionan v... 2021-05-14 00:59:18   \n",
       "\n",
       "                                        texto_limpio  \\\n",
       "0  De acuerdo con  otro metanálisis indicó que lo...   \n",
       "1  Si en Colombia, personas como usted .@AlvaroUr...   \n",
       "2    Mientras los congresistas sesionan virtualme...   \n",
       "3   Mientras los congresistas sesionan virtualmen...   \n",
       "4   Mientras los congresistas sesionan virtualmen...   \n",
       "\n",
       "                       links     hashtags                           mentions  \\\n",
       "0  [https://t.co/kivbuPrrHB]           []                 [@JFernandeznino,]   \n",
       "1  [https://t.co/IZWZdrg0hA]  [#Covid_19]                                 []   \n",
       "2                         []           []  [@sergiobarbosach, @claudiablumc]   \n",
       "3                         []           []                    [@CarlosFGalan]   \n",
       "4                         []           []                        [@tavo2366]   \n",
       "\n",
       "  emojis  \n",
       "0     []  \n",
       "1     []  \n",
       "2     []  \n",
       "3     []  \n",
       "4     []  "
      ]
     },
     "execution_count": 48,
     "metadata": {},
     "output_type": "execute_result"
    }
   ],
   "source": [
    "data['emojis'] = data['texto_limpio'].apply(lambda text: get_emojis(text))\n",
    "data.head()"
   ]
  },
  {
   "cell_type": "code",
   "execution_count": 49,
   "metadata": {},
   "outputs": [
    {
     "data": {
      "text/html": [
       "<div>\n",
       "<style scoped>\n",
       "    .dataframe tbody tr th:only-of-type {\n",
       "        vertical-align: middle;\n",
       "    }\n",
       "\n",
       "    .dataframe tbody tr th {\n",
       "        vertical-align: top;\n",
       "    }\n",
       "\n",
       "    .dataframe thead th {\n",
       "        text-align: right;\n",
       "    }\n",
       "</style>\n",
       "<table border=\"1\" class=\"dataframe\">\n",
       "  <thead>\n",
       "    <tr style=\"text-align: right;\">\n",
       "      <th></th>\n",
       "      <th>hora</th>\n",
       "      <th>cnt</th>\n",
       "    </tr>\n",
       "  </thead>\n",
       "  <tbody>\n",
       "    <tr>\n",
       "      <th>47</th>\n",
       "      <td>00:01:00</td>\n",
       "      <td>1</td>\n",
       "    </tr>\n",
       "    <tr>\n",
       "      <th>60</th>\n",
       "      <td>00:05:00</td>\n",
       "      <td>1</td>\n",
       "    </tr>\n",
       "    <tr>\n",
       "      <th>11</th>\n",
       "      <td>00:06:00</td>\n",
       "      <td>2</td>\n",
       "    </tr>\n",
       "    <tr>\n",
       "      <th>63</th>\n",
       "      <td>00:08:00</td>\n",
       "      <td>1</td>\n",
       "    </tr>\n",
       "    <tr>\n",
       "      <th>26</th>\n",
       "      <td>00:09:00</td>\n",
       "      <td>1</td>\n",
       "    </tr>\n",
       "    <tr>\n",
       "      <th>...</th>\n",
       "      <td>...</td>\n",
       "      <td>...</td>\n",
       "    </tr>\n",
       "    <tr>\n",
       "      <th>21</th>\n",
       "      <td>23:54:00</td>\n",
       "      <td>1</td>\n",
       "    </tr>\n",
       "    <tr>\n",
       "      <th>65</th>\n",
       "      <td>23:55:00</td>\n",
       "      <td>1</td>\n",
       "    </tr>\n",
       "    <tr>\n",
       "      <th>51</th>\n",
       "      <td>23:56:00</td>\n",
       "      <td>1</td>\n",
       "    </tr>\n",
       "    <tr>\n",
       "      <th>25</th>\n",
       "      <td>23:58:00</td>\n",
       "      <td>1</td>\n",
       "    </tr>\n",
       "    <tr>\n",
       "      <th>49</th>\n",
       "      <td>23:59:00</td>\n",
       "      <td>1</td>\n",
       "    </tr>\n",
       "  </tbody>\n",
       "</table>\n",
       "<p>74 rows × 2 columns</p>\n",
       "</div>"
      ],
      "text/plain": [
       "        hora  cnt\n",
       "47  00:01:00    1\n",
       "60  00:05:00    1\n",
       "11  00:06:00    2\n",
       "63  00:08:00    1\n",
       "26  00:09:00    1\n",
       "..       ...  ...\n",
       "21  23:54:00    1\n",
       "65  23:55:00    1\n",
       "51  23:56:00    1\n",
       "25  23:58:00    1\n",
       "49  23:59:00    1\n",
       "\n",
       "[74 rows x 2 columns]"
      ]
     },
     "execution_count": 49,
     "metadata": {},
     "output_type": "execute_result"
    }
   ],
   "source": [
    "data['hora'] = data['date'].dt.floor('T').dt.time\n",
    "temp = pd.DataFrame(data.hora.value_counts()).reset_index()\n",
    "temp.columns = ['hora', 'cnt']\n",
    "temp = temp.sort_values('hora')\n",
    "temp"
   ]
  },
  {
   "cell_type": "code",
   "execution_count": 50,
   "metadata": {},
   "outputs": [],
   "source": [
    "import plotly.io as pio\n",
    "import plotly.express as px\n",
    "import plotly.graph_objs as go\n",
    "from plotly.offline import download_plotlyjs, init_notebook_mode, plot, iplot"
   ]
  },
  {
   "cell_type": "code",
   "execution_count": 51,
   "metadata": {},
   "outputs": [
    {
     "data": {
      "text/html": [
       "        <script type=\"text/javascript\">\n",
       "        window.PlotlyConfig = {MathJaxConfig: 'local'};\n",
       "        if (window.MathJax) {MathJax.Hub.Config({SVG: {font: \"STIX-Web\"}});}\n",
       "        if (typeof require !== 'undefined') {\n",
       "        require.undef(\"plotly\");\n",
       "        requirejs.config({\n",
       "            paths: {\n",
       "                'plotly': ['https://cdn.plot.ly/plotly-latest.min']\n",
       "            }\n",
       "        });\n",
       "        require(['plotly'], function(Plotly) {\n",
       "            window._Plotly = Plotly;\n",
       "        });\n",
       "        }\n",
       "        </script>\n",
       "        "
      ]
     },
     "metadata": {},
     "output_type": "display_data"
    }
   ],
   "source": [
    "import matplotlib.pyplot as plt\n",
    "%matplotlib inline\n",
    "init_notebook_mode(connected=True)"
   ]
  },
  {
   "cell_type": "markdown",
   "metadata": {},
   "source": [
    "###  `[25 pts]` Punto 2: Hacer una visualización sobre esos tuits"
   ]
  },
  {
   "cell_type": "code",
   "execution_count": 52,
   "metadata": {},
   "outputs": [
    {
     "data": {
      "application/vnd.plotly.v1+json": {
       "config": {
        "linkText": "Export to plot.ly",
        "plotlyServerURL": "https://plot.ly",
        "showLink": false
       },
       "data": [
        {
         "hoverinfo": "text",
         "line": {
          "color": "blue"
         },
         "mode": "lines+markers",
         "name": "Horas",
         "text": [
          "Fecha: 00:01:00<br>Tuits: 1",
          "Fecha: 00:05:00<br>Tuits: 1",
          "Fecha: 00:06:00<br>Tuits: 2",
          "Fecha: 00:08:00<br>Tuits: 1",
          "Fecha: 00:09:00<br>Tuits: 1",
          "Fecha: 00:11:00<br>Tuits: 1",
          "Fecha: 00:12:00<br>Tuits: 1",
          "Fecha: 00:15:00<br>Tuits: 1",
          "Fecha: 00:16:00<br>Tuits: 1",
          "Fecha: 00:17:00<br>Tuits: 2",
          "Fecha: 00:22:00<br>Tuits: 1",
          "Fecha: 00:23:00<br>Tuits: 1",
          "Fecha: 00:24:00<br>Tuits: 1",
          "Fecha: 00:26:00<br>Tuits: 1",
          "Fecha: 00:28:00<br>Tuits: 2",
          "Fecha: 00:30:00<br>Tuits: 2",
          "Fecha: 00:31:00<br>Tuits: 1",
          "Fecha: 00:38:00<br>Tuits: 1",
          "Fecha: 00:39:00<br>Tuits: 1",
          "Fecha: 00:49:00<br>Tuits: 2",
          "Fecha: 00:50:00<br>Tuits: 1",
          "Fecha: 00:51:00<br>Tuits: 1",
          "Fecha: 00:53:00<br>Tuits: 4",
          "Fecha: 00:54:00<br>Tuits: 2",
          "Fecha: 00:55:00<br>Tuits: 4",
          "Fecha: 00:56:00<br>Tuits: 3",
          "Fecha: 00:57:00<br>Tuits: 2",
          "Fecha: 00:58:00<br>Tuits: 4",
          "Fecha: 00:59:00<br>Tuits: 1",
          "Fecha: 01:01:00<br>Tuits: 1",
          "Fecha: 01:03:00<br>Tuits: 1",
          "Fecha: 01:06:00<br>Tuits: 1",
          "Fecha: 01:08:00<br>Tuits: 1",
          "Fecha: 22:27:00<br>Tuits: 1",
          "Fecha: 22:30:00<br>Tuits: 1",
          "Fecha: 22:31:00<br>Tuits: 2",
          "Fecha: 22:32:00<br>Tuits: 1",
          "Fecha: 22:33:00<br>Tuits: 1",
          "Fecha: 22:35:00<br>Tuits: 1",
          "Fecha: 22:38:00<br>Tuits: 1",
          "Fecha: 22:41:00<br>Tuits: 1",
          "Fecha: 22:43:00<br>Tuits: 1",
          "Fecha: 22:52:00<br>Tuits: 1",
          "Fecha: 22:54:00<br>Tuits: 1",
          "Fecha: 22:55:00<br>Tuits: 1",
          "Fecha: 22:59:00<br>Tuits: 1",
          "Fecha: 23:00:00<br>Tuits: 3",
          "Fecha: 23:01:00<br>Tuits: 1",
          "Fecha: 23:03:00<br>Tuits: 1",
          "Fecha: 23:07:00<br>Tuits: 1",
          "Fecha: 23:10:00<br>Tuits: 1",
          "Fecha: 23:11:00<br>Tuits: 1",
          "Fecha: 23:16:00<br>Tuits: 1",
          "Fecha: 23:17:00<br>Tuits: 1",
          "Fecha: 23:19:00<br>Tuits: 1",
          "Fecha: 23:20:00<br>Tuits: 1",
          "Fecha: 23:23:00<br>Tuits: 1",
          "Fecha: 23:28:00<br>Tuits: 1",
          "Fecha: 23:31:00<br>Tuits: 1",
          "Fecha: 23:32:00<br>Tuits: 1",
          "Fecha: 23:34:00<br>Tuits: 1",
          "Fecha: 23:35:00<br>Tuits: 2",
          "Fecha: 23:36:00<br>Tuits: 2",
          "Fecha: 23:37:00<br>Tuits: 2",
          "Fecha: 23:40:00<br>Tuits: 1",
          "Fecha: 23:41:00<br>Tuits: 2",
          "Fecha: 23:42:00<br>Tuits: 1",
          "Fecha: 23:45:00<br>Tuits: 1",
          "Fecha: 23:49:00<br>Tuits: 2",
          "Fecha: 23:54:00<br>Tuits: 1",
          "Fecha: 23:55:00<br>Tuits: 1",
          "Fecha: 23:56:00<br>Tuits: 1",
          "Fecha: 23:58:00<br>Tuits: 1",
          "Fecha: 23:59:00<br>Tuits: 1"
         ],
         "type": "scatter",
         "x": [
          "00:01:00",
          "00:05:00",
          "00:06:00",
          "00:08:00",
          "00:09:00",
          "00:11:00",
          "00:12:00",
          "00:15:00",
          "00:16:00",
          "00:17:00",
          "00:22:00",
          "00:23:00",
          "00:24:00",
          "00:26:00",
          "00:28:00",
          "00:30:00",
          "00:31:00",
          "00:38:00",
          "00:39:00",
          "00:49:00",
          "00:50:00",
          "00:51:00",
          "00:53:00",
          "00:54:00",
          "00:55:00",
          "00:56:00",
          "00:57:00",
          "00:58:00",
          "00:59:00",
          "01:01:00",
          "01:03:00",
          "01:06:00",
          "01:08:00",
          "22:27:00",
          "22:30:00",
          "22:31:00",
          "22:32:00",
          "22:33:00",
          "22:35:00",
          "22:38:00",
          "22:41:00",
          "22:43:00",
          "22:52:00",
          "22:54:00",
          "22:55:00",
          "22:59:00",
          "23:00:00",
          "23:01:00",
          "23:03:00",
          "23:07:00",
          "23:10:00",
          "23:11:00",
          "23:16:00",
          "23:17:00",
          "23:19:00",
          "23:20:00",
          "23:23:00",
          "23:28:00",
          "23:31:00",
          "23:32:00",
          "23:34:00",
          "23:35:00",
          "23:36:00",
          "23:37:00",
          "23:40:00",
          "23:41:00",
          "23:42:00",
          "23:45:00",
          "23:49:00",
          "23:54:00",
          "23:55:00",
          "23:56:00",
          "23:58:00",
          "23:59:00"
         ],
         "y": [
          1,
          1,
          2,
          1,
          1,
          1,
          1,
          1,
          1,
          2,
          1,
          1,
          1,
          1,
          2,
          2,
          1,
          1,
          1,
          2,
          1,
          1,
          4,
          2,
          4,
          3,
          2,
          4,
          1,
          1,
          1,
          1,
          1,
          1,
          1,
          2,
          1,
          1,
          1,
          1,
          1,
          1,
          1,
          1,
          1,
          1,
          3,
          1,
          1,
          1,
          1,
          1,
          1,
          1,
          1,
          1,
          1,
          1,
          1,
          1,
          1,
          2,
          2,
          2,
          1,
          2,
          1,
          1,
          2,
          1,
          1,
          1,
          1,
          1
         ]
        }
       ],
       "layout": {
        "template": {
         "data": {
          "bar": [
           {
            "error_x": {
             "color": "#2a3f5f"
            },
            "error_y": {
             "color": "#2a3f5f"
            },
            "marker": {
             "line": {
              "color": "#E5ECF6",
              "width": 0.5
             }
            },
            "type": "bar"
           }
          ],
          "barpolar": [
           {
            "marker": {
             "line": {
              "color": "#E5ECF6",
              "width": 0.5
             }
            },
            "type": "barpolar"
           }
          ],
          "carpet": [
           {
            "aaxis": {
             "endlinecolor": "#2a3f5f",
             "gridcolor": "white",
             "linecolor": "white",
             "minorgridcolor": "white",
             "startlinecolor": "#2a3f5f"
            },
            "baxis": {
             "endlinecolor": "#2a3f5f",
             "gridcolor": "white",
             "linecolor": "white",
             "minorgridcolor": "white",
             "startlinecolor": "#2a3f5f"
            },
            "type": "carpet"
           }
          ],
          "choropleth": [
           {
            "colorbar": {
             "outlinewidth": 0,
             "ticks": ""
            },
            "type": "choropleth"
           }
          ],
          "contour": [
           {
            "colorbar": {
             "outlinewidth": 0,
             "ticks": ""
            },
            "colorscale": [
             [
              0,
              "#0d0887"
             ],
             [
              0.1111111111111111,
              "#46039f"
             ],
             [
              0.2222222222222222,
              "#7201a8"
             ],
             [
              0.3333333333333333,
              "#9c179e"
             ],
             [
              0.4444444444444444,
              "#bd3786"
             ],
             [
              0.5555555555555556,
              "#d8576b"
             ],
             [
              0.6666666666666666,
              "#ed7953"
             ],
             [
              0.7777777777777778,
              "#fb9f3a"
             ],
             [
              0.8888888888888888,
              "#fdca26"
             ],
             [
              1,
              "#f0f921"
             ]
            ],
            "type": "contour"
           }
          ],
          "contourcarpet": [
           {
            "colorbar": {
             "outlinewidth": 0,
             "ticks": ""
            },
            "type": "contourcarpet"
           }
          ],
          "heatmap": [
           {
            "colorbar": {
             "outlinewidth": 0,
             "ticks": ""
            },
            "colorscale": [
             [
              0,
              "#0d0887"
             ],
             [
              0.1111111111111111,
              "#46039f"
             ],
             [
              0.2222222222222222,
              "#7201a8"
             ],
             [
              0.3333333333333333,
              "#9c179e"
             ],
             [
              0.4444444444444444,
              "#bd3786"
             ],
             [
              0.5555555555555556,
              "#d8576b"
             ],
             [
              0.6666666666666666,
              "#ed7953"
             ],
             [
              0.7777777777777778,
              "#fb9f3a"
             ],
             [
              0.8888888888888888,
              "#fdca26"
             ],
             [
              1,
              "#f0f921"
             ]
            ],
            "type": "heatmap"
           }
          ],
          "heatmapgl": [
           {
            "colorbar": {
             "outlinewidth": 0,
             "ticks": ""
            },
            "colorscale": [
             [
              0,
              "#0d0887"
             ],
             [
              0.1111111111111111,
              "#46039f"
             ],
             [
              0.2222222222222222,
              "#7201a8"
             ],
             [
              0.3333333333333333,
              "#9c179e"
             ],
             [
              0.4444444444444444,
              "#bd3786"
             ],
             [
              0.5555555555555556,
              "#d8576b"
             ],
             [
              0.6666666666666666,
              "#ed7953"
             ],
             [
              0.7777777777777778,
              "#fb9f3a"
             ],
             [
              0.8888888888888888,
              "#fdca26"
             ],
             [
              1,
              "#f0f921"
             ]
            ],
            "type": "heatmapgl"
           }
          ],
          "histogram": [
           {
            "marker": {
             "colorbar": {
              "outlinewidth": 0,
              "ticks": ""
             }
            },
            "type": "histogram"
           }
          ],
          "histogram2d": [
           {
            "colorbar": {
             "outlinewidth": 0,
             "ticks": ""
            },
            "colorscale": [
             [
              0,
              "#0d0887"
             ],
             [
              0.1111111111111111,
              "#46039f"
             ],
             [
              0.2222222222222222,
              "#7201a8"
             ],
             [
              0.3333333333333333,
              "#9c179e"
             ],
             [
              0.4444444444444444,
              "#bd3786"
             ],
             [
              0.5555555555555556,
              "#d8576b"
             ],
             [
              0.6666666666666666,
              "#ed7953"
             ],
             [
              0.7777777777777778,
              "#fb9f3a"
             ],
             [
              0.8888888888888888,
              "#fdca26"
             ],
             [
              1,
              "#f0f921"
             ]
            ],
            "type": "histogram2d"
           }
          ],
          "histogram2dcontour": [
           {
            "colorbar": {
             "outlinewidth": 0,
             "ticks": ""
            },
            "colorscale": [
             [
              0,
              "#0d0887"
             ],
             [
              0.1111111111111111,
              "#46039f"
             ],
             [
              0.2222222222222222,
              "#7201a8"
             ],
             [
              0.3333333333333333,
              "#9c179e"
             ],
             [
              0.4444444444444444,
              "#bd3786"
             ],
             [
              0.5555555555555556,
              "#d8576b"
             ],
             [
              0.6666666666666666,
              "#ed7953"
             ],
             [
              0.7777777777777778,
              "#fb9f3a"
             ],
             [
              0.8888888888888888,
              "#fdca26"
             ],
             [
              1,
              "#f0f921"
             ]
            ],
            "type": "histogram2dcontour"
           }
          ],
          "mesh3d": [
           {
            "colorbar": {
             "outlinewidth": 0,
             "ticks": ""
            },
            "type": "mesh3d"
           }
          ],
          "parcoords": [
           {
            "line": {
             "colorbar": {
              "outlinewidth": 0,
              "ticks": ""
             }
            },
            "type": "parcoords"
           }
          ],
          "pie": [
           {
            "automargin": true,
            "type": "pie"
           }
          ],
          "scatter": [
           {
            "marker": {
             "colorbar": {
              "outlinewidth": 0,
              "ticks": ""
             }
            },
            "type": "scatter"
           }
          ],
          "scatter3d": [
           {
            "line": {
             "colorbar": {
              "outlinewidth": 0,
              "ticks": ""
             }
            },
            "marker": {
             "colorbar": {
              "outlinewidth": 0,
              "ticks": ""
             }
            },
            "type": "scatter3d"
           }
          ],
          "scattercarpet": [
           {
            "marker": {
             "colorbar": {
              "outlinewidth": 0,
              "ticks": ""
             }
            },
            "type": "scattercarpet"
           }
          ],
          "scattergeo": [
           {
            "marker": {
             "colorbar": {
              "outlinewidth": 0,
              "ticks": ""
             }
            },
            "type": "scattergeo"
           }
          ],
          "scattergl": [
           {
            "marker": {
             "colorbar": {
              "outlinewidth": 0,
              "ticks": ""
             }
            },
            "type": "scattergl"
           }
          ],
          "scattermapbox": [
           {
            "marker": {
             "colorbar": {
              "outlinewidth": 0,
              "ticks": ""
             }
            },
            "type": "scattermapbox"
           }
          ],
          "scatterpolar": [
           {
            "marker": {
             "colorbar": {
              "outlinewidth": 0,
              "ticks": ""
             }
            },
            "type": "scatterpolar"
           }
          ],
          "scatterpolargl": [
           {
            "marker": {
             "colorbar": {
              "outlinewidth": 0,
              "ticks": ""
             }
            },
            "type": "scatterpolargl"
           }
          ],
          "scatterternary": [
           {
            "marker": {
             "colorbar": {
              "outlinewidth": 0,
              "ticks": ""
             }
            },
            "type": "scatterternary"
           }
          ],
          "surface": [
           {
            "colorbar": {
             "outlinewidth": 0,
             "ticks": ""
            },
            "colorscale": [
             [
              0,
              "#0d0887"
             ],
             [
              0.1111111111111111,
              "#46039f"
             ],
             [
              0.2222222222222222,
              "#7201a8"
             ],
             [
              0.3333333333333333,
              "#9c179e"
             ],
             [
              0.4444444444444444,
              "#bd3786"
             ],
             [
              0.5555555555555556,
              "#d8576b"
             ],
             [
              0.6666666666666666,
              "#ed7953"
             ],
             [
              0.7777777777777778,
              "#fb9f3a"
             ],
             [
              0.8888888888888888,
              "#fdca26"
             ],
             [
              1,
              "#f0f921"
             ]
            ],
            "type": "surface"
           }
          ],
          "table": [
           {
            "cells": {
             "fill": {
              "color": "#EBF0F8"
             },
             "line": {
              "color": "white"
             }
            },
            "header": {
             "fill": {
              "color": "#C8D4E3"
             },
             "line": {
              "color": "white"
             }
            },
            "type": "table"
           }
          ]
         },
         "layout": {
          "annotationdefaults": {
           "arrowcolor": "#2a3f5f",
           "arrowhead": 0,
           "arrowwidth": 1
          },
          "autotypenumbers": "strict",
          "coloraxis": {
           "colorbar": {
            "outlinewidth": 0,
            "ticks": ""
           }
          },
          "colorscale": {
           "diverging": [
            [
             0,
             "#8e0152"
            ],
            [
             0.1,
             "#c51b7d"
            ],
            [
             0.2,
             "#de77ae"
            ],
            [
             0.3,
             "#f1b6da"
            ],
            [
             0.4,
             "#fde0ef"
            ],
            [
             0.5,
             "#f7f7f7"
            ],
            [
             0.6,
             "#e6f5d0"
            ],
            [
             0.7,
             "#b8e186"
            ],
            [
             0.8,
             "#7fbc41"
            ],
            [
             0.9,
             "#4d9221"
            ],
            [
             1,
             "#276419"
            ]
           ],
           "sequential": [
            [
             0,
             "#0d0887"
            ],
            [
             0.1111111111111111,
             "#46039f"
            ],
            [
             0.2222222222222222,
             "#7201a8"
            ],
            [
             0.3333333333333333,
             "#9c179e"
            ],
            [
             0.4444444444444444,
             "#bd3786"
            ],
            [
             0.5555555555555556,
             "#d8576b"
            ],
            [
             0.6666666666666666,
             "#ed7953"
            ],
            [
             0.7777777777777778,
             "#fb9f3a"
            ],
            [
             0.8888888888888888,
             "#fdca26"
            ],
            [
             1,
             "#f0f921"
            ]
           ],
           "sequentialminus": [
            [
             0,
             "#0d0887"
            ],
            [
             0.1111111111111111,
             "#46039f"
            ],
            [
             0.2222222222222222,
             "#7201a8"
            ],
            [
             0.3333333333333333,
             "#9c179e"
            ],
            [
             0.4444444444444444,
             "#bd3786"
            ],
            [
             0.5555555555555556,
             "#d8576b"
            ],
            [
             0.6666666666666666,
             "#ed7953"
            ],
            [
             0.7777777777777778,
             "#fb9f3a"
            ],
            [
             0.8888888888888888,
             "#fdca26"
            ],
            [
             1,
             "#f0f921"
            ]
           ]
          },
          "colorway": [
           "#636efa",
           "#EF553B",
           "#00cc96",
           "#ab63fa",
           "#FFA15A",
           "#19d3f3",
           "#FF6692",
           "#B6E880",
           "#FF97FF",
           "#FECB52"
          ],
          "font": {
           "color": "#2a3f5f"
          },
          "geo": {
           "bgcolor": "white",
           "lakecolor": "white",
           "landcolor": "#E5ECF6",
           "showlakes": true,
           "showland": true,
           "subunitcolor": "white"
          },
          "hoverlabel": {
           "align": "left"
          },
          "hovermode": "closest",
          "mapbox": {
           "style": "light"
          },
          "paper_bgcolor": "white",
          "plot_bgcolor": "#E5ECF6",
          "polar": {
           "angularaxis": {
            "gridcolor": "white",
            "linecolor": "white",
            "ticks": ""
           },
           "bgcolor": "#E5ECF6",
           "radialaxis": {
            "gridcolor": "white",
            "linecolor": "white",
            "ticks": ""
           }
          },
          "scene": {
           "xaxis": {
            "backgroundcolor": "#E5ECF6",
            "gridcolor": "white",
            "gridwidth": 2,
            "linecolor": "white",
            "showbackground": true,
            "ticks": "",
            "zerolinecolor": "white"
           },
           "yaxis": {
            "backgroundcolor": "#E5ECF6",
            "gridcolor": "white",
            "gridwidth": 2,
            "linecolor": "white",
            "showbackground": true,
            "ticks": "",
            "zerolinecolor": "white"
           },
           "zaxis": {
            "backgroundcolor": "#E5ECF6",
            "gridcolor": "white",
            "gridwidth": 2,
            "linecolor": "white",
            "showbackground": true,
            "ticks": "",
            "zerolinecolor": "white"
           }
          },
          "shapedefaults": {
           "line": {
            "color": "#2a3f5f"
           }
          },
          "ternary": {
           "aaxis": {
            "gridcolor": "white",
            "linecolor": "white",
            "ticks": ""
           },
           "baxis": {
            "gridcolor": "white",
            "linecolor": "white",
            "ticks": ""
           },
           "bgcolor": "#E5ECF6",
           "caxis": {
            "gridcolor": "white",
            "linecolor": "white",
            "ticks": ""
           }
          },
          "title": {
           "x": 0.05
          },
          "xaxis": {
           "automargin": true,
           "gridcolor": "white",
           "linecolor": "white",
           "ticks": "",
           "title": {
            "standoff": 15
           },
           "zerolinecolor": "white",
           "zerolinewidth": 2
          },
          "yaxis": {
           "automargin": true,
           "gridcolor": "white",
           "linecolor": "white",
           "ticks": "",
           "title": {
            "standoff": 15
           },
           "zerolinecolor": "white",
           "zerolinewidth": 2
          }
         }
        },
        "title": {
         "text": "Número de tuits por hora"
        }
       }
      },
      "text/html": [
       "<div>                            <div id=\"1805e381-d88b-4ece-a2c5-80831931a526\" class=\"plotly-graph-div\" style=\"height:525px; width:100%;\"></div>            <script type=\"text/javascript\">                require([\"plotly\"], function(Plotly) {                    window.PLOTLYENV=window.PLOTLYENV || {};                                    if (document.getElementById(\"1805e381-d88b-4ece-a2c5-80831931a526\")) {                    Plotly.newPlot(                        \"1805e381-d88b-4ece-a2c5-80831931a526\",                        [{\"hoverinfo\": \"text\", \"line\": {\"color\": \"blue\"}, \"mode\": \"lines+markers\", \"name\": \"Horas\", \"text\": [\"Fecha: 00:01:00<br>Tuits: 1\", \"Fecha: 00:05:00<br>Tuits: 1\", \"Fecha: 00:06:00<br>Tuits: 2\", \"Fecha: 00:08:00<br>Tuits: 1\", \"Fecha: 00:09:00<br>Tuits: 1\", \"Fecha: 00:11:00<br>Tuits: 1\", \"Fecha: 00:12:00<br>Tuits: 1\", \"Fecha: 00:15:00<br>Tuits: 1\", \"Fecha: 00:16:00<br>Tuits: 1\", \"Fecha: 00:17:00<br>Tuits: 2\", \"Fecha: 00:22:00<br>Tuits: 1\", \"Fecha: 00:23:00<br>Tuits: 1\", \"Fecha: 00:24:00<br>Tuits: 1\", \"Fecha: 00:26:00<br>Tuits: 1\", \"Fecha: 00:28:00<br>Tuits: 2\", \"Fecha: 00:30:00<br>Tuits: 2\", \"Fecha: 00:31:00<br>Tuits: 1\", \"Fecha: 00:38:00<br>Tuits: 1\", \"Fecha: 00:39:00<br>Tuits: 1\", \"Fecha: 00:49:00<br>Tuits: 2\", \"Fecha: 00:50:00<br>Tuits: 1\", \"Fecha: 00:51:00<br>Tuits: 1\", \"Fecha: 00:53:00<br>Tuits: 4\", \"Fecha: 00:54:00<br>Tuits: 2\", \"Fecha: 00:55:00<br>Tuits: 4\", \"Fecha: 00:56:00<br>Tuits: 3\", \"Fecha: 00:57:00<br>Tuits: 2\", \"Fecha: 00:58:00<br>Tuits: 4\", \"Fecha: 00:59:00<br>Tuits: 1\", \"Fecha: 01:01:00<br>Tuits: 1\", \"Fecha: 01:03:00<br>Tuits: 1\", \"Fecha: 01:06:00<br>Tuits: 1\", \"Fecha: 01:08:00<br>Tuits: 1\", \"Fecha: 22:27:00<br>Tuits: 1\", \"Fecha: 22:30:00<br>Tuits: 1\", \"Fecha: 22:31:00<br>Tuits: 2\", \"Fecha: 22:32:00<br>Tuits: 1\", \"Fecha: 22:33:00<br>Tuits: 1\", \"Fecha: 22:35:00<br>Tuits: 1\", \"Fecha: 22:38:00<br>Tuits: 1\", \"Fecha: 22:41:00<br>Tuits: 1\", \"Fecha: 22:43:00<br>Tuits: 1\", \"Fecha: 22:52:00<br>Tuits: 1\", \"Fecha: 22:54:00<br>Tuits: 1\", \"Fecha: 22:55:00<br>Tuits: 1\", \"Fecha: 22:59:00<br>Tuits: 1\", \"Fecha: 23:00:00<br>Tuits: 3\", \"Fecha: 23:01:00<br>Tuits: 1\", \"Fecha: 23:03:00<br>Tuits: 1\", \"Fecha: 23:07:00<br>Tuits: 1\", \"Fecha: 23:10:00<br>Tuits: 1\", \"Fecha: 23:11:00<br>Tuits: 1\", \"Fecha: 23:16:00<br>Tuits: 1\", \"Fecha: 23:17:00<br>Tuits: 1\", \"Fecha: 23:19:00<br>Tuits: 1\", \"Fecha: 23:20:00<br>Tuits: 1\", \"Fecha: 23:23:00<br>Tuits: 1\", \"Fecha: 23:28:00<br>Tuits: 1\", \"Fecha: 23:31:00<br>Tuits: 1\", \"Fecha: 23:32:00<br>Tuits: 1\", \"Fecha: 23:34:00<br>Tuits: 1\", \"Fecha: 23:35:00<br>Tuits: 2\", \"Fecha: 23:36:00<br>Tuits: 2\", \"Fecha: 23:37:00<br>Tuits: 2\", \"Fecha: 23:40:00<br>Tuits: 1\", \"Fecha: 23:41:00<br>Tuits: 2\", \"Fecha: 23:42:00<br>Tuits: 1\", \"Fecha: 23:45:00<br>Tuits: 1\", \"Fecha: 23:49:00<br>Tuits: 2\", \"Fecha: 23:54:00<br>Tuits: 1\", \"Fecha: 23:55:00<br>Tuits: 1\", \"Fecha: 23:56:00<br>Tuits: 1\", \"Fecha: 23:58:00<br>Tuits: 1\", \"Fecha: 23:59:00<br>Tuits: 1\"], \"type\": \"scatter\", \"x\": [\"00:01:00\", \"00:05:00\", \"00:06:00\", \"00:08:00\", \"00:09:00\", \"00:11:00\", \"00:12:00\", \"00:15:00\", \"00:16:00\", \"00:17:00\", \"00:22:00\", \"00:23:00\", \"00:24:00\", \"00:26:00\", \"00:28:00\", \"00:30:00\", \"00:31:00\", \"00:38:00\", \"00:39:00\", \"00:49:00\", \"00:50:00\", \"00:51:00\", \"00:53:00\", \"00:54:00\", \"00:55:00\", \"00:56:00\", \"00:57:00\", \"00:58:00\", \"00:59:00\", \"01:01:00\", \"01:03:00\", \"01:06:00\", \"01:08:00\", \"22:27:00\", \"22:30:00\", \"22:31:00\", \"22:32:00\", \"22:33:00\", \"22:35:00\", \"22:38:00\", \"22:41:00\", \"22:43:00\", \"22:52:00\", \"22:54:00\", \"22:55:00\", \"22:59:00\", \"23:00:00\", \"23:01:00\", \"23:03:00\", \"23:07:00\", \"23:10:00\", \"23:11:00\", \"23:16:00\", \"23:17:00\", \"23:19:00\", \"23:20:00\", \"23:23:00\", \"23:28:00\", \"23:31:00\", \"23:32:00\", \"23:34:00\", \"23:35:00\", \"23:36:00\", \"23:37:00\", \"23:40:00\", \"23:41:00\", \"23:42:00\", \"23:45:00\", \"23:49:00\", \"23:54:00\", \"23:55:00\", \"23:56:00\", \"23:58:00\", \"23:59:00\"], \"y\": [1, 1, 2, 1, 1, 1, 1, 1, 1, 2, 1, 1, 1, 1, 2, 2, 1, 1, 1, 2, 1, 1, 4, 2, 4, 3, 2, 4, 1, 1, 1, 1, 1, 1, 1, 2, 1, 1, 1, 1, 1, 1, 1, 1, 1, 1, 3, 1, 1, 1, 1, 1, 1, 1, 1, 1, 1, 1, 1, 1, 1, 2, 2, 2, 1, 2, 1, 1, 2, 1, 1, 1, 1, 1]}],                        {\"template\": {\"data\": {\"bar\": [{\"error_x\": {\"color\": \"#2a3f5f\"}, \"error_y\": {\"color\": \"#2a3f5f\"}, \"marker\": {\"line\": {\"color\": \"#E5ECF6\", \"width\": 0.5}}, \"type\": \"bar\"}], \"barpolar\": [{\"marker\": {\"line\": {\"color\": \"#E5ECF6\", \"width\": 0.5}}, \"type\": \"barpolar\"}], \"carpet\": [{\"aaxis\": {\"endlinecolor\": \"#2a3f5f\", \"gridcolor\": \"white\", \"linecolor\": \"white\", \"minorgridcolor\": \"white\", \"startlinecolor\": \"#2a3f5f\"}, \"baxis\": {\"endlinecolor\": \"#2a3f5f\", \"gridcolor\": \"white\", \"linecolor\": \"white\", \"minorgridcolor\": \"white\", \"startlinecolor\": \"#2a3f5f\"}, \"type\": \"carpet\"}], \"choropleth\": [{\"colorbar\": {\"outlinewidth\": 0, \"ticks\": \"\"}, \"type\": \"choropleth\"}], \"contour\": [{\"colorbar\": {\"outlinewidth\": 0, \"ticks\": \"\"}, \"colorscale\": [[0.0, \"#0d0887\"], [0.1111111111111111, \"#46039f\"], [0.2222222222222222, \"#7201a8\"], [0.3333333333333333, \"#9c179e\"], [0.4444444444444444, \"#bd3786\"], [0.5555555555555556, \"#d8576b\"], [0.6666666666666666, \"#ed7953\"], [0.7777777777777778, \"#fb9f3a\"], [0.8888888888888888, \"#fdca26\"], [1.0, \"#f0f921\"]], \"type\": \"contour\"}], \"contourcarpet\": [{\"colorbar\": {\"outlinewidth\": 0, \"ticks\": \"\"}, \"type\": \"contourcarpet\"}], \"heatmap\": [{\"colorbar\": {\"outlinewidth\": 0, \"ticks\": \"\"}, \"colorscale\": [[0.0, \"#0d0887\"], [0.1111111111111111, \"#46039f\"], [0.2222222222222222, \"#7201a8\"], [0.3333333333333333, \"#9c179e\"], [0.4444444444444444, \"#bd3786\"], [0.5555555555555556, \"#d8576b\"], [0.6666666666666666, \"#ed7953\"], [0.7777777777777778, \"#fb9f3a\"], [0.8888888888888888, \"#fdca26\"], [1.0, \"#f0f921\"]], \"type\": \"heatmap\"}], \"heatmapgl\": [{\"colorbar\": {\"outlinewidth\": 0, \"ticks\": \"\"}, \"colorscale\": [[0.0, \"#0d0887\"], [0.1111111111111111, \"#46039f\"], [0.2222222222222222, \"#7201a8\"], [0.3333333333333333, \"#9c179e\"], [0.4444444444444444, \"#bd3786\"], [0.5555555555555556, \"#d8576b\"], [0.6666666666666666, \"#ed7953\"], [0.7777777777777778, \"#fb9f3a\"], [0.8888888888888888, \"#fdca26\"], [1.0, \"#f0f921\"]], \"type\": \"heatmapgl\"}], \"histogram\": [{\"marker\": {\"colorbar\": {\"outlinewidth\": 0, \"ticks\": \"\"}}, \"type\": \"histogram\"}], \"histogram2d\": [{\"colorbar\": {\"outlinewidth\": 0, \"ticks\": \"\"}, \"colorscale\": [[0.0, \"#0d0887\"], [0.1111111111111111, \"#46039f\"], [0.2222222222222222, \"#7201a8\"], [0.3333333333333333, \"#9c179e\"], [0.4444444444444444, \"#bd3786\"], [0.5555555555555556, \"#d8576b\"], [0.6666666666666666, \"#ed7953\"], [0.7777777777777778, \"#fb9f3a\"], [0.8888888888888888, \"#fdca26\"], [1.0, \"#f0f921\"]], \"type\": \"histogram2d\"}], \"histogram2dcontour\": [{\"colorbar\": {\"outlinewidth\": 0, \"ticks\": \"\"}, \"colorscale\": [[0.0, \"#0d0887\"], [0.1111111111111111, \"#46039f\"], [0.2222222222222222, \"#7201a8\"], [0.3333333333333333, \"#9c179e\"], [0.4444444444444444, \"#bd3786\"], [0.5555555555555556, \"#d8576b\"], [0.6666666666666666, \"#ed7953\"], [0.7777777777777778, \"#fb9f3a\"], [0.8888888888888888, \"#fdca26\"], [1.0, \"#f0f921\"]], \"type\": \"histogram2dcontour\"}], \"mesh3d\": [{\"colorbar\": {\"outlinewidth\": 0, \"ticks\": \"\"}, \"type\": \"mesh3d\"}], \"parcoords\": [{\"line\": {\"colorbar\": {\"outlinewidth\": 0, \"ticks\": \"\"}}, \"type\": \"parcoords\"}], \"pie\": [{\"automargin\": true, \"type\": \"pie\"}], \"scatter\": [{\"marker\": {\"colorbar\": {\"outlinewidth\": 0, \"ticks\": \"\"}}, \"type\": \"scatter\"}], \"scatter3d\": [{\"line\": {\"colorbar\": {\"outlinewidth\": 0, \"ticks\": \"\"}}, \"marker\": {\"colorbar\": {\"outlinewidth\": 0, \"ticks\": \"\"}}, \"type\": \"scatter3d\"}], \"scattercarpet\": [{\"marker\": {\"colorbar\": {\"outlinewidth\": 0, \"ticks\": \"\"}}, \"type\": \"scattercarpet\"}], \"scattergeo\": [{\"marker\": {\"colorbar\": {\"outlinewidth\": 0, \"ticks\": \"\"}}, \"type\": \"scattergeo\"}], \"scattergl\": [{\"marker\": {\"colorbar\": {\"outlinewidth\": 0, \"ticks\": \"\"}}, \"type\": \"scattergl\"}], \"scattermapbox\": [{\"marker\": {\"colorbar\": {\"outlinewidth\": 0, \"ticks\": \"\"}}, \"type\": \"scattermapbox\"}], \"scatterpolar\": [{\"marker\": {\"colorbar\": {\"outlinewidth\": 0, \"ticks\": \"\"}}, \"type\": \"scatterpolar\"}], \"scatterpolargl\": [{\"marker\": {\"colorbar\": {\"outlinewidth\": 0, \"ticks\": \"\"}}, \"type\": \"scatterpolargl\"}], \"scatterternary\": [{\"marker\": {\"colorbar\": {\"outlinewidth\": 0, \"ticks\": \"\"}}, \"type\": \"scatterternary\"}], \"surface\": [{\"colorbar\": {\"outlinewidth\": 0, \"ticks\": \"\"}, \"colorscale\": [[0.0, \"#0d0887\"], [0.1111111111111111, \"#46039f\"], [0.2222222222222222, \"#7201a8\"], [0.3333333333333333, \"#9c179e\"], [0.4444444444444444, \"#bd3786\"], [0.5555555555555556, \"#d8576b\"], [0.6666666666666666, \"#ed7953\"], [0.7777777777777778, \"#fb9f3a\"], [0.8888888888888888, \"#fdca26\"], [1.0, \"#f0f921\"]], \"type\": \"surface\"}], \"table\": [{\"cells\": {\"fill\": {\"color\": \"#EBF0F8\"}, \"line\": {\"color\": \"white\"}}, \"header\": {\"fill\": {\"color\": \"#C8D4E3\"}, \"line\": {\"color\": \"white\"}}, \"type\": \"table\"}]}, \"layout\": {\"annotationdefaults\": {\"arrowcolor\": \"#2a3f5f\", \"arrowhead\": 0, \"arrowwidth\": 1}, \"autotypenumbers\": \"strict\", \"coloraxis\": {\"colorbar\": {\"outlinewidth\": 0, \"ticks\": \"\"}}, \"colorscale\": {\"diverging\": [[0, \"#8e0152\"], [0.1, \"#c51b7d\"], [0.2, \"#de77ae\"], [0.3, \"#f1b6da\"], [0.4, \"#fde0ef\"], [0.5, \"#f7f7f7\"], [0.6, \"#e6f5d0\"], [0.7, \"#b8e186\"], [0.8, \"#7fbc41\"], [0.9, \"#4d9221\"], [1, \"#276419\"]], \"sequential\": [[0.0, \"#0d0887\"], [0.1111111111111111, \"#46039f\"], [0.2222222222222222, \"#7201a8\"], [0.3333333333333333, \"#9c179e\"], [0.4444444444444444, \"#bd3786\"], [0.5555555555555556, \"#d8576b\"], [0.6666666666666666, \"#ed7953\"], [0.7777777777777778, \"#fb9f3a\"], [0.8888888888888888, \"#fdca26\"], [1.0, \"#f0f921\"]], \"sequentialminus\": [[0.0, \"#0d0887\"], [0.1111111111111111, \"#46039f\"], [0.2222222222222222, \"#7201a8\"], [0.3333333333333333, \"#9c179e\"], [0.4444444444444444, \"#bd3786\"], [0.5555555555555556, \"#d8576b\"], [0.6666666666666666, \"#ed7953\"], [0.7777777777777778, \"#fb9f3a\"], [0.8888888888888888, \"#fdca26\"], [1.0, \"#f0f921\"]]}, \"colorway\": [\"#636efa\", \"#EF553B\", \"#00cc96\", \"#ab63fa\", \"#FFA15A\", \"#19d3f3\", \"#FF6692\", \"#B6E880\", \"#FF97FF\", \"#FECB52\"], \"font\": {\"color\": \"#2a3f5f\"}, \"geo\": {\"bgcolor\": \"white\", \"lakecolor\": \"white\", \"landcolor\": \"#E5ECF6\", \"showlakes\": true, \"showland\": true, \"subunitcolor\": \"white\"}, \"hoverlabel\": {\"align\": \"left\"}, \"hovermode\": \"closest\", \"mapbox\": {\"style\": \"light\"}, \"paper_bgcolor\": \"white\", \"plot_bgcolor\": \"#E5ECF6\", \"polar\": {\"angularaxis\": {\"gridcolor\": \"white\", \"linecolor\": \"white\", \"ticks\": \"\"}, \"bgcolor\": \"#E5ECF6\", \"radialaxis\": {\"gridcolor\": \"white\", \"linecolor\": \"white\", \"ticks\": \"\"}}, \"scene\": {\"xaxis\": {\"backgroundcolor\": \"#E5ECF6\", \"gridcolor\": \"white\", \"gridwidth\": 2, \"linecolor\": \"white\", \"showbackground\": true, \"ticks\": \"\", \"zerolinecolor\": \"white\"}, \"yaxis\": {\"backgroundcolor\": \"#E5ECF6\", \"gridcolor\": \"white\", \"gridwidth\": 2, \"linecolor\": \"white\", \"showbackground\": true, \"ticks\": \"\", \"zerolinecolor\": \"white\"}, \"zaxis\": {\"backgroundcolor\": \"#E5ECF6\", \"gridcolor\": \"white\", \"gridwidth\": 2, \"linecolor\": \"white\", \"showbackground\": true, \"ticks\": \"\", \"zerolinecolor\": \"white\"}}, \"shapedefaults\": {\"line\": {\"color\": \"#2a3f5f\"}}, \"ternary\": {\"aaxis\": {\"gridcolor\": \"white\", \"linecolor\": \"white\", \"ticks\": \"\"}, \"baxis\": {\"gridcolor\": \"white\", \"linecolor\": \"white\", \"ticks\": \"\"}, \"bgcolor\": \"#E5ECF6\", \"caxis\": {\"gridcolor\": \"white\", \"linecolor\": \"white\", \"ticks\": \"\"}}, \"title\": {\"x\": 0.05}, \"xaxis\": {\"automargin\": true, \"gridcolor\": \"white\", \"linecolor\": \"white\", \"ticks\": \"\", \"title\": {\"standoff\": 15}, \"zerolinecolor\": \"white\", \"zerolinewidth\": 2}, \"yaxis\": {\"automargin\": true, \"gridcolor\": \"white\", \"linecolor\": \"white\", \"ticks\": \"\", \"title\": {\"standoff\": 15}, \"zerolinecolor\": \"white\", \"zerolinewidth\": 2}}}, \"title\": {\"text\": \"N\\u00famero de tuits por hora\"}},                        {\"responsive\": true}                    ).then(function(){\n",
       "                            \n",
       "var gd = document.getElementById('1805e381-d88b-4ece-a2c5-80831931a526');\n",
       "var x = new MutationObserver(function (mutations, observer) {{\n",
       "        var display = window.getComputedStyle(gd).display;\n",
       "        if (!display || display === 'none') {{\n",
       "            console.log([gd, 'removed!']);\n",
       "            Plotly.purge(gd);\n",
       "            observer.disconnect();\n",
       "        }}\n",
       "}});\n",
       "\n",
       "// Listen for the removal of the full notebook cells\n",
       "var notebookContainer = gd.closest('#notebook-container');\n",
       "if (notebookContainer) {{\n",
       "    x.observe(notebookContainer, {childList: true});\n",
       "}}\n",
       "\n",
       "// Listen for the clearing of the current output cell\n",
       "var outputEl = gd.closest('.output');\n",
       "if (outputEl) {{\n",
       "    x.observe(outputEl, {childList: true});\n",
       "}}\n",
       "\n",
       "                        })                };                });            </script>        </div>"
      ]
     },
     "metadata": {},
     "output_type": "display_data"
    }
   ],
   "source": [
    "trace = go.Scatter(x=temp.hora.values,\n",
    "                   y=temp.cnt.values,\n",
    "                   text=[f\"Fecha: {f}<br>Tuits: {c}\" for f,c in zip(temp.hora.values,temp.cnt.values)],\n",
    "                   hoverinfo='text',\n",
    "                   mode='lines+markers',\n",
    "                   name='Horas',\n",
    "                   line={'color': 'blue'})\n",
    "layout = go.Layout(title=\"Número de tuits por hora\")\n",
    "\n",
    "fig = go.Figure(data=[trace], layout=layout)\n",
    "iplot(fig)"
   ]
  },
  {
   "cell_type": "code",
   "execution_count": null,
   "metadata": {},
   "outputs": [],
   "source": []
  }
 ],
 "metadata": {
  "kernelspec": {
   "display_name": "Python 3",
   "language": "python",
   "name": "python3"
  },
  "language_info": {
   "codemirror_mode": {
    "name": "ipython",
    "version": 3
   },
   "file_extension": ".py",
   "mimetype": "text/x-python",
   "name": "python",
   "nbconvert_exporter": "python",
   "pygments_lexer": "ipython3",
   "version": "3.8.3"
  }
 },
 "nbformat": 4,
 "nbformat_minor": 2
}
