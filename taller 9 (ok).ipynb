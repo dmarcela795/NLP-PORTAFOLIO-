{
 "cells": [
  {
   "cell_type": "markdown",
   "metadata": {},
   "source": [
    "<img src='https://encrypted-tbn0.gstatic.com/images?q=tbn%3AANd9GcQ-VfNtOyJbsaxu43Kztf_cv1mgBG6ZIQZEVw&usqp=CAU'>\n",
    "\n",
    "# Procesamiento de Lenguaje Natural\n",
    "\n",
    "## Taller #9: Modelado de temas\n",
    "`Fecha de entrega: Mayo 6, 2021. (Antes del inicio de la próxima clase).`\n",
    "\n",
    "`Modo de entrega: Subir link de GitHub al aula virtual.`"
   ]
  },
  {
   "cell_type": "code",
   "execution_count": 1,
   "metadata": {},
   "outputs": [
    {
     "name": "stderr",
     "output_type": "stream",
     "text": [
      "C:\\Users\\Asus\\anaconda3\\lib\\site-packages\\scipy\\sparse\\sparsetools.py:21: DeprecationWarning: `scipy.sparse.sparsetools` is deprecated!\n",
      "scipy.sparse.sparsetools is a private module for scipy.sparse, and should not be used.\n",
      "  _deprecated()\n",
      "C:\\Users\\Asus\\anaconda3\\lib\\site-packages\\gensim\\similarities\\__init__.py:15: UserWarning: The gensim.similarities.levenshtein submodule is disabled, because the optional Levenshtein package <https://pypi.org/project/python-Levenshtein/> is unavailable. Install Levenhstein (e.g. `pip install python-Levenshtein`) to suppress this warning.\n",
      "  warnings.warn(msg)\n"
     ]
    }
   ],
   "source": [
    "import re\n",
    "import pandas as pd \n",
    "from pprint import pprint\n",
    "\n",
    "from nltk.corpus import stopwords\n",
    "stopwords = stopwords.words('spanish')\n",
    "\n",
    "import pyLDAvis.gensim_models\n",
    "from gensim.models import LdaModel\n",
    "from gensim.corpora import Dictionary\n",
    "\n",
    "import warnings\n",
    "warnings.filterwarnings(\"ignore\", category=DeprecationWarning)"
   ]
  },
  {
   "cell_type": "code",
   "execution_count": 2,
   "metadata": {},
   "outputs": [
    {
     "data": {
      "text/html": [
       "<div>\n",
       "<style scoped>\n",
       "    .dataframe tbody tr th:only-of-type {\n",
       "        vertical-align: middle;\n",
       "    }\n",
       "\n",
       "    .dataframe tbody tr th {\n",
       "        vertical-align: top;\n",
       "    }\n",
       "\n",
       "    .dataframe thead th {\n",
       "        text-align: right;\n",
       "    }\n",
       "</style>\n",
       "<table border=\"1\" class=\"dataframe\">\n",
       "  <thead>\n",
       "    <tr style=\"text-align: right;\">\n",
       "      <th></th>\n",
       "      <th>review_id</th>\n",
       "      <th>product_id</th>\n",
       "      <th>reviewer_id</th>\n",
       "      <th>stars</th>\n",
       "      <th>review_body</th>\n",
       "      <th>review_title</th>\n",
       "      <th>language</th>\n",
       "      <th>product_category</th>\n",
       "    </tr>\n",
       "  </thead>\n",
       "  <tbody>\n",
       "    <tr>\n",
       "      <th>0</th>\n",
       "      <td>es_0825565</td>\n",
       "      <td>product_es_0370490</td>\n",
       "      <td>reviewer_es_0174781</td>\n",
       "      <td>3</td>\n",
       "      <td>Buen. Buena calidad, y buena presentación.</td>\n",
       "      <td>Contenta</td>\n",
       "      <td>es</td>\n",
       "      <td>jewelry</td>\n",
       "    </tr>\n",
       "    <tr>\n",
       "      <th>1</th>\n",
       "      <td>es_0227934</td>\n",
       "      <td>product_es_0354224</td>\n",
       "      <td>reviewer_es_0411613</td>\n",
       "      <td>3</td>\n",
       "      <td>Un producto a perfecto, para salir de casa con...</td>\n",
       "      <td>Versatilidad</td>\n",
       "      <td>es</td>\n",
       "      <td>video_games</td>\n",
       "    </tr>\n",
       "    <tr>\n",
       "      <th>2</th>\n",
       "      <td>es_0468601</td>\n",
       "      <td>product_es_0665460</td>\n",
       "      <td>reviewer_es_0348315</td>\n",
       "      <td>1</td>\n",
       "      <td>No funciona con Nintendo Switch. No hay forma ...</td>\n",
       "      <td>Decepción absoluta</td>\n",
       "      <td>es</td>\n",
       "      <td>video_games</td>\n",
       "    </tr>\n",
       "    <tr>\n",
       "      <th>3</th>\n",
       "      <td>es_0814494</td>\n",
       "      <td>product_es_0692692</td>\n",
       "      <td>reviewer_es_0951508</td>\n",
       "      <td>5</td>\n",
       "      <td>Recomendado, los utilizo para pc y no me dan n...</td>\n",
       "      <td>Auriculares Pecham ps4</td>\n",
       "      <td>es</td>\n",
       "      <td>video_games</td>\n",
       "    </tr>\n",
       "    <tr>\n",
       "      <th>4</th>\n",
       "      <td>es_0206329</td>\n",
       "      <td>product_es_0728826</td>\n",
       "      <td>reviewer_es_0493255</td>\n",
       "      <td>4</td>\n",
       "      <td>El cable funciona bien podria ser un poco mas ...</td>\n",
       "      <td>Perfecto</td>\n",
       "      <td>es</td>\n",
       "      <td>video_games</td>\n",
       "    </tr>\n",
       "  </tbody>\n",
       "</table>\n",
       "</div>"
      ],
      "text/plain": [
       "    review_id          product_id          reviewer_id  stars  \\\n",
       "0  es_0825565  product_es_0370490  reviewer_es_0174781      3   \n",
       "1  es_0227934  product_es_0354224  reviewer_es_0411613      3   \n",
       "2  es_0468601  product_es_0665460  reviewer_es_0348315      1   \n",
       "3  es_0814494  product_es_0692692  reviewer_es_0951508      5   \n",
       "4  es_0206329  product_es_0728826  reviewer_es_0493255      4   \n",
       "\n",
       "                                         review_body            review_title  \\\n",
       "0         Buen. Buena calidad, y buena presentación.                Contenta   \n",
       "1  Un producto a perfecto, para salir de casa con...            Versatilidad   \n",
       "2  No funciona con Nintendo Switch. No hay forma ...      Decepción absoluta   \n",
       "3  Recomendado, los utilizo para pc y no me dan n...  Auriculares Pecham ps4   \n",
       "4  El cable funciona bien podria ser un poco mas ...                Perfecto   \n",
       "\n",
       "  language product_category  \n",
       "0       es          jewelry  \n",
       "1       es      video_games  \n",
       "2       es      video_games  \n",
       "3       es      video_games  \n",
       "4       es      video_games  "
      ]
     },
     "execution_count": 2,
     "metadata": {},
     "output_type": "execute_result"
    }
   ],
   "source": [
    "# Cargar datos\n",
    "path = 'reviews_vidjew_es.csv'\n",
    "data = pd.read_csv(path)\n",
    "data.head()"
   ]
  },
  {
   "cell_type": "markdown",
   "metadata": {},
   "source": [
    "###  `[12 pts]` Punto 1: Hacer pre-procesamiento del texto"
   ]
  },
  {
   "cell_type": "code",
   "execution_count": 5,
   "metadata": {},
   "outputs": [],
   "source": [
    "import re \n",
    "from nltk.corpus import stopwords"
   ]
  },
  {
   "cell_type": "code",
   "execution_count": 6,
   "metadata": {},
   "outputs": [],
   "source": [
    "stopwords = stopwords.words('spanish')"
   ]
  },
  {
   "cell_type": "code",
   "execution_count": 7,
   "metadata": {},
   "outputs": [],
   "source": [
    "def pre_procesado(texto):\n",
    "    texto = texto.lower()\n",
    "    texto = re.sub(r\"[\\W\\d]+\", \" \", texto)\n",
    "    texto = [palabra for palabra in texto.split() if palabra not in stopwords]\n",
    "    return texto "
   ]
  },
  {
   "cell_type": "code",
   "execution_count": 10,
   "metadata": {},
   "outputs": [],
   "source": [
    "data['Pre-Processed'] = data['review_body'].apply(lambda texto: pre_procesado(texto))"
   ]
  },
  {
   "cell_type": "code",
   "execution_count": 12,
   "metadata": {},
   "outputs": [
    {
     "data": {
      "text/html": [
       "<div>\n",
       "<style scoped>\n",
       "    .dataframe tbody tr th:only-of-type {\n",
       "        vertical-align: middle;\n",
       "    }\n",
       "\n",
       "    .dataframe tbody tr th {\n",
       "        vertical-align: top;\n",
       "    }\n",
       "\n",
       "    .dataframe thead th {\n",
       "        text-align: right;\n",
       "    }\n",
       "</style>\n",
       "<table border=\"1\" class=\"dataframe\">\n",
       "  <thead>\n",
       "    <tr style=\"text-align: right;\">\n",
       "      <th></th>\n",
       "      <th>review_id</th>\n",
       "      <th>product_id</th>\n",
       "      <th>reviewer_id</th>\n",
       "      <th>stars</th>\n",
       "      <th>review_body</th>\n",
       "      <th>review_title</th>\n",
       "      <th>language</th>\n",
       "      <th>product_category</th>\n",
       "      <th>Pre-Processed</th>\n",
       "    </tr>\n",
       "  </thead>\n",
       "  <tbody>\n",
       "    <tr>\n",
       "      <th>0</th>\n",
       "      <td>es_0825565</td>\n",
       "      <td>product_es_0370490</td>\n",
       "      <td>reviewer_es_0174781</td>\n",
       "      <td>3</td>\n",
       "      <td>Buen. Buena calidad, y buena presentación.</td>\n",
       "      <td>Contenta</td>\n",
       "      <td>es</td>\n",
       "      <td>jewelry</td>\n",
       "      <td>[buen, buena, calidad, buena, presentación]</td>\n",
       "    </tr>\n",
       "    <tr>\n",
       "      <th>1</th>\n",
       "      <td>es_0227934</td>\n",
       "      <td>product_es_0354224</td>\n",
       "      <td>reviewer_es_0411613</td>\n",
       "      <td>3</td>\n",
       "      <td>Un producto a perfecto, para salir de casa con...</td>\n",
       "      <td>Versatilidad</td>\n",
       "      <td>es</td>\n",
       "      <td>video_games</td>\n",
       "      <td>[producto, perfecto, salir, casa, nintendo, sw...</td>\n",
       "    </tr>\n",
       "    <tr>\n",
       "      <th>2</th>\n",
       "      <td>es_0468601</td>\n",
       "      <td>product_es_0665460</td>\n",
       "      <td>reviewer_es_0348315</td>\n",
       "      <td>1</td>\n",
       "      <td>No funciona con Nintendo Switch. No hay forma ...</td>\n",
       "      <td>Decepción absoluta</td>\n",
       "      <td>es</td>\n",
       "      <td>video_games</td>\n",
       "      <td>[funciona, nintendo, switch, forma, emparejarl...</td>\n",
       "    </tr>\n",
       "    <tr>\n",
       "      <th>3</th>\n",
       "      <td>es_0814494</td>\n",
       "      <td>product_es_0692692</td>\n",
       "      <td>reviewer_es_0951508</td>\n",
       "      <td>5</td>\n",
       "      <td>Recomendado, los utilizo para pc y no me dan n...</td>\n",
       "      <td>Auriculares Pecham ps4</td>\n",
       "      <td>es</td>\n",
       "      <td>video_games</td>\n",
       "      <td>[recomendado, utilizo, pc, dan, ningún, proble...</td>\n",
       "    </tr>\n",
       "    <tr>\n",
       "      <th>4</th>\n",
       "      <td>es_0206329</td>\n",
       "      <td>product_es_0728826</td>\n",
       "      <td>reviewer_es_0493255</td>\n",
       "      <td>4</td>\n",
       "      <td>El cable funciona bien podria ser un poco mas ...</td>\n",
       "      <td>Perfecto</td>\n",
       "      <td>es</td>\n",
       "      <td>video_games</td>\n",
       "      <td>[cable, funciona, bien, podria, ser, mas, larg...</td>\n",
       "    </tr>\n",
       "  </tbody>\n",
       "</table>\n",
       "</div>"
      ],
      "text/plain": [
       "    review_id          product_id          reviewer_id  stars  \\\n",
       "0  es_0825565  product_es_0370490  reviewer_es_0174781      3   \n",
       "1  es_0227934  product_es_0354224  reviewer_es_0411613      3   \n",
       "2  es_0468601  product_es_0665460  reviewer_es_0348315      1   \n",
       "3  es_0814494  product_es_0692692  reviewer_es_0951508      5   \n",
       "4  es_0206329  product_es_0728826  reviewer_es_0493255      4   \n",
       "\n",
       "                                         review_body            review_title  \\\n",
       "0         Buen. Buena calidad, y buena presentación.                Contenta   \n",
       "1  Un producto a perfecto, para salir de casa con...            Versatilidad   \n",
       "2  No funciona con Nintendo Switch. No hay forma ...      Decepción absoluta   \n",
       "3  Recomendado, los utilizo para pc y no me dan n...  Auriculares Pecham ps4   \n",
       "4  El cable funciona bien podria ser un poco mas ...                Perfecto   \n",
       "\n",
       "  language product_category                                      Pre-Processed  \n",
       "0       es          jewelry        [buen, buena, calidad, buena, presentación]  \n",
       "1       es      video_games  [producto, perfecto, salir, casa, nintendo, sw...  \n",
       "2       es      video_games  [funciona, nintendo, switch, forma, emparejarl...  \n",
       "3       es      video_games  [recomendado, utilizo, pc, dan, ningún, proble...  \n",
       "4       es      video_games  [cable, funciona, bien, podria, ser, mas, larg...  "
      ]
     },
     "execution_count": 12,
     "metadata": {},
     "output_type": "execute_result"
    }
   ],
   "source": [
    "data.head()"
   ]
  },
  {
   "cell_type": "code",
   "execution_count": 5,
   "metadata": {},
   "outputs": [
    {
     "data": {
      "text/html": [
       "<div>\n",
       "<style scoped>\n",
       "    .dataframe tbody tr th:only-of-type {\n",
       "        vertical-align: middle;\n",
       "    }\n",
       "\n",
       "    .dataframe tbody tr th {\n",
       "        vertical-align: top;\n",
       "    }\n",
       "\n",
       "    .dataframe thead th {\n",
       "        text-align: right;\n",
       "    }\n",
       "</style>\n",
       "<table border=\"1\" class=\"dataframe\">\n",
       "  <thead>\n",
       "    <tr style=\"text-align: right;\">\n",
       "      <th></th>\n",
       "      <th>review_id</th>\n",
       "      <th>product_id</th>\n",
       "      <th>reviewer_id</th>\n",
       "      <th>stars</th>\n",
       "      <th>review_body</th>\n",
       "      <th>review_title</th>\n",
       "      <th>language</th>\n",
       "      <th>product_category</th>\n",
       "      <th>pp</th>\n",
       "    </tr>\n",
       "  </thead>\n",
       "  <tbody>\n",
       "    <tr>\n",
       "      <th>0</th>\n",
       "      <td>es_0825565</td>\n",
       "      <td>product_es_0370490</td>\n",
       "      <td>reviewer_es_0174781</td>\n",
       "      <td>3</td>\n",
       "      <td>Buen. Buena calidad, y buena presentación.</td>\n",
       "      <td>Contenta</td>\n",
       "      <td>es</td>\n",
       "      <td>jewelry</td>\n",
       "      <td>[buen, buena, calidad, buena, presentación]</td>\n",
       "    </tr>\n",
       "    <tr>\n",
       "      <th>1</th>\n",
       "      <td>es_0227934</td>\n",
       "      <td>product_es_0354224</td>\n",
       "      <td>reviewer_es_0411613</td>\n",
       "      <td>3</td>\n",
       "      <td>Un producto a perfecto, para salir de casa con...</td>\n",
       "      <td>Versatilidad</td>\n",
       "      <td>es</td>\n",
       "      <td>video_games</td>\n",
       "      <td>[producto, perfecto, salir, casa, nintendo, sw...</td>\n",
       "    </tr>\n",
       "    <tr>\n",
       "      <th>2</th>\n",
       "      <td>es_0468601</td>\n",
       "      <td>product_es_0665460</td>\n",
       "      <td>reviewer_es_0348315</td>\n",
       "      <td>1</td>\n",
       "      <td>No funciona con Nintendo Switch. No hay forma ...</td>\n",
       "      <td>Decepción absoluta</td>\n",
       "      <td>es</td>\n",
       "      <td>video_games</td>\n",
       "      <td>[funciona, nintendo, switch, forma, emparejarl...</td>\n",
       "    </tr>\n",
       "    <tr>\n",
       "      <th>3</th>\n",
       "      <td>es_0814494</td>\n",
       "      <td>product_es_0692692</td>\n",
       "      <td>reviewer_es_0951508</td>\n",
       "      <td>5</td>\n",
       "      <td>Recomendado, los utilizo para pc y no me dan n...</td>\n",
       "      <td>Auriculares Pecham ps4</td>\n",
       "      <td>es</td>\n",
       "      <td>video_games</td>\n",
       "      <td>[recomendado, utilizo, pc, dan, ningún, proble...</td>\n",
       "    </tr>\n",
       "    <tr>\n",
       "      <th>4</th>\n",
       "      <td>es_0206329</td>\n",
       "      <td>product_es_0728826</td>\n",
       "      <td>reviewer_es_0493255</td>\n",
       "      <td>4</td>\n",
       "      <td>El cable funciona bien podria ser un poco mas ...</td>\n",
       "      <td>Perfecto</td>\n",
       "      <td>es</td>\n",
       "      <td>video_games</td>\n",
       "      <td>[cable, funciona, bien, podria, ser, mas, larg...</td>\n",
       "    </tr>\n",
       "  </tbody>\n",
       "</table>\n",
       "</div>"
      ],
      "text/plain": [
       "    review_id          product_id          reviewer_id  stars  \\\n",
       "0  es_0825565  product_es_0370490  reviewer_es_0174781      3   \n",
       "1  es_0227934  product_es_0354224  reviewer_es_0411613      3   \n",
       "2  es_0468601  product_es_0665460  reviewer_es_0348315      1   \n",
       "3  es_0814494  product_es_0692692  reviewer_es_0951508      5   \n",
       "4  es_0206329  product_es_0728826  reviewer_es_0493255      4   \n",
       "\n",
       "                                         review_body            review_title  \\\n",
       "0         Buen. Buena calidad, y buena presentación.                Contenta   \n",
       "1  Un producto a perfecto, para salir de casa con...            Versatilidad   \n",
       "2  No funciona con Nintendo Switch. No hay forma ...      Decepción absoluta   \n",
       "3  Recomendado, los utilizo para pc y no me dan n...  Auriculares Pecham ps4   \n",
       "4  El cable funciona bien podria ser un poco mas ...                Perfecto   \n",
       "\n",
       "  language product_category                                                 pp  \n",
       "0       es          jewelry        [buen, buena, calidad, buena, presentación]  \n",
       "1       es      video_games  [producto, perfecto, salir, casa, nintendo, sw...  \n",
       "2       es      video_games  [funciona, nintendo, switch, forma, emparejarl...  \n",
       "3       es      video_games  [recomendado, utilizo, pc, dan, ningún, proble...  \n",
       "4       es      video_games  [cable, funciona, bien, podria, ser, mas, larg...  "
      ]
     },
     "execution_count": 5,
     "metadata": {},
     "output_type": "execute_result"
    }
   ],
   "source": []
  },
  {
   "cell_type": "markdown",
   "metadata": {},
   "source": [
    "###  `[10 pts]` Punto 2: Modelo de LDA"
   ]
  },
  {
   "cell_type": "code",
   "execution_count": 13,
   "metadata": {},
   "outputs": [],
   "source": [
    "import pyLDAvis.gensim_models\n",
    "from gensim.models import LdaModel \n",
    "from gensim.corpora import Dictionary\n",
    "from pprint import pprint "
   ]
  },
  {
   "cell_type": "code",
   "execution_count": 14,
   "metadata": {},
   "outputs": [],
   "source": [
    "# Crear una represantación de los documentos en forma de diccionario\n",
    "dictionary = Dictionary(data['Pre-Processed'].values)\n",
    "\n",
    "# Filtrar palabras muy frecuentes o infrecuentes\n",
    "dictionary.filter_extremes(no_below=5, no_above=0.5) \n",
    "\n",
    "# Corpus\n",
    "corpus = [dictionary.doc2bow(text) for text in data['Pre-Processed'].values]\n",
    "\n",
    "# Entrenar el modelo\n",
    "model = LdaModel(corpus = corpus, id2word = dictionary, num_topics = 7, passes=50)"
   ]
  },
  {
   "cell_type": "code",
   "execution_count": 15,
   "metadata": {},
   "outputs": [
    {
     "data": {
      "text/plain": [
       "[(0,\n",
       "  '0.042*\"regalo\" + 0.035*\"juego\" + 0.027*\"si\" + 0.025*\"llego\" + 0.021*\"bien\" + 0.020*\"plata\" + 0.015*\"bonito\" + 0.015*\"tiempo\" + 0.015*\"mas\" + 0.014*\"trae\"'),\n",
       " (1,\n",
       "  '0.038*\"bonitos\" + 0.026*\"pendientes\" + 0.023*\"cadena\" + 0.023*\"calidad\" + 0.022*\"tamaño\" + 0.020*\"bien\" + 0.019*\"pequeños\" + 0.018*\"demasiado\" + 0.017*\"quedan\" + 0.016*\"tiempo\"'),\n",
       " (2,\n",
       "  '0.061*\"juego\" + 0.035*\"si\" + 0.024*\"jugar\" + 0.022*\"bien\" + 0.020*\"mejor\" + 0.019*\"ps\" + 0.015*\"español\" + 0.014*\"funciona\" + 0.014*\"juegos\" + 0.013*\"viene\"'),\n",
       " (3,\n",
       "  '0.068*\"calidad\" + 0.054*\"bien\" + 0.041*\"buena\" + 0.036*\"buen\" + 0.033*\"precio\" + 0.022*\"mando\" + 0.021*\"producto\" + 0.015*\"switch\" + 0.014*\"si\" + 0.012*\"funciona\"'),\n",
       " (4,\n",
       "  '0.041*\"día\" + 0.040*\"llegado\" + 0.020*\"producto\" + 0.015*\"si\" + 0.014*\"bien\" + 0.013*\"amazon\" + 0.013*\"después\" + 0.011*\"paquete\" + 0.011*\"ser\" + 0.010*\"pulsera\"'),\n",
       " (5,\n",
       "  '0.044*\"producto\" + 0.035*\"precio\" + 0.024*\"perfecto\" + 0.022*\"entrega\" + 0.018*\"comprar\" + 0.017*\"puede\" + 0.016*\"llegó\" + 0.016*\"artículo\" + 0.015*\"original\" + 0.014*\"pedir\"'),\n",
       " (6,\n",
       "  '0.045*\"foto\" + 0.034*\"bien\" + 0.032*\"bonito\" + 0.029*\"calidad\" + 0.027*\"queda\" + 0.022*\"bonita\" + 0.022*\"pulsera\" + 0.020*\"parece\" + 0.020*\"precio\" + 0.019*\"pequeño\"')]"
      ]
     },
     "execution_count": 15,
     "metadata": {},
     "output_type": "execute_result"
    }
   ],
   "source": [
    "model.print_topics(num_words=10)"
   ]
  },
  {
   "cell_type": "markdown",
   "metadata": {},
   "source": [
    "###  `[25 pts]` Punto 3: Visualización de LDA"
   ]
  },
  {
   "cell_type": "code",
   "execution_count": 16,
   "metadata": {},
   "outputs": [
    {
     "data": {
      "text/html": [
       "\n",
       "<link rel=\"stylesheet\" type=\"text/css\" href=\"https://cdn.jsdelivr.net/gh/bmabey/pyLDAvis@3.3.1/pyLDAvis/js/ldavis.v1.0.0.css\">\n",
       "\n",
       "\n",
       "<div id=\"ldavis_el747620718339015367022687893\"></div>\n",
       "<script type=\"text/javascript\">\n",
       "\n",
       "var ldavis_el747620718339015367022687893_data = {\"mdsDat\": {\"x\": [0.006629868877238487, 0.1417370771627885, 0.07222162252757747, -0.16309629887786448, 0.1453458163816678, -0.21475614508730131, 0.01191805901589319], \"y\": [-0.16837628544749095, -0.09829691189822817, 0.10518319388919461, -0.07527200887177056, 0.11973182356744619, 0.1042101360112285, 0.012820052749620774], \"topics\": [1, 2, 3, 4, 5, 6, 7], \"cluster\": [1, 1, 1, 1, 1, 1, 1], \"Freq\": [15.600369396750791, 15.312506727136416, 15.178407112842809, 15.17074547307438, 13.396189514411446, 13.310789602958954, 12.030992172825211]}, \"tinfo\": {\"Term\": [\"calidad\", \"juego\", \"foto\", \"d\\u00eda\", \"llegado\", \"bonitos\", \"producto\", \"buena\", \"regalo\", \"buen\", \"bonito\", \"queda\", \"pendientes\", \"plata\", \"precio\", \"bonita\", \"cadena\", \"pulsera\", \"entrega\", \"jugar\", \"si\", \"llego\", \"bien\", \"grande\", \"tama\\u00f1o\", \"ps\", \"peque\\u00f1os\", \"ve\", \"mejor\", \"peque\\u00f1o\", \"buenos\", \"sonido\", \"switch\", \"\\u00fanica\", \"cargador\", \"baja\", \"relaci\\u00f3n\", \"pro\", \"usb\", \"buena\", \"funci\\u00f3n\", \"doy\", \"presentaci\\u00f3n\", \"sistema\", \"adecuado\", \"cierra\", \"excelente\", \"transporte\", \"peor\", \"opci\\u00f3n\", \"buen\", \"nintendo\", \"correctamente\", \"detalle\", \"ajusta\", \"desear\", \"rapido\", \"va\", \"mu\\u00f1eca\", \"visto\", \"calidad\", \"momento\", \"mando\", \"bien\", \"recomiendo\", \"consola\", \"precio\", \"gusta\", \"envio\", \"material\", \"funciona\", \"original\", \"mala\", \"producto\", \"perfectamente\", \"cumple\", \"botones\", \"si\", \"mas\", \"uso\", \"regalo\", \"solo\", \"bastante\", \"espa\\u00f1ol\", \"mandos\", \"versi\\u00f3n\", \"xbox\", \"cambiar\", \"play\", \"gr\\u00e1ficos\", \"entretenido\", \"one\", \"ingles\", \"consolas\", \"ingl\\u00e9s\", \"instrucciones\", \"perfecta\", \"problemas\", \"jugar\", \"poder\", \"manera\", \"ps\", \"italiano\", \"cerrar\", \"hola\", \"castellano\", \"sitio\", \"azul\", \"alguna\", \"cargar\", \"videojuegos\", \"espa\\u00f1ola\", \"gran\", \"juegos\", \"mejor\", \"juego\", \"pc\", \"si\", \"funciona\", \"cable\", \"ahora\", \"viene\", \"problema\", \"hace\", \"caja\", \"aunque\", \"bien\", \"solo\", \"poner\", \"perfecto\", \"as\\u00ed\", \"puede\", \"mando\", \"mas\", \"bastante\", \"d\\u00eda\", \"esperando\", \"llegado\", \"fecha\", \"seg\\u00fan\", \"paquete\", \"imagen\", \"enviaron\", \"gente\", \"junto\", \"adapta\", \"pensaba\", \"hoy\", \"todav\\u00eda\", \"casa\", \"dicen\", \"deber\\u00eda\", \"previsto\", \"entregado\", \"segundo\", \"repartidor\", \"opini\\u00f3n\", \"tenia\", \"c\\u00f3mo\", \"igualmente\", \"falta\", \"valen\", \"llegaron\", \"ped\\u00ed\", \"ideal\", \"despu\\u00e9s\", \"recibido\", \"amazon\", \"luego\", \"hacer\", \"nunca\", \"decir\", \"env\\u00edo\", \"producto\", \"menos\", \"ser\", \"pulsera\", \"pl\\u00e1stico\", \"siempre\", \"si\", \"lleg\\u00f3\", \"pena\", \"mando\", \"compra\", \"bien\", \"caja\", \"recomiendo\", \"foto\", \"bonita\", \"dise\\u00f1o\", \"pandora\", \"ve\", \"fino\", \"realidad\", \"queda\", \"ven\", \"piedras\", \"perdi\\u00f3\", \"excesivamente\", \"jugabilidad\", \"elegante\", \"rosa\", \"peque\\u00f1as\", \"peque\\u00f1o\", \"s\\u00f3lo\", \"aparece\", \"cuesta\", \"colgante\", \"dem\\u00e1s\", \"pulsera\", \"colores\", \"grande\", \"parecido\", \"normal\", \"completo\", \"bolsa\", \"bonito\", \"tal\", \"f\\u00e1cilmente\", \"parece\", \"aunque\", \"gustado\", \"calidad\", \"bien\", \"bastante\", \"precio\", \"ser\", \"color\", \"igual\", \"hace\", \"mas\", \"gusto\", \"esperaba\", \"verdad\", \"cadena\", \"entrega\", \"expectativas\", \"fatal\", \"sony\", \"art\\u00edculo\", \"ir\", \"venido\", \"volver\\u00eda\", \"alg\\u00fan\", \"comprar\", \"pens\\u00e9\", \"nuevo\", \"dinero\", \"quer\\u00eda\", \"llega\", \"pedir\", \"empresa\", \"rompio\", \"exactamente\", \"vendedor\", \"correcto\", \"devolverlo\", \"rota\", \"devuelto\", \"descripci\\u00f3n\", \"funcionan\", \"condiciones\", \"\\u00fanico\", \"veces\", \"entiendo\", \"cumple\", \"recomendable\", \"producto\", \"bueno\", \"original\", \"perfecto\", \"precio\", \"sido\", \"lleg\\u00f3\", \"puede\", \"esperaba\", \"igual\", \"caja\", \"amazon\", \"mas\", \"tan\", \"compr\\u00e9\", \"buen\", \"gracias\", \"juego\", \"bonitos\", \"fina\", \"peque\\u00f1os\", \"pendientes\", \"brillo\", \"dedo\", \"elegantes\", \"dorado\", \"piel\", \"fea\", \"s\\u00e9\", \"roto\", \"anillo\", \"encantado\", \"quedan\", \"hacen\", \"puestos\", \"perdido\", \"cadena\", \"puse\", \"medida\", \"mujer\", \"perlas\", \"juegazo\", \"acero\", \"largo\", \"tama\\u00f1o\", \"enseguida\", \"grandes\", \"negro\", \"demasiado\", \"espero\", \"collar\", \"semana\", \"plata\", \"tiempo\", \"dan\", \"color\", \"peque\\u00f1a\", \"tan\", \"mal\", \"dos\", \"calidad\", \"d\\u00edas\", \"bien\", \"bonito\", \"parte\", \"perfecto\", \"pone\", \"esperaba\", \"lleg\\u00f3\", \"encant\\u00f3\", \"precioso\", \"divertido\", \"a\\u00f1os\", \"familia\", \"pocas\", \"ni\\u00f1os\", \"duda\", \"hija\", \"trae\", \"bolsita\", \"poca\", \"media\", \"opinar\", \"certificado\", \"rapidez\", \"llego\", \"tra\\u00eda\", \"gust\\u00f3\", \"cajita\", \"asi\", \"regalo\", \"primera\", \"vale\", \"seguro\", \"alta\", \"horas\", \"edici\\u00f3n\", \"piedra\", \"ven\\u00eda\", \"plata\", \"juego\", \"tiempo\", \"si\", \"grande\", \"llegar\", \"creo\", \"bonito\", \"compr\\u00e9\", \"mas\", \"pena\", \"bien\", \"nunca\", \"compra\", \"menos\", \"producto\", \"gustado\", \"dos\", \"bastante\", \"viene\", \"solo\", \"despu\\u00e9s\", \"puedo\", \"buena\"], \"Freq\": [143.0, 117.0, 52.0, 49.0, 50.0, 39.0, 104.0, 65.0, 62.0, 60.0, 63.0, 35.0, 28.0, 34.0, 115.0, 26.0, 32.0, 37.0, 23.0, 34.0, 113.0, 33.0, 185.0, 29.0, 34.0, 29.0, 21.0, 22.0, 35.0, 29.0, 8.516701827842772, 12.061502014311637, 17.665833495464017, 4.8053380520783024, 9.345589452934439, 7.331983754707899, 6.336934480014728, 6.2699117233348485, 5.580328368421515, 48.18114785708773, 4.807436276254345, 4.804845937131352, 6.1723278036757625, 4.765966107076843, 4.736251711715852, 5.396945994771401, 9.456285074297382, 5.339234932646367, 4.625542893974441, 5.223605515284565, 42.3036964293222, 11.479216213306335, 5.737178323468175, 4.423267430229744, 5.6569762336448, 4.370525079521589, 7.494137004350454, 14.387835489417858, 3.3564147358329497, 5.016385533483509, 80.56218380136055, 11.96038366462016, 25.75407200818848, 63.74542289154966, 14.121183967649303, 11.005865416837016, 39.17829254626752, 11.634818010889784, 8.56462062729717, 10.425418311231267, 14.666953190043657, 13.382998350846872, 10.604771390656527, 24.68648279091857, 12.815991756708417, 9.91251906819851, 8.136472375714728, 16.820226058856335, 12.507765044583739, 8.904051825851257, 11.485447103338547, 9.143007448314965, 9.118092135922659, 17.151754457291545, 14.313314330816825, 13.370210108397739, 11.478966233421268, 8.641354011537347, 6.752008812147857, 6.746535143073621, 6.720854449368298, 5.806478624190545, 4.861853518370631, 4.861689448621216, 4.8612128907635395, 4.858700572725621, 4.858477675335791, 10.237665241440252, 28.059910159029, 7.534635009435923, 7.525356433344001, 21.907218997525828, 6.35444676089329, 4.862678184742691, 4.8616279224651855, 6.245228658985778, 7.605082458091028, 4.731235647930033, 6.574016341266775, 5.890695518624687, 3.9156961953843044, 3.916555942459364, 12.888336174959369, 15.696720234509987, 22.924639260586225, 70.19653851437454, 6.973330268858847, 40.92361968048241, 16.725669635685534, 11.706945467858523, 12.14792825447392, 15.226095872969012, 11.547037908928592, 10.002884668245995, 15.188015500011018, 14.13979222090418, 25.319982043609336, 13.370387131022108, 9.178860542902388, 14.283035906206017, 10.894691188222957, 10.077894767103583, 9.945978370948865, 9.250459718022137, 7.931760980567045, 47.49384559372176, 8.62541105285911, 45.83962072092806, 6.696800930394989, 5.794875217801766, 12.396801247208726, 11.339257243618315, 4.851600089117969, 4.851295152421136, 4.850905689411848, 4.84869142101151, 4.847962247822416, 8.535660158331202, 9.571935094805832, 9.570100124858223, 5.794073822763422, 6.509883829839514, 5.688932719648678, 11.340126045715959, 4.851209556155358, 3.9084445277179305, 3.907443051408331, 3.9003401662787636, 5.7943124223542775, 3.8480020620806443, 4.850283511554975, 4.144614522066899, 4.077935031026053, 8.53791401500446, 5.618592383315851, 15.06668466088783, 8.532656264379064, 15.44163161345389, 7.155425722432029, 9.450329549968744, 9.35919841565517, 8.925664564000886, 9.278465087726943, 23.251346096887595, 9.967395192465524, 12.180901786037575, 11.619394562349001, 8.45640764580093, 7.760564572647475, 16.882958244145268, 11.088085701226808, 9.680320296393553, 11.537345191834444, 9.807591244071805, 16.464839744980893, 9.27992771391842, 8.261754782725793, 51.174186869151235, 25.16142846641738, 18.71214798713212, 8.493686859060794, 20.373235489496604, 7.5640774777400175, 6.63523486571189, 31.510774417307086, 5.706751576532202, 5.7052527938771815, 5.7047052542986085, 4.774159066980116, 4.771286088312465, 6.9925461478473325, 4.776921361377489, 4.750417558358793, 21.5873125354444, 6.535934499367305, 8.390970252122942, 3.848009237488801, 17.30103262123792, 12.023264402145818, 25.05499404435275, 6.115426241849457, 18.583602376929637, 4.587444862446888, 5.705747397500405, 3.773267411480441, 4.300884623463671, 36.47554676949129, 16.605546137472878, 5.828221948742811, 22.928425180100646, 17.58656916439772, 12.780778992622599, 33.79852952265467, 38.70037118335308, 16.08587653733157, 22.78661242925015, 11.84056905256626, 9.153015946495067, 8.202681871301316, 8.613223732134566, 12.665664143293752, 8.38265609889322, 9.527767219738662, 8.407424778930986, 8.283830017320309, 22.49524542446075, 11.314889571757938, 7.5868467659451255, 6.654881628008441, 15.731865967841705, 4.790830951132873, 4.790529240386181, 5.686733864186872, 5.575937084675422, 18.586296099474612, 4.7921407251725, 11.541737336084717, 9.239768383451812, 6.566642330379892, 11.740483034337055, 14.161153210316085, 3.855721930556371, 3.8598054131741475, 3.8602610483393387, 13.26528004339204, 11.927811884616007, 5.589896990679605, 7.383041392635599, 6.753907438951797, 8.48272654312027, 4.77722705436657, 4.699201539010986, 6.393966518149165, 7.341065825982083, 3.859143915903233, 13.678480229477964, 10.253444723893802, 44.4804212102336, 12.565652011160905, 14.925440830176147, 23.919429690147297, 35.104082206065904, 12.570537931046289, 16.096465699188315, 17.431509784453375, 12.6142401897196, 8.791347835177024, 12.429040784616827, 10.61612276081313, 12.829401030099431, 9.02995901349921, 9.318885534560684, 11.36961961791125, 8.36537192235562, 9.311352681270055, 38.34027538358402, 14.119125106955424, 19.32254789597384, 25.951808154293126, 6.659701576866562, 6.658874464013268, 6.655115158685165, 5.676002608155629, 4.794965562372717, 4.794604316259821, 5.539125986828352, 15.918504193213558, 7.55095907273967, 11.290900201739419, 17.218567963924563, 5.7263523407298695, 5.605986074214349, 4.756480184277749, 23.65482333798838, 5.3768528254628585, 5.236514809562918, 8.40743748180597, 4.518950543730793, 3.8620099437538427, 3.859325228323907, 3.8496119302441554, 22.609502819679243, 6.6742724622877825, 15.600162858910064, 4.79412249839236, 18.50519713244219, 8.196347772667464, 9.438745404141088, 6.430895326219862, 15.906280000073778, 16.355227286165622, 6.78812410085047, 10.171477315206905, 8.655428715952247, 10.368066511543587, 13.07342739140633, 13.419138044845091, 22.922719150687566, 8.944643292238773, 20.222741307057778, 12.430414001958528, 9.5281617926465, 11.183032112428526, 8.318153393825018, 8.93149393372934, 8.459649273889411, 10.543454581016928, 6.7384205634722605, 5.813685005910315, 11.483180064998868, 4.867081965588746, 4.86646922319336, 4.854406890889451, 6.760463600108486, 6.582490981206719, 12.547000089492993, 4.867657392184274, 6.54906111305264, 3.9206014737462533, 3.921005586896982, 3.9054550753927657, 3.876393700081085, 22.58910757047562, 3.7056578020925754, 4.86773414399989, 5.353572288761635, 4.7403935529432895, 38.06760806183068, 3.919043963145387, 11.584992832564376, 5.455803162902818, 4.282367128241183, 5.308155143946542, 5.316477415401105, 5.499896444909333, 7.4809689369644525, 18.19674448937747, 31.83525547111787, 13.895246229018479, 24.87554330958437, 10.67178700907201, 7.208745088486466, 6.925236178853874, 14.04185322196737, 9.068986900387383, 13.372435759375282, 9.354401884114965, 19.511510723653615, 7.330898359319706, 8.667474830526146, 7.619423275730859, 12.09450785233565, 8.294556840392014, 8.326827374491431, 8.601720998831944, 7.99400860364953, 7.654612074996399, 7.219879614312101, 7.017008451998657, 7.0412297984515595], \"Total\": [143.0, 117.0, 52.0, 49.0, 50.0, 39.0, 104.0, 65.0, 62.0, 60.0, 63.0, 35.0, 28.0, 34.0, 115.0, 26.0, 32.0, 37.0, 23.0, 34.0, 113.0, 33.0, 185.0, 29.0, 34.0, 29.0, 21.0, 22.0, 35.0, 29.0, 9.34949573159349, 14.03330431274923, 20.591386302410843, 5.610640089863497, 11.212256139454233, 9.36431888853498, 8.40683500733713, 8.406490841034076, 7.4923943964410284, 65.48278856939298, 6.542369532795386, 6.553657047428868, 8.432689333096603, 6.53928430605914, 6.54259060941318, 7.472359924389236, 13.120070435637938, 7.49216942249583, 6.5416806942553825, 7.4934125856888905, 60.80195432979134, 16.864240330074086, 8.435755659149164, 6.561843956734673, 8.409090481756904, 6.537166586923347, 11.222854950682457, 22.50851498530965, 5.6025216497460155, 8.398889572950113, 143.73922949500283, 21.550406971233922, 52.54794454362245, 185.46107887237213, 28.13965090439981, 20.56389992201308, 115.77545710786039, 22.484863981813156, 14.993568371067719, 20.574829695556325, 34.77812698326758, 31.767898584265918, 24.252043151297567, 104.91517646291729, 37.50135212528719, 24.26294548706068, 16.883682029440564, 113.0535540069552, 64.68394963633625, 23.309038775384018, 62.111240791590056, 46.03654457681826, 53.387604915364385, 17.954751871985447, 15.118388450790093, 14.173120593880368, 12.282261334313322, 9.445779523350595, 7.5552956845729735, 7.555093474904406, 7.55506647183332, 6.609771420894315, 5.664494174530417, 5.664463214665742, 5.664361450656719, 5.66395452535616, 5.663828063231881, 12.264985370584473, 34.004811294782186, 9.433231849492152, 9.441278688725959, 29.22512778950196, 8.481088660826499, 6.593047935233827, 6.595968207941182, 8.479678112890578, 10.365353175002713, 6.606728988004201, 9.413826820073071, 8.479957146381253, 5.650704130978706, 5.665385560443398, 18.865817774399705, 23.56626538787624, 35.83001089701573, 117.99960016254965, 10.361630384832093, 113.0535540069552, 34.77812698326758, 22.596400188333067, 25.408793994114898, 38.60077710238243, 24.427579521630165, 20.6386218814042, 47.009357734045906, 43.10164151007362, 185.46107887237213, 46.03654457681826, 19.69070504745006, 58.96661311156382, 40.33076049612658, 50.55559220266738, 52.54794454362245, 64.68394963633625, 53.387604915364385, 49.04368402524122, 9.428435195366557, 50.953265231175294, 7.541129163197144, 6.5980454728833475, 14.136628407426482, 13.189408661008851, 5.65460677209973, 5.654582158735984, 5.65446739023828, 5.654272659163275, 5.654321653913766, 10.373010621787635, 12.247027199417001, 12.248544893709967, 7.543106507532425, 8.48825511075203, 7.528324639838579, 15.044004643528224, 6.599754607325588, 5.640090884696447, 5.64532124886363, 5.64119527921395, 8.455655799315004, 5.638710683128097, 7.517893988857766, 6.602833419747842, 6.577842519542111, 14.101908306518157, 9.399670286313096, 27.385181316218937, 15.026957980879823, 34.77515679080575, 13.147939747425735, 19.694378094742547, 20.72466611833353, 19.78844520452469, 21.621530526196448, 104.91517646291729, 24.49258953908843, 36.59401970562297, 37.34557990575284, 18.737934141945985, 16.926514402179507, 113.0535540069552, 43.059430889990544, 31.124206275088213, 52.54794454362245, 33.838516100056, 185.46107887237213, 47.009357734045906, 28.13965090439981, 52.03609616651045, 26.022785799783787, 19.518377877774146, 9.298931070853907, 22.32532162924962, 8.369791356285498, 7.440799904928013, 35.365133280002325, 6.511782376737609, 6.51169981862185, 6.511580562815318, 5.5824188506055865, 5.582165098879129, 9.326855245803952, 6.514854269859595, 6.526221454561689, 29.794797876442097, 9.320810841290813, 12.136627012771122, 5.596762433258316, 25.1927530043355, 17.73923802265507, 37.34557990575284, 9.312910394031691, 29.931964211588948, 7.476679386488124, 9.347640427554149, 6.529807295322816, 7.484324187071776, 63.48497197121236, 29.86305339092398, 10.24915285179448, 48.575903544831554, 43.10164151007362, 32.76098775371168, 143.73922949500283, 185.46107887237213, 53.387604915364385, 115.77545710786039, 36.59401970562297, 21.421539200931786, 17.68623284061023, 20.6386218814042, 64.68394963633625, 20.595632657836966, 34.49636653363222, 23.36767586147567, 32.61109168701725, 23.301737079406784, 12.119667424062012, 8.392098479214209, 7.460255413857761, 17.72894203398723, 5.59651561033639, 5.596626926161974, 7.46303533539116, 7.473404058760136, 25.249443134070503, 6.542909529219109, 15.854062350600076, 13.076462293977231, 9.324865120768202, 16.78828740219136, 20.53555429820007, 5.593637892264947, 5.607914556860147, 5.6100358143624005, 19.65827849218506, 17.725029709029638, 8.393181561907365, 11.22468562720745, 10.289219494438782, 13.080113351628382, 7.483489049346142, 7.472764768913442, 10.277149050128159, 12.142899593225394, 6.522720483464902, 24.26294548706068, 18.647442470711898, 104.91517646291729, 25.231430175085805, 31.767898584265918, 58.96661311156382, 115.77545710786039, 27.11247764822525, 43.059430889990544, 50.55559220266738, 34.49636653363222, 17.68623284061023, 47.009357734045906, 34.77515679080575, 64.68394963633625, 23.29853810069213, 27.25058014460543, 60.80195432979134, 21.51921927794433, 117.99960016254965, 39.16838438874132, 14.924249059016923, 21.454534735935134, 28.936499204178734, 7.464615076569048, 7.464440491258039, 7.464709946209071, 6.531984603349854, 5.599687910541039, 5.5996582844498, 6.534156468520451, 19.593860791153837, 9.34269926874393, 13.995979721409707, 22.391357493700664, 7.477197575150996, 7.476904957880529, 6.543433758807403, 32.61109168701725, 7.480099901349296, 7.461470983677687, 12.116226382336926, 6.546185439166667, 5.61238991343449, 5.610382284913039, 5.61023339212097, 34.53282162140249, 10.254330936969088, 24.250017810566863, 7.486241683507126, 28.94616178784465, 13.07309364705303, 15.902337588727312, 10.282758186431462, 34.77338884183092, 42.222025601771406, 11.22766532005154, 21.421539200931786, 16.866542557717462, 23.29853810069213, 36.50168667514186, 39.410116423893925, 143.73922949500283, 21.603000593006676, 185.46107887237213, 63.48497197121236, 30.9766748032784, 58.96661311156382, 20.610499950041397, 34.49636653363222, 43.059430889990544, 11.348424409314427, 7.562238255922018, 6.61630187334482, 13.238152186166703, 5.669777303960011, 5.669686268297738, 5.669583708123092, 8.507829093048127, 8.495019459131653, 17.02307826723972, 6.612987280691247, 9.42919868695774, 5.655512214002541, 5.666475078322235, 5.66619488967957, 5.654273247213208, 33.96363526008744, 5.648109680308612, 7.5465256140622925, 8.474219740038782, 7.544617705750166, 62.111240791590056, 6.5894732620991805, 19.78374817727279, 9.402865530636198, 7.519380107574933, 9.413545248855922, 9.451745748362963, 10.34117599393408, 14.12230161990858, 34.77338884183092, 117.99960016254965, 42.222025601771406, 113.0535540069552, 29.931964211588948, 15.9974967394444, 15.089081323347294, 63.48497197121236, 27.25058014460543, 64.68394963633625, 31.124206275088213, 185.46107887237213, 20.72466611833353, 33.838516100056, 24.49258953908843, 104.91517646291729, 32.76098775371168, 39.410116423893925, 53.387604915364385, 38.60077710238243, 46.03654457681826, 27.385181316218937, 21.72751522372397, 65.48278856939298], \"Category\": [\"Default\", \"Default\", \"Default\", \"Default\", \"Default\", \"Default\", \"Default\", \"Default\", \"Default\", \"Default\", \"Default\", \"Default\", \"Default\", \"Default\", \"Default\", \"Default\", \"Default\", \"Default\", \"Default\", \"Default\", \"Default\", \"Default\", \"Default\", \"Default\", \"Default\", \"Default\", \"Default\", \"Default\", \"Default\", \"Default\", \"Topic1\", \"Topic1\", \"Topic1\", \"Topic1\", \"Topic1\", \"Topic1\", \"Topic1\", \"Topic1\", \"Topic1\", \"Topic1\", \"Topic1\", \"Topic1\", \"Topic1\", \"Topic1\", \"Topic1\", \"Topic1\", \"Topic1\", \"Topic1\", \"Topic1\", \"Topic1\", \"Topic1\", \"Topic1\", \"Topic1\", \"Topic1\", \"Topic1\", \"Topic1\", \"Topic1\", \"Topic1\", \"Topic1\", \"Topic1\", \"Topic1\", \"Topic1\", \"Topic1\", \"Topic1\", \"Topic1\", \"Topic1\", \"Topic1\", \"Topic1\", \"Topic1\", \"Topic1\", \"Topic1\", \"Topic1\", \"Topic1\", \"Topic1\", \"Topic1\", \"Topic1\", \"Topic1\", \"Topic1\", \"Topic1\", \"Topic1\", \"Topic1\", \"Topic1\", \"Topic1\", \"Topic2\", \"Topic2\", \"Topic2\", \"Topic2\", \"Topic2\", \"Topic2\", \"Topic2\", \"Topic2\", \"Topic2\", \"Topic2\", \"Topic2\", \"Topic2\", \"Topic2\", \"Topic2\", \"Topic2\", \"Topic2\", \"Topic2\", \"Topic2\", \"Topic2\", \"Topic2\", \"Topic2\", \"Topic2\", \"Topic2\", \"Topic2\", \"Topic2\", \"Topic2\", \"Topic2\", \"Topic2\", \"Topic2\", \"Topic2\", \"Topic2\", \"Topic2\", \"Topic2\", \"Topic2\", \"Topic2\", \"Topic2\", \"Topic2\", \"Topic2\", \"Topic2\", \"Topic2\", \"Topic2\", \"Topic2\", \"Topic2\", \"Topic2\", \"Topic2\", \"Topic2\", \"Topic2\", \"Topic2\", \"Topic2\", \"Topic2\", \"Topic2\", \"Topic2\", \"Topic3\", \"Topic3\", \"Topic3\", \"Topic3\", \"Topic3\", \"Topic3\", \"Topic3\", \"Topic3\", \"Topic3\", \"Topic3\", \"Topic3\", \"Topic3\", \"Topic3\", \"Topic3\", \"Topic3\", \"Topic3\", \"Topic3\", \"Topic3\", \"Topic3\", \"Topic3\", \"Topic3\", \"Topic3\", \"Topic3\", \"Topic3\", \"Topic3\", \"Topic3\", \"Topic3\", \"Topic3\", \"Topic3\", \"Topic3\", \"Topic3\", \"Topic3\", \"Topic3\", \"Topic3\", \"Topic3\", \"Topic3\", \"Topic3\", \"Topic3\", \"Topic3\", \"Topic3\", \"Topic3\", \"Topic3\", \"Topic3\", \"Topic3\", \"Topic3\", \"Topic3\", \"Topic3\", \"Topic3\", \"Topic3\", \"Topic3\", \"Topic3\", \"Topic3\", \"Topic4\", \"Topic4\", \"Topic4\", \"Topic4\", \"Topic4\", \"Topic4\", \"Topic4\", \"Topic4\", \"Topic4\", \"Topic4\", \"Topic4\", \"Topic4\", \"Topic4\", \"Topic4\", \"Topic4\", \"Topic4\", \"Topic4\", \"Topic4\", \"Topic4\", \"Topic4\", \"Topic4\", \"Topic4\", \"Topic4\", \"Topic4\", \"Topic4\", \"Topic4\", \"Topic4\", \"Topic4\", \"Topic4\", \"Topic4\", \"Topic4\", \"Topic4\", \"Topic4\", \"Topic4\", \"Topic4\", \"Topic4\", \"Topic4\", \"Topic4\", \"Topic4\", \"Topic4\", \"Topic4\", \"Topic4\", \"Topic4\", \"Topic4\", \"Topic4\", \"Topic4\", \"Topic4\", \"Topic4\", \"Topic5\", \"Topic5\", \"Topic5\", \"Topic5\", \"Topic5\", \"Topic5\", \"Topic5\", \"Topic5\", \"Topic5\", \"Topic5\", \"Topic5\", \"Topic5\", \"Topic5\", \"Topic5\", \"Topic5\", \"Topic5\", \"Topic5\", \"Topic5\", \"Topic5\", \"Topic5\", \"Topic5\", \"Topic5\", \"Topic5\", \"Topic5\", \"Topic5\", \"Topic5\", \"Topic5\", \"Topic5\", \"Topic5\", \"Topic5\", \"Topic5\", \"Topic5\", \"Topic5\", \"Topic5\", \"Topic5\", \"Topic5\", \"Topic5\", \"Topic5\", \"Topic5\", \"Topic5\", \"Topic5\", \"Topic5\", \"Topic5\", \"Topic5\", \"Topic5\", \"Topic5\", \"Topic5\", \"Topic5\", \"Topic5\", \"Topic5\", \"Topic6\", \"Topic6\", \"Topic6\", \"Topic6\", \"Topic6\", \"Topic6\", \"Topic6\", \"Topic6\", \"Topic6\", \"Topic6\", \"Topic6\", \"Topic6\", \"Topic6\", \"Topic6\", \"Topic6\", \"Topic6\", \"Topic6\", \"Topic6\", \"Topic6\", \"Topic6\", \"Topic6\", \"Topic6\", \"Topic6\", \"Topic6\", \"Topic6\", \"Topic6\", \"Topic6\", \"Topic6\", \"Topic6\", \"Topic6\", \"Topic6\", \"Topic6\", \"Topic6\", \"Topic6\", \"Topic6\", \"Topic6\", \"Topic6\", \"Topic6\", \"Topic6\", \"Topic6\", \"Topic6\", \"Topic6\", \"Topic6\", \"Topic6\", \"Topic6\", \"Topic6\", \"Topic6\", \"Topic6\", \"Topic6\", \"Topic6\", \"Topic6\", \"Topic7\", \"Topic7\", \"Topic7\", \"Topic7\", \"Topic7\", \"Topic7\", \"Topic7\", \"Topic7\", \"Topic7\", \"Topic7\", \"Topic7\", \"Topic7\", \"Topic7\", \"Topic7\", \"Topic7\", \"Topic7\", \"Topic7\", \"Topic7\", \"Topic7\", \"Topic7\", \"Topic7\", \"Topic7\", \"Topic7\", \"Topic7\", \"Topic7\", \"Topic7\", \"Topic7\", \"Topic7\", \"Topic7\", \"Topic7\", \"Topic7\", \"Topic7\", \"Topic7\", \"Topic7\", \"Topic7\", \"Topic7\", \"Topic7\", \"Topic7\", \"Topic7\", \"Topic7\", \"Topic7\", \"Topic7\", \"Topic7\", \"Topic7\", \"Topic7\", \"Topic7\", \"Topic7\", \"Topic7\", \"Topic7\", \"Topic7\", \"Topic7\", \"Topic7\", \"Topic7\", \"Topic7\"], \"logprob\": [30.0, 29.0, 28.0, 27.0, 26.0, 25.0, 24.0, 23.0, 22.0, 21.0, 20.0, 19.0, 18.0, 17.0, 16.0, 15.0, 14.0, 13.0, 12.0, 11.0, 10.0, 9.0, 8.0, 7.0, 6.0, 5.0, 4.0, 3.0, 2.0, 1.0, -4.9319, -4.5839, -4.2023, -5.5042, -4.839, -5.0817, -5.2275, -5.2382, -5.3547, -3.199, -5.5038, -5.5043, -5.2539, -5.5124, -5.5187, -5.3881, -4.8273, -5.3989, -5.5423, -5.4208, -3.3291, -4.6334, -5.327, -5.5871, -5.3411, -5.5991, -5.0598, -4.4076, -5.8631, -5.4612, -2.6849, -4.5923, -3.8253, -2.919, -4.4263, -4.6755, -3.4058, -4.6199, -4.9263, -4.7297, -4.3883, -4.48, -4.7126, -3.8677, -4.5232, -4.7801, -4.9776, -4.2514, -4.5476, -4.8874, -4.6329, -4.861, -4.8637, -4.2132, -4.3941, -4.4623, -4.6148, -4.8988, -5.1455, -5.1463, -5.1501, -5.2963, -5.4739, -5.4739, -5.474, -5.4745, -5.4746, -4.7292, -3.721, -5.0358, -5.037, -3.9685, -5.2062, -5.4737, -5.4739, -5.2235, -5.0265, -5.5011, -5.1722, -5.2819, -5.6903, -5.6901, -4.499, -4.3019, -3.9231, -2.804, -5.1132, -3.3436, -4.2384, -4.5951, -4.5582, -4.3323, -4.6089, -4.7524, -4.3348, -4.4063, -3.8237, -4.4623, -4.8384, -4.3962, -4.667, -4.745, -4.7581, -4.8306, -4.9844, -3.1859, -4.8918, -3.2214, -5.1449, -5.2895, -4.5291, -4.6182, -5.4672, -5.4673, -5.4674, -5.4678, -5.468, -4.9023, -4.7877, -4.7879, -5.2897, -5.1732, -5.308, -4.6182, -5.4673, -5.6834, -5.6836, -5.6855, -5.2896, -5.699, -5.4675, -5.6247, -5.6409, -4.902, -5.3204, -4.334, -4.9026, -4.3095, -5.0786, -4.8005, -4.8102, -4.8576, -4.8188, -3.9002, -4.7472, -4.5467, -4.5938, -4.9116, -4.9975, -4.2202, -4.6406, -4.7764, -4.6009, -4.7634, -4.2453, -4.8187, -4.9349, -3.1108, -3.8207, -4.1168, -4.9067, -4.0318, -5.0226, -5.1536, -3.5957, -5.3044, -5.3046, -5.3047, -5.4828, -5.4834, -5.1012, -5.4822, -5.4878, -3.9739, -5.1687, -4.9189, -5.6985, -4.1952, -4.5592, -3.8249, -5.2352, -4.1237, -5.5227, -5.3045, -5.7181, -5.5872, -3.4494, -4.2363, -5.2833, -3.9136, -4.1789, -4.4981, -3.5256, -3.3902, -4.2681, -3.9198, -4.5745, -4.8319, -4.9416, -4.8927, -4.5071, -4.9199, -4.7918, -4.9169, -4.9317, -3.8083, -4.4955, -4.8952, -5.0263, -4.1659, -5.3549, -5.355, -5.1835, -5.2032, -3.9992, -5.3546, -4.4756, -4.6981, -5.0396, -4.4586, -4.2711, -5.5721, -5.571, -5.5709, -4.3365, -4.4427, -5.2007, -4.9224, -5.0115, -4.7836, -5.3578, -5.3742, -5.0663, -4.9281, -5.5712, -4.3058, -4.594, -3.1266, -4.3906, -4.2185, -3.7469, -3.3633, -4.3903, -4.143, -4.0633, -4.3868, -4.7478, -4.4016, -4.5592, -4.3699, -4.7211, -4.6896, -4.4907, -4.7975, -4.6904, -3.2687, -4.2677, -3.9539, -3.659, -5.0191, -5.0193, -5.0198, -5.179, -5.3477, -5.3477, -5.2034, -4.1477, -4.8935, -4.4912, -4.0692, -5.1701, -5.1914, -5.3557, -3.7517, -5.2331, -5.2596, -4.7861, -5.4069, -5.564, -5.5647, -5.5672, -3.7969, -5.017, -4.1679, -5.3478, -3.9972, -4.8115, -4.6704, -5.0541, -4.1485, -4.1207, -5.0, -4.5956, -4.757, -4.5765, -4.3446, -4.3185, -3.7831, -4.7242, -3.9084, -4.3951, -4.661, -4.5008, -4.7968, -4.7256, -4.7799, -4.4586, -4.9063, -5.0539, -4.3732, -5.2316, -5.2318, -5.2342, -4.903, -4.9297, -4.2847, -5.2315, -4.9348, -5.4479, -5.4478, -5.4518, -5.4592, -3.6967, -5.5043, -5.2315, -5.1364, -5.258, -3.1748, -5.4483, -4.3644, -5.1175, -5.3596, -5.1449, -5.1433, -5.1094, -4.8018, -3.9129, -3.3536, -4.1826, -3.6002, -4.4465, -4.8388, -4.879, -4.1721, -4.6093, -4.2209, -4.5783, -3.8431, -4.822, -4.6546, -4.7834, -4.3214, -4.6985, -4.6946, -4.6622, -4.7354, -4.7788, -4.8373, -4.8658, -4.8623], \"loglift\": [30.0, 29.0, 28.0, 27.0, 26.0, 25.0, 24.0, 23.0, 22.0, 21.0, 20.0, 19.0, 18.0, 17.0, 16.0, 15.0, 14.0, 13.0, 12.0, 11.0, 10.0, 9.0, 8.0, 7.0, 6.0, 5.0, 4.0, 3.0, 2.0, 1.0, 1.7646, 1.7065, 1.7046, 1.7029, 1.6758, 1.6132, 1.5752, 1.5646, 1.5632, 1.5511, 1.5497, 1.5475, 1.5458, 1.5415, 1.5348, 1.5325, 1.5304, 1.5191, 1.5113, 1.497, 1.4951, 1.4732, 1.4724, 1.4635, 1.4615, 1.4553, 1.454, 1.4104, 1.3455, 1.3425, 1.2789, 1.2691, 1.1447, 0.7899, 1.1684, 1.2328, 0.7743, 1.199, 1.2979, 1.1781, 0.9945, 0.9934, 1.0307, 0.411, 0.7842, 0.9627, 1.1279, -0.0474, 0.2147, 0.8955, 0.17, 0.2414, 0.0906, 1.8307, 1.8218, 1.8182, 1.8089, 1.7875, 1.7641, 1.7633, 1.7595, 1.7469, 1.7237, 1.7237, 1.7236, 1.7231, 1.7231, 1.6958, 1.6843, 1.6518, 1.6497, 1.5883, 1.5878, 1.5721, 1.5714, 1.5706, 1.5668, 1.5426, 1.5174, 1.5122, 1.5097, 1.5073, 1.4955, 1.4701, 1.4299, 1.3571, 1.4805, 0.8603, 1.1445, 1.2189, 1.1386, 0.9462, 1.1272, 1.1522, 0.7467, 0.7619, -0.1148, 0.6401, 1.1133, 0.4586, 0.5677, 0.2638, 0.2119, -0.0683, -0.0302, 1.8532, 1.7963, 1.7795, 1.7666, 1.7555, 1.754, 1.7342, 1.7321, 1.7321, 1.732, 1.7316, 1.7314, 1.6903, 1.6388, 1.6385, 1.6215, 1.6199, 1.6051, 1.6027, 1.5775, 1.5185, 1.5174, 1.5163, 1.5073, 1.5032, 1.447, 1.4196, 1.4072, 1.3835, 1.3707, 1.2878, 1.3194, 1.0735, 1.2769, 1.151, 1.0903, 1.0891, 1.0393, 0.3785, 0.9862, 0.7853, 0.7178, 1.0897, 1.1055, -0.0163, 0.5286, 0.7174, 0.3692, 0.6469, -0.5363, 0.2628, 0.6598, 1.8691, 1.8521, 1.8436, 1.7952, 1.7943, 1.7846, 1.7712, 1.7704, 1.7538, 1.7536, 1.7535, 1.7294, 1.7288, 1.5977, 1.5755, 1.5682, 1.5636, 1.5309, 1.5167, 1.5112, 1.51, 1.4969, 1.4867, 1.4652, 1.4092, 1.3973, 1.3922, 1.3374, 1.3318, 1.3316, 1.2989, 1.3213, 1.1351, 0.9894, 0.9445, 0.4382, 0.3188, 0.6862, 0.2603, 0.7574, 1.0355, 1.1175, 1.0119, 0.2552, 0.9869, 0.5992, 0.8636, 0.5155, 1.975, 1.9415, 1.9093, 1.896, 1.8907, 1.8548, 1.8547, 1.7384, 1.7173, 1.7038, 1.6988, 1.6927, 1.6629, 1.6595, 1.6526, 1.6385, 1.6381, 1.6366, 1.6364, 1.6169, 1.6141, 1.6037, 1.5913, 1.5892, 1.5771, 1.5614, 1.5463, 1.5356, 1.5069, 1.4854, 1.4371, 1.4121, 1.1521, 1.3131, 1.2548, 1.1079, 0.8169, 1.2416, 1.0262, 0.9454, 1.0042, 1.3112, 0.6799, 0.8237, 0.3924, 1.0624, 0.9372, 0.3335, 1.0654, -0.5292, 1.9952, 1.9611, 1.9119, 1.9077, 1.9025, 1.9024, 1.9018, 1.8761, 1.8615, 1.8614, 1.8514, 1.8089, 1.8037, 1.8018, 1.7539, 1.7498, 1.7286, 1.6976, 1.6955, 1.6865, 1.6625, 1.6512, 1.646, 1.6428, 1.6425, 1.64, 1.5931, 1.5872, 1.5755, 1.5709, 1.5692, 1.5497, 1.495, 1.5472, 1.2345, 1.0682, 1.5134, 1.2718, 1.3495, 1.2069, 0.9898, 0.9393, 0.1807, 1.1348, -0.1994, 0.3859, 0.8376, 0.354, 1.1092, 0.6653, 0.3893, 2.0441, 2.0023, 1.9884, 1.9755, 1.965, 1.9649, 1.9625, 1.8878, 1.8626, 1.8126, 1.8113, 1.7532, 1.7513, 1.7495, 1.7455, 1.7402, 1.7099, 1.6962, 1.6792, 1.6584, 1.653, 1.6281, 1.5981, 1.5825, 1.5733, 1.5547, 1.5448, 1.5423, 1.4863, 1.4823, 1.4701, 0.8076, 1.0063, 0.6037, 1.0864, 1.3205, 1.3389, 0.6089, 1.0175, 0.5414, 0.9155, -0.1342, 1.0785, 0.7557, 0.95, -0.0427, 0.744, 0.5631, 0.2921, 0.5431, 0.3236, 0.7845, 0.9874, -0.1123]}, \"token.table\": {\"Topic\": [3, 6, 3, 1, 6, 1, 2, 3, 4, 6, 7, 1, 5, 6, 2, 4, 6, 3, 5, 4, 5, 7, 1, 2, 3, 5, 2, 6, 3, 4, 7, 5, 7, 2, 5, 7, 1, 2, 3, 4, 5, 6, 7, 2, 3, 4, 6, 7, 2, 3, 3, 7, 1, 7, 1, 2, 3, 4, 6, 7, 1, 2, 3, 4, 5, 6, 7, 4, 7, 3, 7, 4, 4, 6, 7, 6, 1, 2, 3, 5, 7, 6, 1, 5, 7, 1, 3, 4, 7, 3, 4, 5, 6, 1, 1, 2, 3, 4, 6, 1, 2, 3, 4, 5, 7, 6, 7, 1, 3, 4, 6, 7, 2, 1, 4, 1, 2, 2, 3, 5, 2, 5, 2, 4, 3, 7, 1, 4, 4, 6, 7, 3, 4, 6, 7, 1, 4, 6, 1, 4, 3, 4, 6, 1, 2, 3, 4, 5, 6, 7, 3, 5, 7, 3, 5, 6, 7, 3, 5, 6, 1, 2, 4, 5, 7, 2, 1, 2, 1, 2, 4, 5, 2, 3, 4, 7, 3, 4, 1, 5, 3, 4, 1, 3, 6, 3, 7, 2, 3, 4, 7, 6, 2, 4, 6, 3, 4, 7, 2, 5, 6, 7, 1, 4, 2, 3, 7, 1, 7, 5, 6, 3, 5, 2, 3, 3, 5, 6, 4, 7, 6, 1, 2, 3, 5, 6, 7, 1, 3, 2, 7, 3, 5, 2, 3, 6, 7, 2, 7, 4, 7, 6, 4, 5, 1, 6, 7, 4, 5, 6, 4, 5, 5, 3, 4, 2, 3, 1, 3, 4, 7, 1, 2, 3, 5, 2, 2, 7, 3, 4, 5, 6, 3, 1, 4, 6, 7, 2, 5, 1, 2, 4, 5, 3, 5, 7, 5, 6, 3, 6, 4, 4, 1, 2, 3, 5, 3, 5, 1, 5, 1, 4, 3, 1, 2, 3, 4, 5, 1, 2, 7, 4, 7, 1, 2, 4, 6, 2, 1, 2, 4, 5, 6, 1, 2, 3, 4, 5, 6, 7, 1, 2, 4, 6, 7, 2, 5, 7, 2, 3, 4, 2, 6, 1, 3, 4, 5, 1, 7, 2, 5, 1, 7, 2, 3, 1, 3, 4, 5, 3, 4, 3, 6, 2, 2, 2, 5, 2, 5, 2, 6, 1, 2, 5, 7, 1, 2, 7, 4, 1, 2, 7, 3, 3, 6, 2, 4, 5, 3, 7, 1, 3, 5, 7, 3, 6, 2, 3, 5, 7, 2, 3, 4, 5, 6, 1, 3, 4, 7, 2, 3, 4, 5, 6, 1, 4, 6, 1, 2, 3, 5, 2, 2, 3, 1, 2, 3, 4, 5, 7, 1, 4, 6, 7, 6, 7, 1, 4, 6, 2, 3, 6, 2, 3, 6, 7, 1, 2, 3, 4, 7, 4, 6, 1, 4, 3, 6, 1, 2, 5, 7, 2, 4, 2, 4, 5, 3, 4, 5, 7, 2, 1, 3, 3, 7, 1, 3, 1, 2, 5, 4, 1, 3, 1, 2, 3, 4, 5, 6, 7, 2, 4, 1, 2, 3, 4, 5, 6, 7, 1, 2, 4, 5, 6, 7, 2, 3, 4, 6, 2, 3, 5, 6, 7, 3, 6, 3, 5, 7, 1, 5, 1, 6, 7, 3, 4, 1, 3, 4, 1, 6, 3, 6, 4, 2, 1, 2, 3, 4, 5, 7, 1, 2, 3, 4, 5, 6, 3, 6, 6, 7, 4, 6, 6, 7, 2, 1, 3, 4, 5, 6, 1, 7, 7, 1, 2, 2, 3, 4, 5, 6, 1, 2, 4, 5, 1, 2, 3, 4, 5, 6, 7, 7, 1, 7, 3, 5, 1, 6, 7, 1, 4, 1, 2, 4, 6, 7, 2, 6, 1, 3, 5, 7, 1, 2, 1, 2, 3, 4, 5, 6, 2, 3, 7, 3, 6, 3, 4, 3, 6, 2, 4, 2, 4, 6, 5, 6, 5, 7, 1, 3, 5, 4, 3, 4, 5, 7, 5, 6, 1, 2, 3, 4, 5, 1, 4, 6, 7, 1, 4, 3, 4, 3, 5, 4, 6, 3, 5, 1, 6, 2, 3, 4, 5, 7, 3, 3, 5, 6, 1, 2, 3, 4, 6, 7, 1, 2, 3, 5, 6, 7, 2, 3, 4, 5, 7, 1, 2, 3, 6, 1, 4, 1, 2, 5, 1, 2, 3, 4, 5, 7, 1, 3, 5, 1, 7, 6, 4, 6, 7, 3, 4, 5, 6, 7, 3, 4, 6, 7, 4, 5, 6, 3, 5, 1, 3, 4, 6, 7, 3, 4, 7, 2, 7, 1, 3, 4, 7, 1, 2, 1, 4, 6, 1, 2, 3, 1, 3, 4, 5, 7, 3, 7, 2, 4, 1, 2, 5, 4, 5, 7, 5, 3, 5, 6, 7, 3, 4, 5, 2, 2, 5, 1, 2, 3, 4, 6, 7, 1, 4, 1, 5, 2, 1, 1, 5, 6, 7], \"Freq\": [0.1782409734696893, 0.7129638938787572, 0.8842870341417007, 0.7642232715594689, 0.15284465431189379, 0.07871290547923028, 0.47227743287538165, 0.15742581095846056, 0.11806935821884541, 0.07871290547923028, 0.07871290547923028, 0.7135135497729149, 0.11891892496215249, 0.11891892496215249, 0.7435870803437687, 0.10622672576339554, 0.10622672576339554, 0.13380783270079252, 0.8028469962047551, 0.2659793721539923, 0.13298968607699616, 0.5319587443079846, 0.028756160785000148, 0.20129312549500103, 0.4313424117750022, 0.31631776863500166, 0.10703544781169479, 0.8562835824935583, 0.08239521565157441, 0.6591617252125953, 0.16479043130314883, 0.9024791196974548, 0.05640494498109092, 0.13254482055967465, 0.13254482055967465, 0.6627241027983732, 0.09917988033932972, 0.2727446709331567, 0.17356479059382698, 0.14876982050899457, 0.14876982050899457, 0.12397485042416215, 0.04958994016966486, 0.3248136152013596, 0.11600486257191414, 0.4176175052588909, 0.11600486257191414, 0.023200972514382828, 0.7568041627072143, 0.15136083254144286, 0.07553924338813364, 0.83093167726947, 0.7475183281691008, 0.10678833259558583, 0.16857845588442752, 0.14984751634171334, 0.0561928186281425, 0.2996950326834267, 0.14984751634171334, 0.16857845588442752, 0.3450858821113759, 0.13479917269975622, 0.08627147052784398, 0.2102867094116197, 0.005391966907990249, 0.10783933815980498, 0.10783933815980498, 0.5344503925831399, 0.4008377944373549, 0.15121759010785082, 0.7560879505392541, 0.9606965292781111, 0.567063336128185, 0.18902111204272834, 0.2205246307165164, 0.9701702174604586, 0.4738302928265392, 0.1184575732066348, 0.1776863598099522, 0.1184575732066348, 0.1184575732066348, 0.9377576644203067, 0.6907672699497608, 0.18091523736779447, 0.11512787832496012, 0.7330170423199641, 0.03054237676333184, 0.12216950705332737, 0.10689831867166144, 0.2377986486839958, 0.0792662162279986, 0.515230405481991, 0.1585324324559972, 0.9626187613078974, 0.30978385679389, 0.5310580402180971, 0.13276451005452428, 0.24531530795655232, 0.735945923869657, 0.06381708120694637, 0.31908540603473184, 0.19145124362083912, 0.021272360402315456, 0.2552683248277855, 0.10636180201157729, 0.23600992909712382, 0.5900248227428095, 0.5635204827838318, 0.034785214986656286, 0.23653946190926275, 0.16001198893861893, 0.006957042997331258, 0.95280648651087, 0.8026930430469174, 0.08918811589410193, 0.23585024847130065, 0.707550745413902, 0.08164235088149394, 0.8164235088149394, 0.08164235088149394, 0.707574028179084, 0.235858009393028, 0.7583745862485788, 0.15167491724971577, 0.17648528147547554, 0.7059411259019022, 0.6691326502729567, 0.13382653005459133, 0.6747972322466869, 0.07938790967608081, 0.198469774190202, 0.06288383669510764, 0.12576767339021527, 0.5659545302559688, 0.1886515100853229, 0.09336397264641957, 0.4201378769088881, 0.4668198632320979, 0.3221334548566678, 0.6442669097133356, 0.15314387619314312, 0.6125755047725725, 0.15314387619314312, 0.05910424659539637, 0.08865636989309456, 0.29552123297698185, 0.05910424659539637, 0.14776061648849093, 0.11820849319079274, 0.26596910967928367, 0.07920966768971181, 0.7524918430522621, 0.15841933537942363, 0.25687526514497827, 0.3302681980435435, 0.07339293289856522, 0.3302681980435435, 0.1338192798681394, 0.6690963993406971, 0.1338192798681394, 0.5349179893753913, 0.09725781625007113, 0.1458867243751067, 0.1458867243751067, 0.048628908125035564, 0.8826961727025795, 0.7112581542701018, 0.23708605142336725, 0.1128347897200501, 0.05641739486002505, 0.1128347897200501, 0.6770087383203006, 0.19881926114071027, 0.19881926114071027, 0.13254617409380687, 0.463911609328324, 0.17867472702746492, 0.7146989081098597, 0.41215111352959827, 0.5770115589414375, 0.7095842288762585, 0.23652807629208616, 0.08906571148091627, 0.26719713444274884, 0.6234599803664139, 0.8246688993987863, 0.1178098427712552, 0.10106908245336493, 0.45481087104014223, 0.1516036236800474, 0.3032072473600948, 0.9377795975730575, 0.13818757835036072, 0.20728136752554105, 0.6563909971642133, 0.22548882848809712, 0.6764664854642913, 0.11274441424404856, 0.07645193685385815, 0.6116154948308652, 0.1529038737077163, 0.07645193685385815, 0.611885890746829, 0.15297147268670724, 0.18258049644676766, 0.547741489340303, 0.25561269502547473, 0.6095847487952903, 0.15239618719882259, 0.7148659844594722, 0.23828866148649078, 0.29156730514121787, 0.680323711996175, 0.13257137480445438, 0.7954282488267262, 0.15294656574822701, 0.6882595458670215, 0.07647328287411351, 0.9734415492403992, 0.9068510045123964, 0.9185569722443877, 0.1014967821200052, 0.1014967821200052, 0.1268709776500065, 0.1014967821200052, 0.3298645418900169, 0.2029935642400104, 0.7629328119880183, 0.15258656239760365, 0.11753879739040772, 0.822771581732854, 0.95832931261466, 0.02038998537478, 0.18515946350966078, 0.2777391952644912, 0.41660879289673675, 0.09257973175483039, 0.3174016821727984, 0.5290028036213307, 0.7505209221671176, 0.21443454919060503, 0.937745746377584, 0.17877453264946425, 0.715098130597857, 0.14289817789179787, 0.7859399784048883, 0.9692975520876315, 0.19503954107718194, 0.09751977053859097, 0.6826383937701368, 0.3066205282090502, 0.6132410564181004, 0.9441356206633534, 0.7311882880022964, 0.19941498763698995, 0.9265305641051987, 0.884234784400993, 0.6002573755135445, 0.06669526394594939, 0.13339052789189879, 0.2000857918378482, 0.04625019485962888, 0.23125097429814442, 0.41625175373665996, 0.2775011691577733, 0.9468245577108123, 0.7060419731939555, 0.17651049329848886, 0.08696568077902207, 0.2898856025967403, 0.37685128337576235, 0.26089704233706623, 0.9545592469493661, 0.15298597669350017, 0.07649298834675008, 0.6119439067740007, 0.07649298834675008, 0.1782519814650512, 0.7130079258602048, 0.6859719270678132, 0.2286573090226044, 0.8956690878645902, 0.9076156642847263, 0.6650798757485109, 0.26603195029940435, 0.8818688516227595, 0.9532776599100488, 0.8929116288908118, 0.9282429525490681, 0.9380706489578107, 0.9558183304046409, 0.9800888951547203, 0.43130557339148207, 0.48881298317701305, 0.02875370489276547, 0.02875370489276547, 0.2672550179217202, 0.6681375448043005, 0.7642490958262378, 0.15284981916524756, 0.3902761582192285, 0.5854142373288428, 0.8842386333135696, 0.13941026211275176, 0.18588034948366902, 0.13941026211275176, 0.18588034948366902, 0.37176069896733804, 0.15901775559768744, 0.6890769409233123, 0.10601183706512496, 0.63477290917793, 0.3675001053135384, 0.08247416623044733, 0.041237083115223665, 0.20618541557611833, 0.6597933298435786, 0.926527252541845, 0.5336923545415342, 0.2668461772707671, 0.08894872575692238, 0.04447436287846119, 0.04447436287846119, 0.12209644074442831, 0.030524110186107078, 0.061048220372214156, 0.39681343241939204, 0.061048220372214156, 0.061048220372214156, 0.24419288148885662, 0.1456619492996469, 0.2913238985992938, 0.3884318647990584, 0.0971079661997646, 0.0485539830998823, 0.13251131065355257, 0.13251131065355257, 0.6625565532677629, 0.48452847566388113, 0.04845284756638811, 0.436075628097493, 0.13373994600909095, 0.8024396760545458, 0.20310364616528856, 0.4569832038718993, 0.10155182308264428, 0.15232773462396643, 0.11771603406100006, 0.8240122384270004, 0.7580388265031774, 0.1516077653006355, 0.3186897094231959, 0.5311495157053265, 0.09640402738040046, 0.8676362464236042, 0.31916013100675605, 0.6383202620135121, 0.4523292253413517, 0.5088703785090207, 0.7093820245058192, 0.1773455061264548, 0.834002515406071, 0.075818410491461, 0.8826913482375497, 0.8827120309245637, 0.8827754491347352, 0.8934130355618655, 0.7074563466968035, 0.11790939111613391, 0.1781772142392103, 0.7127088569568412, 0.05084762992192122, 0.5932223490890809, 0.07627144488288183, 0.27118735958357987, 0.25460122345421454, 0.6789365958779054, 0.08486707448473818, 0.8957098028153943, 0.05881520655010624, 0.8234128917014873, 0.08822280982515937, 0.884256580669625, 0.17824570389609873, 0.7129828155843949, 0.05956533719273062, 0.17869601157819184, 0.7147840463127674, 0.9027880704268452, 0.07850331047189958, 0.12501955978329274, 0.18752933967493912, 0.18752933967493912, 0.4375684592415246, 0.6081021228642067, 0.30405106143210336, 0.08832976732397863, 0.05888651154931908, 0.17665953464795725, 0.6771948828171694, 0.09289486454707944, 0.25546087750446844, 0.06967114841030958, 0.3715794581883178, 0.1857897290941589, 0.0760575435551256, 0.5324028048858792, 0.22817263066537682, 0.0760575435551256, 0.1917719600822472, 0.13697997148731944, 0.16437596578478333, 0.13697997148731944, 0.35614792586703053, 0.45357003248658095, 0.24740183590177142, 0.28863547521873334, 0.494786241894128, 0.19030240072851076, 0.22836288087421291, 0.09515120036425538, 0.926024625281298, 0.8473428508738947, 0.10591785635923684, 0.20097721417891343, 0.13913807135463238, 0.06183914282428105, 0.20097721417891343, 0.20097721417891343, 0.20097721417891343, 0.4860307544688821, 0.14580922634066462, 0.19441230178755284, 0.14580922634066462, 0.17681864385759608, 0.7072745754303843, 0.1340218305730259, 0.1340218305730259, 0.6701091528651296, 0.6419199833934648, 0.19536695146757624, 0.13954782247684017, 0.08165735178014322, 0.40828675890071614, 0.20414337945035807, 0.32662940712057287, 0.5568340317664502, 0.046402835980537516, 0.046402835980537516, 0.13920850794161255, 0.18561134392215006, 0.2476018444466678, 0.6602715851911142, 0.5354731650409601, 0.17849105501365337, 0.2671567502831471, 0.6678918757078678, 0.652267744333769, 0.2371882706668251, 0.059297067666706275, 0.881898964263682, 0.3209366067565955, 0.641873213513191, 0.06307531646374218, 0.18922594939122653, 0.7569037975649061, 0.43426513839170544, 0.09650336408704566, 0.09650336408704566, 0.3377617743046598, 0.907746973069787, 0.6672527293571325, 0.26690109174285304, 0.17647655485605457, 0.7059062194242183, 0.1771378378513524, 0.7085513514054096, 0.40921812834162946, 0.09443495269422218, 0.4721747634711109, 0.8603139370582915, 0.0707382249274278, 0.8488586991291337, 0.06175901591271992, 0.08234535455029322, 0.06175901591271992, 0.47348578866418606, 0.06175901591271992, 0.14410437046301314, 0.10293169318786653, 0.2674984303345153, 0.6687460758362882, 0.032282354589401104, 0.22597648212580773, 0.12912941835760441, 0.09684706376820332, 0.06456470917880221, 0.322823545894011, 0.1614117729470055, 0.2895297253983852, 0.6755693592628987, 0.04869603154990803, 0.6817444416987124, 0.14608809464972408, 0.09739206309981606, 0.0709123884699904, 0.6382114962299136, 0.1418247769399808, 0.1418247769399808, 0.2570346671427632, 0.321293333928454, 0.0963880001785362, 0.0642586667856908, 0.2891640005356086, 0.069116861230787, 0.898519196000231, 0.8842793717862049, 0.7641860211685895, 0.15283720423371788, 0.7643295712049628, 0.15286591424099258, 0.17786692143537852, 0.5336007643061356, 0.29644486905896417, 0.1532280212926304, 0.7661401064631521, 0.20137743591622181, 0.03356290598603697, 0.7383839316928134, 0.04661019277780266, 0.8855936627782505, 0.15282495962521345, 0.7641247981260673, 0.9214352709176751, 0.88279515977166, 0.34665416747024674, 0.15999423114011388, 0.18665993633013286, 0.10666282076007592, 0.15999423114011388, 0.05333141038003796, 0.08479374575134722, 0.23742248810377223, 0.050876247450808335, 0.016958749150269445, 0.4070099796064667, 0.1865462406529639, 0.1527607198563108, 0.763803599281554, 0.3868032032668545, 0.48350400408356814, 0.9214183956762694, 0.8929069047915748, 0.46012196489611834, 0.5176372105081332, 0.9265024549989722, 0.053367676096237326, 0.4269414087698986, 0.2134707043849493, 0.053367676096237326, 0.16010302828871198, 0.2121071011862711, 0.7423748541519488, 0.8818830114035914, 0.10600820757456905, 0.8480656605965524, 0.19407583560300612, 0.19407583560300612, 0.1455568767022546, 0.04851895890075153, 0.38815167120601224, 0.10157076626664516, 0.4570684481999032, 0.30471229879993544, 0.10157076626664516, 0.3368589593532441, 0.017274818428371492, 0.06909927371348597, 0.19866041192627218, 0.3023093224965011, 0.05182445528511448, 0.02591222764255724, 0.9256518722506889, 0.7115167846218657, 0.2371722615406219, 0.796990072432457, 0.13283167873874283, 0.15175719821973058, 0.15175719821973058, 0.6070287928789223, 0.7137341981879736, 0.1189556996979956, 0.2865613432473582, 0.4912480169954712, 0.1228120042488678, 0.0409373347496226, 0.0409373347496226, 0.8153291420944812, 0.08153291420944811, 0.2382877372258565, 0.219224718247788, 0.41938641751750744, 0.11437811386841112, 0.23951991075688261, 0.752776862378774, 0.0989010272089384, 0.1978020544178768, 0.15824164353430142, 0.15824164353430142, 0.33626349251039056, 0.039560410883575356, 0.2761475455531465, 0.3681967274041954, 0.322172136478671, 0.13374518007561634, 0.8024710804536981, 0.32132316676521816, 0.6694232640942045, 0.13368805406190035, 0.6684402703095017, 0.08482931412268674, 0.9048460173086585, 0.08932017634762242, 0.13398026452143363, 0.7592214989547905, 0.7506810993340487, 0.21448031409544246, 0.17685738843499732, 0.7074295537399893, 0.6237272094097887, 0.08910388705854123, 0.17820777411708247, 0.9407590701859793, 0.5989236152421219, 0.13309413672047155, 0.1996412050807073, 0.06654706836023577, 0.5362665693006551, 0.42901325544052404, 0.49751860986345825, 0.10661113068502677, 0.28429634849340474, 0.03553704356167559, 0.03553704356167559, 0.1771015980329508, 0.12880116220578242, 0.06440058110289121, 0.6118055204774665, 0.7137049787183232, 0.1189508297863872, 0.7092084297530398, 0.17730210743825994, 0.17831940730564494, 0.7132776292225798, 0.7674768755967518, 0.15349537511935038, 0.2672680643035844, 0.6236254833750302, 0.15310918210434712, 0.816582304556518, 0.1515207851652577, 0.7576039258262884, 0.10635055842730316, 0.21270111685460633, 0.5317527921365158, 0.9093602074521621, 0.19450034355948245, 0.09725017177974123, 0.5835010306784474, 0.05465373894665865, 0.1093074778933173, 0.3279224336799519, 0.3279224336799519, 0.05465373894665865, 0.13663434736664662, 0.15037121255784794, 0.3626599832277509, 0.15037121255784794, 0.07076292355663431, 0.04422682722289645, 0.22113413611448224, 0.14753354716963077, 0.11065016037722307, 0.22130032075444614, 0.4794840283013, 0.07376677358481538, 0.17723672628156162, 0.17723672628156162, 0.47263127008416433, 0.17723672628156162, 0.764609667661509, 0.15292193353230177, 0.09647524624743317, 0.7718019699794654, 0.09647524624743317, 0.19549686195457766, 0.28238435615661217, 0.08688749420203452, 0.08688749420203452, 0.17377498840406905, 0.17377498840406905, 0.8551086567044671, 0.07125905472537226, 0.9383056761028831, 0.874151926230074, 0.09712799180334156, 0.9182516563394446, 0.7510076236061228, 0.10728680337230326, 0.10728680337230326, 0.03348619402408199, 0.5692652984093939, 0.03348619402408199, 0.20091716414449196, 0.16743097012040994, 0.028957958054033662, 0.20270570637823562, 0.6660330352427742, 0.08687387416210099, 0.12876344374202942, 0.38629033122608825, 0.42921147914009805, 0.7090695857912871, 0.17726739644782177, 0.09473728327785823, 0.11842160409732277, 0.07105296245839367, 0.3789491331114329, 0.3315804914725038, 0.8165246828614893, 0.08165246828614893, 0.08165246828614893, 0.23497512830554573, 0.7636691669930237, 0.6673634454911157, 0.13347268909822316, 0.1770503861648381, 0.7082015446593524, 0.8008120879021088, 0.13346868131701814, 0.386116308215362, 0.3432144961914329, 0.25741087214357466, 0.621986835166034, 0.13328289324986445, 0.1777105243331526, 0.15163961718064858, 0.10109307812043238, 0.05054653906021619, 0.10109307812043238, 0.6065584687225943, 0.6058005322437405, 0.30290026612187027, 0.04479218783974183, 0.8958437567948366, 0.2470579598363574, 0.0823526532787858, 0.5764685729515006, 0.9214067136878105, 0.6612990046492632, 0.30521492522273685, 0.8933952657496279, 0.14161997483331948, 0.07080998741665974, 0.21242996224997923, 0.4956699119166182, 0.34235325958063845, 0.34235325958063845, 0.29955910213305864, 0.9172291954965165, 0.7078763827097061, 0.17696909567742652, 0.12953107101285277, 0.3885932130385583, 0.10362485681028222, 0.07771864260771166, 0.07771864260771166, 0.20724971362056444, 0.595316792365416, 0.35719007541924963, 0.1339937378103794, 0.8039624268622765, 0.8956005494907497, 0.8911639171140715, 0.09730324967774304, 0.5838194980664583, 0.09730324967774304, 0.09730324967774304], \"Term\": [\"acero\", \"acero\", \"adapta\", \"adecuado\", \"adecuado\", \"ahora\", \"ahora\", \"ahora\", \"ahora\", \"ahora\", \"ahora\", \"ajusta\", \"ajusta\", \"ajusta\", \"alguna\", \"alguna\", \"alguna\", \"alg\\u00fan\", \"alg\\u00fan\", \"alta\", \"alta\", \"alta\", \"amazon\", \"amazon\", \"amazon\", \"amazon\", \"anillo\", \"anillo\", \"aparece\", \"aparece\", \"aparece\", \"art\\u00edculo\", \"art\\u00edculo\", \"asi\", \"asi\", \"asi\", \"as\\u00ed\", \"as\\u00ed\", \"as\\u00ed\", \"as\\u00ed\", \"as\\u00ed\", \"as\\u00ed\", \"as\\u00ed\", \"aunque\", \"aunque\", \"aunque\", \"aunque\", \"aunque\", \"azul\", \"azul\", \"a\\u00f1os\", \"a\\u00f1os\", \"baja\", \"baja\", \"bastante\", \"bastante\", \"bastante\", \"bastante\", \"bastante\", \"bastante\", \"bien\", \"bien\", \"bien\", \"bien\", \"bien\", \"bien\", \"bien\", \"bolsa\", \"bolsa\", \"bolsita\", \"bolsita\", \"bonita\", \"bonito\", \"bonito\", \"bonito\", \"bonitos\", \"botones\", \"botones\", \"botones\", \"botones\", \"botones\", \"brillo\", \"buen\", \"buen\", \"buen\", \"buena\", \"buena\", \"buena\", \"buena\", \"bueno\", \"bueno\", \"bueno\", \"bueno\", \"buenos\", \"cable\", \"cable\", \"cable\", \"cadena\", \"cadena\", \"caja\", \"caja\", \"caja\", \"caja\", \"caja\", \"caja\", \"cajita\", \"cajita\", \"calidad\", \"calidad\", \"calidad\", \"calidad\", \"calidad\", \"cambiar\", \"cargador\", \"cargador\", \"cargar\", \"cargar\", \"casa\", \"casa\", \"casa\", \"castellano\", \"castellano\", \"cerrar\", \"cerrar\", \"certificado\", \"certificado\", \"cierra\", \"cierra\", \"colgante\", \"colgante\", \"colgante\", \"collar\", \"collar\", \"collar\", \"collar\", \"color\", \"color\", \"color\", \"colores\", \"colores\", \"completo\", \"completo\", \"completo\", \"compra\", \"compra\", \"compra\", \"compra\", \"compra\", \"compra\", \"compra\", \"comprar\", \"comprar\", \"comprar\", \"compr\\u00e9\", \"compr\\u00e9\", \"compr\\u00e9\", \"compr\\u00e9\", \"condiciones\", \"condiciones\", \"condiciones\", \"consola\", \"consola\", \"consola\", \"consola\", \"consola\", \"consolas\", \"correctamente\", \"correctamente\", \"correcto\", \"correcto\", \"correcto\", \"correcto\", \"creo\", \"creo\", \"creo\", \"creo\", \"cuesta\", \"cuesta\", \"cumple\", \"cumple\", \"c\\u00f3mo\", \"c\\u00f3mo\", \"dan\", \"dan\", \"dan\", \"deber\\u00eda\", \"deber\\u00eda\", \"decir\", \"decir\", \"decir\", \"decir\", \"dedo\", \"demasiado\", \"demasiado\", \"demasiado\", \"dem\\u00e1s\", \"dem\\u00e1s\", \"dem\\u00e1s\", \"descripci\\u00f3n\", \"descripci\\u00f3n\", \"descripci\\u00f3n\", \"descripci\\u00f3n\", \"desear\", \"desear\", \"despu\\u00e9s\", \"despu\\u00e9s\", \"despu\\u00e9s\", \"detalle\", \"detalle\", \"devolverlo\", \"devolverlo\", \"devuelto\", \"devuelto\", \"dicen\", \"dicen\", \"dinero\", \"dinero\", \"dinero\", \"dise\\u00f1o\", \"divertido\", \"dorado\", \"dos\", \"dos\", \"dos\", \"dos\", \"dos\", \"dos\", \"doy\", \"doy\", \"duda\", \"duda\", \"d\\u00eda\", \"d\\u00eda\", \"d\\u00edas\", \"d\\u00edas\", \"d\\u00edas\", \"d\\u00edas\", \"edici\\u00f3n\", \"edici\\u00f3n\", \"elegante\", \"elegante\", \"elegantes\", \"empresa\", \"empresa\", \"encantado\", \"encantado\", \"encant\\u00f3\", \"enseguida\", \"enseguida\", \"enseguida\", \"entiendo\", \"entiendo\", \"entrega\", \"entregado\", \"entregado\", \"entretenido\", \"enviaron\", \"envio\", \"envio\", \"envio\", \"envio\", \"env\\u00edo\", \"env\\u00edo\", \"env\\u00edo\", \"env\\u00edo\", \"espa\\u00f1ol\", \"espa\\u00f1ola\", \"espa\\u00f1ola\", \"esperaba\", \"esperaba\", \"esperaba\", \"esperaba\", \"esperando\", \"espero\", \"espero\", \"espero\", \"espero\", \"exactamente\", \"exactamente\", \"excelente\", \"excelente\", \"excesivamente\", \"expectativas\", \"falta\", \"falta\", \"familia\", \"fatal\", \"fea\", \"fecha\", \"fina\", \"fino\", \"foto\", \"funciona\", \"funciona\", \"funciona\", \"funciona\", \"funcionan\", \"funcionan\", \"funci\\u00f3n\", \"funci\\u00f3n\", \"f\\u00e1cilmente\", \"f\\u00e1cilmente\", \"gente\", \"gracias\", \"gracias\", \"gracias\", \"gracias\", \"gracias\", \"gran\", \"gran\", \"gran\", \"grande\", \"grande\", \"grandes\", \"grandes\", \"grandes\", \"grandes\", \"gr\\u00e1ficos\", \"gusta\", \"gusta\", \"gusta\", \"gusta\", \"gusta\", \"gustado\", \"gustado\", \"gustado\", \"gustado\", \"gustado\", \"gustado\", \"gustado\", \"gusto\", \"gusto\", \"gusto\", \"gusto\", \"gusto\", \"gust\\u00f3\", \"gust\\u00f3\", \"gust\\u00f3\", \"hace\", \"hace\", \"hace\", \"hacen\", \"hacen\", \"hacer\", \"hacer\", \"hacer\", \"hacer\", \"hija\", \"hija\", \"hola\", \"hola\", \"horas\", \"horas\", \"hoy\", \"hoy\", \"ideal\", \"ideal\", \"igual\", \"igual\", \"igualmente\", \"igualmente\", \"imagen\", \"imagen\", \"ingles\", \"ingl\\u00e9s\", \"instrucciones\", \"ir\", \"italiano\", \"italiano\", \"juegazo\", \"juegazo\", \"juego\", \"juego\", \"juego\", \"juego\", \"juegos\", \"juegos\", \"juegos\", \"jugabilidad\", \"jugar\", \"jugar\", \"jugar\", \"junto\", \"largo\", \"largo\", \"llega\", \"llega\", \"llega\", \"llegado\", \"llegado\", \"llegar\", \"llegar\", \"llegar\", \"llegar\", \"llegaron\", \"llegaron\", \"llego\", \"llego\", \"llego\", \"llego\", \"lleg\\u00f3\", \"lleg\\u00f3\", \"lleg\\u00f3\", \"lleg\\u00f3\", \"lleg\\u00f3\", \"luego\", \"luego\", \"luego\", \"luego\", \"mal\", \"mal\", \"mal\", \"mal\", \"mal\", \"mala\", \"mala\", \"mala\", \"mando\", \"mando\", \"mando\", \"mando\", \"mandos\", \"manera\", \"manera\", \"mas\", \"mas\", \"mas\", \"mas\", \"mas\", \"mas\", \"material\", \"material\", \"material\", \"material\", \"media\", \"media\", \"medida\", \"medida\", \"medida\", \"mejor\", \"mejor\", \"mejor\", \"menos\", \"menos\", \"menos\", \"menos\", \"momento\", \"momento\", \"momento\", \"momento\", \"momento\", \"mujer\", \"mujer\", \"mu\\u00f1eca\", \"mu\\u00f1eca\", \"negro\", \"negro\", \"nintendo\", \"nintendo\", \"nintendo\", \"ni\\u00f1os\", \"normal\", \"normal\", \"nuevo\", \"nuevo\", \"nuevo\", \"nunca\", \"nunca\", \"nunca\", \"nunca\", \"one\", \"opci\\u00f3n\", \"opci\\u00f3n\", \"opinar\", \"opinar\", \"opini\\u00f3n\", \"opini\\u00f3n\", \"original\", \"original\", \"original\", \"pandora\", \"paquete\", \"paquete\", \"parece\", \"parece\", \"parece\", \"parece\", \"parece\", \"parece\", \"parece\", \"parecido\", \"parecido\", \"parte\", \"parte\", \"parte\", \"parte\", \"parte\", \"parte\", \"parte\", \"pc\", \"pc\", \"pedir\", \"pedir\", \"pedir\", \"pedir\", \"ped\\u00ed\", \"ped\\u00ed\", \"ped\\u00ed\", \"ped\\u00ed\", \"pena\", \"pena\", \"pena\", \"pena\", \"pena\", \"pendientes\", \"pendientes\", \"pensaba\", \"pens\\u00e9\", \"pens\\u00e9\", \"peor\", \"peor\", \"peque\\u00f1a\", \"peque\\u00f1a\", \"peque\\u00f1a\", \"peque\\u00f1as\", \"peque\\u00f1as\", \"peque\\u00f1o\", \"peque\\u00f1o\", \"peque\\u00f1o\", \"peque\\u00f1os\", \"peque\\u00f1os\", \"perdido\", \"perdido\", \"perdi\\u00f3\", \"perfecta\", \"perfectamente\", \"perfectamente\", \"perfectamente\", \"perfectamente\", \"perfectamente\", \"perfectamente\", \"perfecto\", \"perfecto\", \"perfecto\", \"perfecto\", \"perfecto\", \"perfecto\", \"perlas\", \"perlas\", \"piedra\", \"piedra\", \"piedras\", \"piel\", \"plata\", \"plata\", \"play\", \"pl\\u00e1stico\", \"pl\\u00e1stico\", \"pl\\u00e1stico\", \"pl\\u00e1stico\", \"pl\\u00e1stico\", \"poca\", \"poca\", \"pocas\", \"poder\", \"poder\", \"pone\", \"pone\", \"pone\", \"pone\", \"pone\", \"poner\", \"poner\", \"poner\", \"poner\", \"precio\", \"precio\", \"precio\", \"precio\", \"precio\", \"precio\", \"precio\", \"precioso\", \"presentaci\\u00f3n\", \"presentaci\\u00f3n\", \"previsto\", \"previsto\", \"primera\", \"primera\", \"primera\", \"pro\", \"pro\", \"problema\", \"problema\", \"problema\", \"problema\", \"problema\", \"problemas\", \"problemas\", \"producto\", \"producto\", \"producto\", \"producto\", \"ps\", \"ps\", \"puede\", \"puede\", \"puede\", \"puede\", \"puede\", \"puede\", \"puedo\", \"puedo\", \"puedo\", \"puestos\", \"puestos\", \"pulsera\", \"pulsera\", \"puse\", \"puse\", \"queda\", \"queda\", \"quedan\", \"quedan\", \"quedan\", \"quer\\u00eda\", \"quer\\u00eda\", \"rapidez\", \"rapidez\", \"rapido\", \"rapido\", \"rapido\", \"realidad\", \"recibido\", \"recibido\", \"recibido\", \"recibido\", \"recomendable\", \"recomendable\", \"recomiendo\", \"recomiendo\", \"recomiendo\", \"recomiendo\", \"recomiendo\", \"regalo\", \"regalo\", \"regalo\", \"regalo\", \"relaci\\u00f3n\", \"relaci\\u00f3n\", \"repartidor\", \"repartidor\", \"rompio\", \"rompio\", \"rosa\", \"rosa\", \"rota\", \"rota\", \"roto\", \"roto\", \"segundo\", \"segundo\", \"seguro\", \"seguro\", \"seguro\", \"seg\\u00fan\", \"semana\", \"semana\", \"semana\", \"ser\", \"ser\", \"ser\", \"ser\", \"ser\", \"ser\", \"si\", \"si\", \"si\", \"si\", \"si\", \"si\", \"sido\", \"sido\", \"sido\", \"sido\", \"sido\", \"siempre\", \"siempre\", \"siempre\", \"siempre\", \"sistema\", \"sistema\", \"sitio\", \"sitio\", \"sitio\", \"solo\", \"solo\", \"solo\", \"solo\", \"solo\", \"solo\", \"sonido\", \"sonido\", \"sony\", \"switch\", \"switch\", \"s\\u00e9\", \"s\\u00f3lo\", \"s\\u00f3lo\", \"s\\u00f3lo\", \"tal\", \"tal\", \"tal\", \"tal\", \"tal\", \"tama\\u00f1o\", \"tama\\u00f1o\", \"tama\\u00f1o\", \"tama\\u00f1o\", \"tan\", \"tan\", \"tan\", \"tenia\", \"tenia\", \"tiempo\", \"tiempo\", \"tiempo\", \"tiempo\", \"tiempo\", \"todav\\u00eda\", \"todav\\u00eda\", \"todav\\u00eda\", \"trae\", \"trae\", \"transporte\", \"transporte\", \"tra\\u00eda\", \"tra\\u00eda\", \"usb\", \"usb\", \"uso\", \"uso\", \"uso\", \"va\", \"va\", \"va\", \"vale\", \"vale\", \"vale\", \"vale\", \"vale\", \"valen\", \"valen\", \"ve\", \"ve\", \"veces\", \"veces\", \"veces\", \"ven\", \"vendedor\", \"vendedor\", \"venido\", \"ven\\u00eda\", \"ven\\u00eda\", \"ven\\u00eda\", \"ven\\u00eda\", \"verdad\", \"verdad\", \"verdad\", \"versi\\u00f3n\", \"videojuegos\", \"videojuegos\", \"viene\", \"viene\", \"viene\", \"viene\", \"viene\", \"viene\", \"visto\", \"visto\", \"volver\\u00eda\", \"volver\\u00eda\", \"xbox\", \"\\u00fanica\", \"\\u00fanico\", \"\\u00fanico\", \"\\u00fanico\", \"\\u00fanico\"]}, \"R\": 30, \"lambda.step\": 0.01, \"plot.opts\": {\"xlab\": \"PC1\", \"ylab\": \"PC2\"}, \"topic.order\": [4, 3, 5, 7, 6, 2, 1]};\n",
       "\n",
       "function LDAvis_load_lib(url, callback){\n",
       "  var s = document.createElement('script');\n",
       "  s.src = url;\n",
       "  s.async = true;\n",
       "  s.onreadystatechange = s.onload = callback;\n",
       "  s.onerror = function(){console.warn(\"failed to load library \" + url);};\n",
       "  document.getElementsByTagName(\"head\")[0].appendChild(s);\n",
       "}\n",
       "\n",
       "if(typeof(LDAvis) !== \"undefined\"){\n",
       "   // already loaded: just create the visualization\n",
       "   !function(LDAvis){\n",
       "       new LDAvis(\"#\" + \"ldavis_el747620718339015367022687893\", ldavis_el747620718339015367022687893_data);\n",
       "   }(LDAvis);\n",
       "}else if(typeof define === \"function\" && define.amd){\n",
       "   // require.js is available: use it to load d3/LDAvis\n",
       "   require.config({paths: {d3: \"https://d3js.org/d3.v5\"}});\n",
       "   require([\"d3\"], function(d3){\n",
       "      window.d3 = d3;\n",
       "      LDAvis_load_lib(\"https://cdn.jsdelivr.net/gh/bmabey/pyLDAvis@3.3.1/pyLDAvis/js/ldavis.v3.0.0.js\", function(){\n",
       "        new LDAvis(\"#\" + \"ldavis_el747620718339015367022687893\", ldavis_el747620718339015367022687893_data);\n",
       "      });\n",
       "    });\n",
       "}else{\n",
       "    // require.js not available: dynamically load d3 & LDAvis\n",
       "    LDAvis_load_lib(\"https://d3js.org/d3.v5.js\", function(){\n",
       "         LDAvis_load_lib(\"https://cdn.jsdelivr.net/gh/bmabey/pyLDAvis@3.3.1/pyLDAvis/js/ldavis.v3.0.0.js\", function(){\n",
       "                 new LDAvis(\"#\" + \"ldavis_el747620718339015367022687893\", ldavis_el747620718339015367022687893_data);\n",
       "            })\n",
       "         });\n",
       "}\n",
       "</script>"
      ],
      "text/plain": [
       "<IPython.core.display.HTML object>"
      ]
     },
     "execution_count": 16,
     "metadata": {},
     "output_type": "execute_result"
    }
   ],
   "source": [
    "lda_display = pyLDAvis.gensim_models.prepare(model, corpus, dictionary)\n",
    "pyLDAvis.display(lda_display)"
   ]
  },
  {
   "cell_type": "markdown",
   "metadata": {},
   "source": [
    "###  `[3 pts]` Preguntas\n",
    "\n",
    "- ¿Qué conclusiones puede sacar de los resultados de los últimos tres talleres, usando diferentes modelos pero los mismos datos?"
   ]
  },
  {
   "cell_type": "code",
   "execution_count": null,
   "metadata": {},
   "outputs": [],
   "source": [
    "# Los 3 modelos usados son modelos bastante poderosos. En el primer taller, se obtuvieron 2 categorías: \n",
    "# joyeria y video juegos, ya en el segundo obtuve 9 clusters disjuntos cada uno con características específicas \n",
    "# y en este último taller se obtuvieron 7 categorías, donde algunas tiene intersecciones con otras.\n",
    "# Dependiendo del problema que queramos solucionar podemos escoger alguno de los 3 modelos, que tienen\n",
    "# resultados diferentes pero importantes en todos los casos."
   ]
  }
 ],
 "metadata": {
  "kernelspec": {
   "display_name": "Python 3",
   "language": "python",
   "name": "python3"
  },
  "language_info": {
   "codemirror_mode": {
    "name": "ipython",
    "version": 3
   },
   "file_extension": ".py",
   "mimetype": "text/x-python",
   "name": "python",
   "nbconvert_exporter": "python",
   "pygments_lexer": "ipython3",
   "version": "3.8.3"
  }
 },
 "nbformat": 4,
 "nbformat_minor": 2
}
