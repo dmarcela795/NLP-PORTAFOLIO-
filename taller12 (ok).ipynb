{
 "cells": [
  {
   "cell_type": "markdown",
   "metadata": {},
   "source": [
    "<img src='https://encrypted-tbn0.gstatic.com/images?q=tbn%3AANd9GcQ-VfNtOyJbsaxu43Kztf_cv1mgBG6ZIQZEVw&usqp=CAU'>\n",
    "\n",
    "# Procesamiento de Lenguaje Natural\n",
    "\n",
    "## Taller #12: Análisis de sentimiento\n",
    "`Fecha de entrega: Mayo 27, 2021 (Antes del inicio de la próxima clase).`\n",
    "\n",
    "`Modo de entrega: Subir link de GitHub al aula virtual.`"
   ]
  },
  {
   "cell_type": "code",
   "execution_count": 2,
   "metadata": {},
   "outputs": [],
   "source": [
    "import pandas as pd \n",
    "import tweepy"
   ]
  },
  {
   "cell_type": "code",
   "execution_count": 3,
   "metadata": {},
   "outputs": [],
   "source": [
    "keys = pd.read_csv(\"keys.csv\", header=None)"
   ]
  },
  {
   "cell_type": "code",
   "execution_count": 4,
   "metadata": {},
   "outputs": [
    {
     "data": {
      "text/plain": [
       "dict_keys(['api_key', 'api_secret_key', 'access_token', 'access_token_secret', 'bearer_token'])"
      ]
     },
     "execution_count": 4,
     "metadata": {},
     "output_type": "execute_result"
    }
   ],
   "source": [
    "# Leer las llaves\n",
    "keys = dict(zip(keys[0],keys[1]))\n",
    "keys.keys()"
   ]
  },
  {
   "cell_type": "code",
   "execution_count": 5,
   "metadata": {},
   "outputs": [],
   "source": [
    "# Autenticar a través de la API \n",
    "auth = tweepy.OAuthHandler(keys['api_key'], keys['api_secret_key'])\n",
    "auth.set_access_token(keys['access_token'], keys['access_token_secret'])\n",
    "api = tweepy.API(auth, wait_on_rate_limit=True)"
   ]
  },
  {
   "cell_type": "code",
   "execution_count": 6,
   "metadata": {},
   "outputs": [],
   "source": [
    "#TEMA: COVID 19\n",
    "\n",
    "tweets = tweepy.Cursor(api.search,\n",
    "                       q=['covid 19 -RT'],\n",
    "                       lang='es',\n",
    "                       geocode=f'4.7110,-74.0721,100km',\n",
    "                       tweet_mode='extended',\n",
    "                       include_rts=False).items(100)"
   ]
  },
  {
   "cell_type": "code",
   "execution_count": 7,
   "metadata": {},
   "outputs": [],
   "source": [
    "# Objeto generador\n",
    "t = [tweet for tweet in tweets]\n",
    "#t[0]"
   ]
  },
  {
   "cell_type": "code",
   "execution_count": 8,
   "metadata": {},
   "outputs": [],
   "source": [
    "t_processed = []\n",
    "\n",
    "for tweet in t:\n",
    "    temp = []\n",
    "    temp.append(tweet.full_text)\n",
    "    temp.append(tweet.created_at)\n",
    "    temp.append(\"Bogotá\")\n",
    "    temp.append(tweet.user.location)\n",
    "    temp.append(tweet.id)\n",
    "    temp.append(f\"https://twitter.com/i/web/status/{tweet.id}\")\n",
    "    \n",
    "    t_processed.append(temp)"
   ]
  },
  {
   "cell_type": "code",
   "execution_count": 9,
   "metadata": {},
   "outputs": [
    {
     "data": {
      "text/html": [
       "<div>\n",
       "<style scoped>\n",
       "    .dataframe tbody tr th:only-of-type {\n",
       "        vertical-align: middle;\n",
       "    }\n",
       "\n",
       "    .dataframe tbody tr th {\n",
       "        vertical-align: top;\n",
       "    }\n",
       "\n",
       "    .dataframe thead th {\n",
       "        text-align: right;\n",
       "    }\n",
       "</style>\n",
       "<table border=\"1\" class=\"dataframe\">\n",
       "  <thead>\n",
       "    <tr style=\"text-align: right;\">\n",
       "      <th></th>\n",
       "      <th>tweet</th>\n",
       "      <th>date</th>\n",
       "      <th>city</th>\n",
       "      <th>user_location</th>\n",
       "      <th>id</th>\n",
       "      <th>link</th>\n",
       "    </tr>\n",
       "  </thead>\n",
       "  <tbody>\n",
       "    <tr>\n",
       "      <th>0</th>\n",
       "      <td>En Colombia, 21 millones de personas están en ...</td>\n",
       "      <td>2021-05-21 00:13:17</td>\n",
       "      <td>Bogotá</td>\n",
       "      <td>Bogotá, Colombia</td>\n",
       "      <td>1395533116291391495</td>\n",
       "      <td>https://twitter.com/i/web/status/1395533116291...</td>\n",
       "    </tr>\n",
       "    <tr>\n",
       "      <th>1</th>\n",
       "      <td>@pla219 @stevenarce Santa Fe anda igual o peor...</td>\n",
       "      <td>2021-05-21 00:12:37</td>\n",
       "      <td>Bogotá</td>\n",
       "      <td>Bogotá, D.C., Colombia</td>\n",
       "      <td>1395532950842785796</td>\n",
       "      <td>https://twitter.com/i/web/status/1395532950842...</td>\n",
       "    </tr>\n",
       "    <tr>\n",
       "      <th>2</th>\n",
       "      <td>Boyacá contará con 12 nuevas UCI\\n\\nLas camas ...</td>\n",
       "      <td>2021-05-21 00:11:25</td>\n",
       "      <td>Bogotá</td>\n",
       "      <td>Tunja - Boyacá</td>\n",
       "      <td>1395532646797697026</td>\n",
       "      <td>https://twitter.com/i/web/status/1395532646797...</td>\n",
       "    </tr>\n",
       "    <tr>\n",
       "      <th>3</th>\n",
       "      <td>🔴 URGENTE - Argentina anuncia un cierre estric...</td>\n",
       "      <td>2021-05-21 00:05:35</td>\n",
       "      <td>Bogotá</td>\n",
       "      <td>Bogotá, DC, Colombia</td>\n",
       "      <td>1395531180108222464</td>\n",
       "      <td>https://twitter.com/i/web/status/1395531180108...</td>\n",
       "    </tr>\n",
       "    <tr>\n",
       "      <th>4</th>\n",
       "      <td>¡A estos puntos solo deben asistir los mayores...</td>\n",
       "      <td>2021-05-21 00:05:08</td>\n",
       "      <td>Bogotá</td>\n",
       "      <td>Bogotá, Colombia</td>\n",
       "      <td>1395531064815276034</td>\n",
       "      <td>https://twitter.com/i/web/status/1395531064815...</td>\n",
       "    </tr>\n",
       "    <tr>\n",
       "      <th>...</th>\n",
       "      <td>...</td>\n",
       "      <td>...</td>\n",
       "      <td>...</td>\n",
       "      <td>...</td>\n",
       "      <td>...</td>\n",
       "      <td>...</td>\n",
       "    </tr>\n",
       "    <tr>\n",
       "      <th>95</th>\n",
       "      <td>A través de la resolución 524 de 2021, la ADRE...</td>\n",
       "      <td>2021-05-20 20:49:00</td>\n",
       "      <td>Bogotá</td>\n",
       "      <td>Bogotá, D.C., Colombia</td>\n",
       "      <td>1395481706312912896</td>\n",
       "      <td>https://twitter.com/i/web/status/1395481706312...</td>\n",
       "    </tr>\n",
       "    <tr>\n",
       "      <th>96</th>\n",
       "      <td>.. Eso y las inexistentes reformas que logran ...</td>\n",
       "      <td>2021-05-20 20:47:44</td>\n",
       "      <td>Bogotá</td>\n",
       "      <td>Bogotá</td>\n",
       "      <td>1395481389475278852</td>\n",
       "      <td>https://twitter.com/i/web/status/1395481389475...</td>\n",
       "    </tr>\n",
       "    <tr>\n",
       "      <th>97</th>\n",
       "      <td>La OMS recordó que todas las vacunas disponibl...</td>\n",
       "      <td>2021-05-20 20:45:03</td>\n",
       "      <td>Bogotá</td>\n",
       "      <td>Bogotá, Colombia</td>\n",
       "      <td>1395480711969259524</td>\n",
       "      <td>https://twitter.com/i/web/status/1395480711969...</td>\n",
       "    </tr>\n",
       "    <tr>\n",
       "      <th>98</th>\n",
       "      <td>@AlcaldiaBGA @JCardenasRey @vanguardiacom @LAF...</td>\n",
       "      <td>2021-05-20 20:35:08</td>\n",
       "      <td>Bogotá</td>\n",
       "      <td>Bogotá, D.C., Colombia</td>\n",
       "      <td>1395478219474751490</td>\n",
       "      <td>https://twitter.com/i/web/status/1395478219474...</td>\n",
       "    </tr>\n",
       "    <tr>\n",
       "      <th>99</th>\n",
       "      <td>En esta casa nos vamos a morir primero por ser...</td>\n",
       "      <td>2021-05-20 20:34:37</td>\n",
       "      <td>Bogotá</td>\n",
       "      <td>Bogotá, Colombia</td>\n",
       "      <td>1395478089321394177</td>\n",
       "      <td>https://twitter.com/i/web/status/1395478089321...</td>\n",
       "    </tr>\n",
       "  </tbody>\n",
       "</table>\n",
       "<p>100 rows × 6 columns</p>\n",
       "</div>"
      ],
      "text/plain": [
       "                                                tweet                date  \\\n",
       "0   En Colombia, 21 millones de personas están en ... 2021-05-21 00:13:17   \n",
       "1   @pla219 @stevenarce Santa Fe anda igual o peor... 2021-05-21 00:12:37   \n",
       "2   Boyacá contará con 12 nuevas UCI\\n\\nLas camas ... 2021-05-21 00:11:25   \n",
       "3   🔴 URGENTE - Argentina anuncia un cierre estric... 2021-05-21 00:05:35   \n",
       "4   ¡A estos puntos solo deben asistir los mayores... 2021-05-21 00:05:08   \n",
       "..                                                ...                 ...   \n",
       "95  A través de la resolución 524 de 2021, la ADRE... 2021-05-20 20:49:00   \n",
       "96  .. Eso y las inexistentes reformas que logran ... 2021-05-20 20:47:44   \n",
       "97  La OMS recordó que todas las vacunas disponibl... 2021-05-20 20:45:03   \n",
       "98  @AlcaldiaBGA @JCardenasRey @vanguardiacom @LAF... 2021-05-20 20:35:08   \n",
       "99  En esta casa nos vamos a morir primero por ser... 2021-05-20 20:34:37   \n",
       "\n",
       "      city           user_location                   id  \\\n",
       "0   Bogotá        Bogotá, Colombia  1395533116291391495   \n",
       "1   Bogotá  Bogotá, D.C., Colombia  1395532950842785796   \n",
       "2   Bogotá          Tunja - Boyacá  1395532646797697026   \n",
       "3   Bogotá    Bogotá, DC, Colombia  1395531180108222464   \n",
       "4   Bogotá        Bogotá, Colombia  1395531064815276034   \n",
       "..     ...                     ...                  ...   \n",
       "95  Bogotá  Bogotá, D.C., Colombia  1395481706312912896   \n",
       "96  Bogotá                  Bogotá  1395481389475278852   \n",
       "97  Bogotá        Bogotá, Colombia  1395480711969259524   \n",
       "98  Bogotá  Bogotá, D.C., Colombia  1395478219474751490   \n",
       "99  Bogotá        Bogotá, Colombia  1395478089321394177   \n",
       "\n",
       "                                                 link  \n",
       "0   https://twitter.com/i/web/status/1395533116291...  \n",
       "1   https://twitter.com/i/web/status/1395532950842...  \n",
       "2   https://twitter.com/i/web/status/1395532646797...  \n",
       "3   https://twitter.com/i/web/status/1395531180108...  \n",
       "4   https://twitter.com/i/web/status/1395531064815...  \n",
       "..                                                ...  \n",
       "95  https://twitter.com/i/web/status/1395481706312...  \n",
       "96  https://twitter.com/i/web/status/1395481389475...  \n",
       "97  https://twitter.com/i/web/status/1395480711969...  \n",
       "98  https://twitter.com/i/web/status/1395478219474...  \n",
       "99  https://twitter.com/i/web/status/1395478089321...  \n",
       "\n",
       "[100 rows x 6 columns]"
      ]
     },
     "execution_count": 9,
     "metadata": {},
     "output_type": "execute_result"
    }
   ],
   "source": [
    "data = pd.DataFrame(t_processed)\n",
    "data.columns = ['tweet', 'date', 'city', 'user_location', 'id', 'link']\n",
    "data"
   ]
  },
  {
   "cell_type": "markdown",
   "metadata": {},
   "source": [
    "###  `[25 pts]` Punto 1: Hacer análisis de sentimiento de los datos del anterior taller\n",
    "- Columna con el puntaje numérico del sentimiento\n",
    "- Pueden usar cualquiera de las librerias vistas en clase"
   ]
  },
  {
   "cell_type": "code",
   "execution_count": 10,
   "metadata": {},
   "outputs": [],
   "source": [
    "from textblob import TextBlob\n",
    "from vaderSentiment.vaderSentiment import SentimentIntensityAnalyzer\n",
    "vader = SentimentIntensityAnalyzer()"
   ]
  },
  {
   "cell_type": "code",
   "execution_count": 11,
   "metadata": {},
   "outputs": [
    {
     "data": {
      "text/html": [
       "<div>\n",
       "<style scoped>\n",
       "    .dataframe tbody tr th:only-of-type {\n",
       "        vertical-align: middle;\n",
       "    }\n",
       "\n",
       "    .dataframe tbody tr th {\n",
       "        vertical-align: top;\n",
       "    }\n",
       "\n",
       "    .dataframe thead th {\n",
       "        text-align: right;\n",
       "    }\n",
       "</style>\n",
       "<table border=\"1\" class=\"dataframe\">\n",
       "  <thead>\n",
       "    <tr style=\"text-align: right;\">\n",
       "      <th></th>\n",
       "      <th>tweet</th>\n",
       "      <th>sent_vader</th>\n",
       "    </tr>\n",
       "  </thead>\n",
       "  <tbody>\n",
       "    <tr>\n",
       "      <th>72</th>\n",
       "      <td>El uso del olfato de los perros para la detección de enfermos de coronavirus se ha extendido en los últimos meses en muchos países. https://t.co/vG27ttFNW2 vía @ELTIEMPO</td>\n",
       "      <td>0.3400</td>\n",
       "    </tr>\n",
       "    <tr>\n",
       "      <th>16</th>\n",
       "      <td>2. Según Yamit Noe Hurtado gerente del centro asistencial, durante la pandemia de la Covid-19 este Hospital ha aumentado en un 600% su capacidad en unidades de cuidados intensivos pues pasó de tener 18 camas UCI en marzo del 2020 a contar con 108 en mayo del 2021.</td>\n",
       "      <td>0.3400</td>\n",
       "    </tr>\n",
       "    <tr>\n",
       "      <th>26</th>\n",
       "      <td>@ClaudiaLopez Quién sabe qué gas será, y cuál exilio. Lo que sí es cierto es q  o ha tenido \"empatía\" (???) con las pequeñas empresas ni con los católicos..Los ha perseguido pretextando el  covid-19</td>\n",
       "      <td>0.6531</td>\n",
       "    </tr>\n",
       "    <tr>\n",
       "      <th>75</th>\n",
       "      <td>https://t.co/9VWxlPjAcG Para el miércoles 19 de mayo las asignaciones de Gas Natural fueron de 896 GBTUD. Para el sector No Regulado, sin incluir los consumos de gas para la generación térmica, las asignaciones de Gas Natural fueron de 529 GBTUD. https://t.co/5LrV4eYFjV</td>\n",
       "      <td>0.6931</td>\n",
       "    </tr>\n",
       "    <tr>\n",
       "      <th>34</th>\n",
       "      <td>@powerhdeleon Lo bueno es que todos están vacunados contra el COVID-19 😂😂😂</td>\n",
       "      <td>0.8271</td>\n",
       "    </tr>\n",
       "  </tbody>\n",
       "</table>\n",
       "</div>"
      ],
      "text/plain": [
       "                                                                                                                                                                                                                                                                             tweet  \\\n",
       "72                                                                                                       El uso del olfato de los perros para la detección de enfermos de coronavirus se ha extendido en los últimos meses en muchos países. https://t.co/vG27ttFNW2 vía @ELTIEMPO   \n",
       "16        2. Según Yamit Noe Hurtado gerente del centro asistencial, durante la pandemia de la Covid-19 este Hospital ha aumentado en un 600% su capacidad en unidades de cuidados intensivos pues pasó de tener 18 camas UCI en marzo del 2020 a contar con 108 en mayo del 2021.   \n",
       "26                                                                          @ClaudiaLopez Quién sabe qué gas será, y cuál exilio. Lo que sí es cierto es q  o ha tenido \"empatía\" (???) con las pequeñas empresas ni con los católicos..Los ha perseguido pretextando el  covid-19   \n",
       "75  https://t.co/9VWxlPjAcG Para el miércoles 19 de mayo las asignaciones de Gas Natural fueron de 896 GBTUD. Para el sector No Regulado, sin incluir los consumos de gas para la generación térmica, las asignaciones de Gas Natural fueron de 529 GBTUD. https://t.co/5LrV4eYFjV   \n",
       "34                                                                                                                                                                                                      @powerhdeleon Lo bueno es que todos están vacunados contra el COVID-19 😂😂😂   \n",
       "\n",
       "    sent_vader  \n",
       "72      0.3400  \n",
       "16      0.3400  \n",
       "26      0.6531  \n",
       "75      0.6931  \n",
       "34      0.8271  "
      ]
     },
     "execution_count": 11,
     "metadata": {},
     "output_type": "execute_result"
    }
   ],
   "source": [
    "pd.set_option('display.max_colwidth', None)\n",
    "\n",
    "data['sent_vader'] = data['tweet'].apply(lambda val: vader.polarity_scores(val)['compound'])\n",
    "data['sent_textblob'] = data['tweet'].apply(lambda val: TextBlob(val).sentiment.polarity)\n",
    "data[['tweet', 'sent_vader', 'sent_textblob']].head()\n",
    "\n",
    "data[['tweet', 'sent_vader']].sort_values('sent_vader').tail()"
   ]
  },
  {
   "cell_type": "markdown",
   "metadata": {},
   "source": [
    "###  `[25 pts]` Punto 2: ¿Cuál es el tuit más positivo y más negativo?"
   ]
  },
  {
   "cell_type": "code",
   "execution_count": 19,
   "metadata": {},
   "outputs": [
    {
     "data": {
      "text/plain": [
       "tweet            😷COVID-19 en Bogotá hoy🦠 \\n\\n👉🏻Mortalidad diaria aumentó: pasamos de 103 fallecidos ayer a 113 fallecidos hoy, de los 490 registrados en el país.\\n\\n👉🏻Bogotá suma 4.917 nuevos contagios. \\n\\n👉🏻Ocupación Camas UCI para Covid-19 en Bogotá bajó a 95,3%. https://t.co/GynFs75DMW\n",
       "date                                                                                                                                                                                                                                                                            2021-05-21 00:13:17\n",
       "city                                                                                                                                                                                                                                                                                         Bogotá\n",
       "user_location                                                                                                                                                                                                                                                                   Villavicencio- Meta\n",
       "id                                                                                                                                                                                                                                                                              1395533116291391495\n",
       "link                                                                                                                                                                                                                                           https://twitter.com/i/web/status/1395533116291391495\n",
       "sent_vader                                                                                                                                                                                                                                                                                   0.8271\n",
       "sent_textblob                                                                                                                                                                                                                                                                                 0.375\n",
       "dtype: object"
      ]
     },
     "execution_count": 19,
     "metadata": {},
     "output_type": "execute_result"
    }
   ],
   "source": [
    "# Más positivo\n",
    "maxs = data.max()\n",
    "maxs"
   ]
  },
  {
   "cell_type": "code",
   "execution_count": 20,
   "metadata": {},
   "outputs": [
    {
     "data": {
      "text/plain": [
       "tweet            #ATENCION : Colombia no realizará la #CopaAmerica2021 El Covid-19 y la situación que vive el país le quita la posibilidad de realizar el certamen deportivo más importante del continente. #ParoNacional  https://t.co/dOgT9hB2qN\n",
       "date                                                                                                                                                                                                                           2021-05-20 20:34:37\n",
       "city                                                                                                                                                                                                                                        Bogotá\n",
       "user_location                                                                                                                                                                                                                                     \n",
       "id                                                                                                                                                                                                                             1395478089321394177\n",
       "link                                                                                                                                                                                          https://twitter.com/i/web/status/1395478089321394177\n",
       "sent_vader                                                                                                                                                                                                                                 -0.8271\n",
       "sent_textblob                                                                                                                                                                                                                                 -1.0\n",
       "dtype: object"
      ]
     },
     "execution_count": 20,
     "metadata": {},
     "output_type": "execute_result"
    }
   ],
   "source": [
    "#Más negativo\n",
    "min = data.min()\n",
    "min"
   ]
  },
  {
   "cell_type": "code",
   "execution_count": null,
   "metadata": {},
   "outputs": [],
   "source": []
  }
 ],
 "metadata": {
  "kernelspec": {
   "display_name": "Python 3",
   "language": "python",
   "name": "python3"
  },
  "language_info": {
   "codemirror_mode": {
    "name": "ipython",
    "version": 3
   },
   "file_extension": ".py",
   "mimetype": "text/x-python",
   "name": "python",
   "nbconvert_exporter": "python",
   "pygments_lexer": "ipython3",
   "version": "3.8.3"
  }
 },
 "nbformat": 4,
 "nbformat_minor": 2
}
