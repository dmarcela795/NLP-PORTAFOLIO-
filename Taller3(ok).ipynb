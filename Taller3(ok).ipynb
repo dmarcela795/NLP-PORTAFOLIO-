{
 "cells": [
  {
   "cell_type": "markdown",
   "metadata": {},
   "source": [
    "<img src='https://encrypted-tbn0.gstatic.com/images?q=tbn%3AANd9GcQ-VfNtOyJbsaxu43Kztf_cv1mgBG6ZIQZEVw&usqp=CAU'>\n",
    "\n",
    "# Procesamiento de Lenguage Natural\n",
    "\n",
    "## Taller #3: Web Scraping\n",
    "`Fecha de entrega: Marzo 10, 2021. (Antes del inicio de la próxima clase).`"
   ]
  },
  {
   "cell_type": "markdown",
   "metadata": {},
   "source": [
    "# Punto 1:\n",
    "\n",
    "- `[15 pts]` Hacer Web Scraping de 10 animales en Wikipedia (en búcle)\n",
    "- `[10 pts]` Obtener el **encabezado** de cada animal\n",
    "- `[15 pts]` Obtener todos los **textos** que están en las etiquetas de negrilla."
   ]
  },
  {
   "cell_type": "code",
   "execution_count": null,
   "metadata": {},
   "outputs": [],
   "source": [
    "# WEB SCRAPING DE 10 ANIMALES Y ENCABEZADOS"
   ]
  },
  {
   "cell_type": "code",
   "execution_count": 321,
   "metadata": {},
   "outputs": [],
   "source": [
    "import bs4 as bs \n",
    "import urllib.request"
   ]
  },
  {
   "cell_type": "code",
   "execution_count": 322,
   "metadata": {},
   "outputs": [],
   "source": [
    "link = ['https://es.wikipedia.org/wiki/Felis_silvestris_catus','https://es.wikipedia.org/wiki/Canis_familiaris',\n",
    "        'https://es.wikipedia.org/wiki/Panthera_leo','https://es.wikipedia.org/wiki/Panthera_tigris',\n",
    "        'https://es.wikipedia.org/wiki/Serpentes','https://es.wikipedia.org/wiki/Testudines','https://es.wikipedia.org/wiki/Selachimorpha',\n",
    "        'https://es.wikipedia.org/wiki/Balaenidae','https://es.wikipedia.org/wiki/Gallus_gallus_domesticus',\n",
    "        'https://es.wikipedia.org/wiki/Mus_(animal)']"
   ]
  },
  {
   "cell_type": "code",
   "execution_count": 323,
   "metadata": {},
   "outputs": [
    {
     "name": "stdout",
     "output_type": "stream",
     "text": [
      "Felis silvestris catus\n",
      "Canis familiaris\n",
      "Panthera leo\n",
      "Panthera tigris\n",
      "Serpentes\n",
      "Testudines\n",
      "Selachimorpha\n",
      "Balaenidae\n",
      "Gallus gallus domesticus\n",
      "Mus (animal)\n"
     ]
    }
   ],
   "source": [
    "for m in link:\n",
    "    \n",
    "    request = urllib.request.Request(m, headers={'User-Agent': 'Mozilla/5.0'})\n",
    "    webpage = urllib.request.urlopen(request)\n",
    "    source = webpage.read()\n",
    "    webpage.close()\n",
    "    soup = bs.BeautifulSoup(source, 'html.parser')\n",
    "    encabezado=(soup.find(\"h1\").text)\n",
    "    \n",
    "    print(encabezado)"
   ]
  },
  {
   "cell_type": "code",
   "execution_count": 301,
   "metadata": {},
   "outputs": [],
   "source": [
    "# TEXTOS QUE ESTÁN EN LA ETIQUETAS DE NEGRILLAS"
   ]
  },
  {
   "cell_type": "code",
   "execution_count": 324,
   "metadata": {},
   "outputs": [
    {
     "name": "stdout",
     "output_type": "stream",
     "text": [
      "gato doméstico\n",
      "Felis silvestris catus\n",
      "gato\n",
      "minino\n",
      "michino\n",
      "michi\n",
      "micho\n",
      "mizo\n",
      "miz\n",
      "morroño\n",
      "morrongo\n",
      "perro\n",
      "Canis familiaris\n",
      "Canis lupus familiaris\n",
      "perro doméstico\n",
      "can\n",
      "chucho\n",
      "tuso\n",
      "choco\n",
      "león\n",
      "Panthera leo\n",
      "tigre\n",
      "Panthera tigris\n",
      "serpientes\n",
      "Serpentes\n",
      "ofidios\n",
      "Ophidia\n",
      "tortugas\n",
      "quelonios\n",
      "Testudines\n",
      "selaquimorfos\n",
      "selacimorfos\n",
      "Selachimorpha\n",
      "tiburones\n",
      "escualos\n",
      "jaquetones\n",
      "balénidos\n",
      "Balaenidae\n",
      "ballena\n",
      "gallo\n",
      "gallina\n",
      "Gallus gallus domesticus\n",
      "gallo\n",
      "gallina\n",
      "pollo\n",
      "Mus\n",
      "ratones\n"
     ]
    }
   ],
   "source": [
    "for s in link:\n",
    "    \n",
    "    request = urllib.request.Request(s, headers={'User-Agent': 'Mozilla/5.0'})\n",
    "    webpage = urllib.request.urlopen(request)\n",
    "    source = webpage.read()\n",
    "    webpage.close()\n",
    "    soup = bs.BeautifulSoup(source, 'html.parser')\n",
    "    e1=(soup.find(\"p\").find_all('b'))\n",
    "       \n",
    "    for k in e1:\n",
    "        print (k.text)\n",
    "    "
   ]
  },
  {
   "cell_type": "code",
   "execution_count": 20,
   "metadata": {},
   "outputs": [
    {
     "name": "stdout",
     "output_type": "stream",
     "text": [
      "Encabezado: Felis silvestris catus\n"
     ]
    }
   ],
   "source": []
  },
  {
   "cell_type": "code",
   "execution_count": 23,
   "metadata": {},
   "outputs": [
    {
     "name": "stdout",
     "output_type": "stream",
     "text": [
      "gato doméstico\n",
      "Felis silvestris catus\n",
      "gato\n",
      "minino\n",
      "michino\n",
      "michi\n",
      "micho\n",
      "mizo\n",
      "miz\n",
      "morroño\n",
      "morrongo\n"
     ]
    }
   ],
   "source": []
  },
  {
   "cell_type": "markdown",
   "metadata": {},
   "source": [
    "# Punto 2:\n",
    "- `[10 pts]` Usando regex, reemplazar todas las tíldes del punto anterior por un asterisco (¡Ojo, los espacios se quedan!)\n"
   ]
  },
  {
   "cell_type": "code",
   "execution_count": null,
   "metadata": {},
   "outputs": [],
   "source": [
    "# REEMPLAZO DE TILDES Y OTROS CARÁCTERES"
   ]
  },
  {
   "cell_type": "code",
   "execution_count": 325,
   "metadata": {},
   "outputs": [],
   "source": [
    "import re"
   ]
  },
  {
   "cell_type": "code",
   "execution_count": 326,
   "metadata": {},
   "outputs": [],
   "source": [
    "patron = \"[äÄëËïÏöÖüÜáéíóúáéíóúÁÉÍÓÚÂÊÎÔÛâêîôûàèìòùÀÈÌÒÙñ.-]\" "
   ]
  },
  {
   "cell_type": "code",
   "execution_count": 327,
   "metadata": {},
   "outputs": [
    {
     "name": "stdout",
     "output_type": "stream",
     "text": [
      "gato dom*stico\n",
      "Felis silvestris catus\n",
      "gato\n",
      "minino\n",
      "michino\n",
      "michi\n",
      "micho\n",
      "mizo\n",
      "miz\n",
      "morro*o\n",
      "morrongo\n",
      "perro\n",
      "Canis familiaris\n",
      "Canis lupus familiaris\n",
      "perro dom*stico\n",
      "can\n",
      "chucho\n",
      "tuso\n",
      "choco\n",
      "le*n\n",
      "Panthera leo\n",
      "tigre\n",
      "Panthera tigris\n",
      "serpientes\n",
      "Serpentes\n",
      "ofidios\n",
      "Ophidia\n",
      "tortugas\n",
      "quelonios\n",
      "Testudines\n",
      "selaquimorfos\n",
      "selacimorfos\n",
      "Selachimorpha\n",
      "tiburones\n",
      "escualos\n",
      "jaquetones\n",
      "bal*nidos\n",
      "Balaenidae\n",
      "ballena\n",
      "gallo\n",
      "gallina\n",
      "Gallus gallus domesticus\n",
      "gallo\n",
      "gallina\n",
      "pollo\n",
      "Mus\n",
      "ratones\n"
     ]
    }
   ],
   "source": [
    "for s in link:\n",
    "    \n",
    "    request = urllib.request.Request(s, headers={'User-Agent': 'Mozilla/5.0'})\n",
    "    webpage = urllib.request.urlopen(request)\n",
    "    source = webpage.read()\n",
    "    webpage.close()\n",
    "    soup = bs.BeautifulSoup(source, 'html.parser')\n",
    "    e1=(soup.find(\"p\").find_all('b'))\n",
    "       \n",
    "    for k in e1:\n",
    "        print(re.sub(patron,'*',k.text))\n",
    "        "
   ]
  },
  {
   "cell_type": "code",
   "execution_count": 39,
   "metadata": {},
   "outputs": [
    {
     "name": "stdout",
     "output_type": "stream",
     "text": [
      "gato dom*stico\n",
      "Felis silvestris catus\n",
      "gato\n",
      "minino\n",
      "michino\n",
      "michi\n",
      "micho\n",
      "mizo\n",
      "miz\n",
      "morro*o\n",
      "morrongo\n"
     ]
    }
   ],
   "source": []
  }
 ],
 "metadata": {
  "kernelspec": {
   "display_name": "Python 3",
   "language": "python",
   "name": "python3"
  },
  "language_info": {
   "codemirror_mode": {
    "name": "ipython",
    "version": 3
   },
   "file_extension": ".py",
   "mimetype": "text/x-python",
   "name": "python",
   "nbconvert_exporter": "python",
   "pygments_lexer": "ipython3",
   "version": "3.8.3"
  }
 },
 "nbformat": 4,
 "nbformat_minor": 2
}
